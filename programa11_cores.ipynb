{
 "cells": [
  {
   "cell_type": "code",
   "execution_count": 54,
   "metadata": {},
   "outputs": [],
   "source": [
    "# -*- coding: utf-8\n",
    "# Transparency International - Brazil (https://transparenciainternacional.org.br)\n",
    "# Reinaldo Chaves (@paidatocandeira)\n",
    "# Padroniza base e cria coluna de cores\n",
    "#"
   ]
  },
  {
   "cell_type": "code",
   "execution_count": null,
   "metadata": {},
   "outputs": [],
   "source": []
  },
  {
   "cell_type": "code",
   "execution_count": null,
   "metadata": {},
   "outputs": [],
   "source": [
    "import pandas as pd\n",
    "import unidecode\n",
    "import math"
   ]
  },
  {
   "cell_type": "code",
   "execution_count": 55,
   "metadata": {},
   "outputs": [],
   "source": [
    "# número atual 8263"
   ]
  },
  {
   "cell_type": "code",
   "execution_count": null,
   "metadata": {},
   "outputs": [],
   "source": []
  },
  {
   "cell_type": "code",
   "execution_count": 80,
   "metadata": {},
   "outputs": [],
   "source": [
    "consolidado = pd.read_excel('resultados/consolidado/planilhacompleta_consolidade_6out_parcial.xlsx',sheet_name='Sheet1', converters={'cpf': lambda x: str(x),  \n",
    "                                                                                              'numero_urna': lambda x: str(x)   \n",
    "                                                                                                  })"
   ]
  },
  {
   "cell_type": "code",
   "execution_count": 81,
   "metadata": {},
   "outputs": [],
   "source": [
    "consolidado = consolidado.drop_duplicates(['cpf'], keep='last')"
   ]
  },
  {
   "cell_type": "code",
   "execution_count": 82,
   "metadata": {},
   "outputs": [
    {
     "name": "stdout",
     "output_type": "stream",
     "text": [
      "<class 'pandas.core.frame.DataFrame'>\n",
      "Int64Index: 8263 entries, 0 to 8282\n",
      "Data columns (total 31 columns):\n",
      "uf                              8263 non-null object\n",
      "cargo                           8263 non-null object\n",
      "numero_urna                     8263 non-null object\n",
      "nome_completo                   8263 non-null object\n",
      "nome_urna                       8263 non-null object\n",
      "cpf                             8263 non-null object\n",
      "e_mail_tse                      8263 non-null object\n",
      "partido_eleicao                 8263 non-null object\n",
      "data_nascimento                 8263 non-null object\n",
      "ocupacao_tse                    8263 non-null object\n",
      "total_bens                      8263 non-null object\n",
      "detalhes_bens                   8263 non-null object\n",
      "resumo_stf                      0 non-null float64\n",
      "total_inqueritos                8243 non-null object\n",
      "total_acoes_penais              0 non-null float64\n",
      "detalhes_processos              0 non-null float64\n",
      "reu_no_stf                      37 non-null object\n",
      "passado_limpo                   8263 non-null object\n",
      "e_mail_survey                   688 non-null object\n",
      "ocupacao_survey                 688 non-null object\n",
      "site_candidato                  368 non-null object\n",
      "url_facebook                    667 non-null object\n",
      "url_twitter                     340 non-null object\n",
      "url_instagram                   543 non-null object\n",
      "url_youtube                     295 non-null object\n",
      "financiamento_coletivo          292 non-null object\n",
      "processos_primeira_instancia    8263 non-null object\n",
      "detalhes_processos_survey       8243 non-null object\n",
      "aderiu_totalmente_medidas       8263 non-null object\n",
      "justificativa_adesao_medidas    8248 non-null object\n",
      "pacto                           8263 non-null object\n",
      "dtypes: float64(3), object(28)\n",
      "memory usage: 2.0+ MB\n"
     ]
    }
   ],
   "source": [
    "consolidado.info()"
   ]
  },
  {
   "cell_type": "code",
   "execution_count": 83,
   "metadata": {},
   "outputs": [],
   "source": [
    "def compara(linha):\n",
    "    ocupacao = linha['ocupacao_tse']\n",
    "    if ocupacao == 'DEPUTADO' or ocupacao == 'SENADOR':\n",
    "        reeleicao = 'SIM'\n",
    "    else:\n",
    "        reeleicao = 'NÃO'\n",
    "    \n",
    "    return reeleicao"
   ]
  },
  {
   "cell_type": "code",
   "execution_count": 84,
   "metadata": {},
   "outputs": [],
   "source": [
    "nova = consolidado.apply(compara, axis=1) #lê dataframe e chama a função\n",
    "\n",
    "consolidado['tenta_reeleicao'] = nova"
   ]
  },
  {
   "cell_type": "code",
   "execution_count": 85,
   "metadata": {},
   "outputs": [
    {
     "name": "stdout",
     "output_type": "stream",
     "text": [
      "<class 'pandas.core.frame.DataFrame'>\n",
      "Int64Index: 8263 entries, 0 to 8282\n",
      "Data columns (total 32 columns):\n",
      "uf                              8263 non-null object\n",
      "cargo                           8263 non-null object\n",
      "numero_urna                     8263 non-null object\n",
      "nome_completo                   8263 non-null object\n",
      "nome_urna                       8263 non-null object\n",
      "cpf                             8263 non-null object\n",
      "e_mail_tse                      8263 non-null object\n",
      "partido_eleicao                 8263 non-null object\n",
      "data_nascimento                 8263 non-null object\n",
      "ocupacao_tse                    8263 non-null object\n",
      "total_bens                      8263 non-null object\n",
      "detalhes_bens                   8263 non-null object\n",
      "resumo_stf                      0 non-null float64\n",
      "total_inqueritos                8243 non-null object\n",
      "total_acoes_penais              0 non-null float64\n",
      "detalhes_processos              0 non-null float64\n",
      "reu_no_stf                      37 non-null object\n",
      "passado_limpo                   8263 non-null object\n",
      "e_mail_survey                   688 non-null object\n",
      "ocupacao_survey                 688 non-null object\n",
      "site_candidato                  368 non-null object\n",
      "url_facebook                    667 non-null object\n",
      "url_twitter                     340 non-null object\n",
      "url_instagram                   543 non-null object\n",
      "url_youtube                     295 non-null object\n",
      "financiamento_coletivo          292 non-null object\n",
      "processos_primeira_instancia    8263 non-null object\n",
      "detalhes_processos_survey       8243 non-null object\n",
      "aderiu_totalmente_medidas       8263 non-null object\n",
      "justificativa_adesao_medidas    8248 non-null object\n",
      "pacto                           8263 non-null object\n",
      "tenta_reeleicao                 8263 non-null object\n",
      "dtypes: float64(3), object(29)\n",
      "memory usage: 2.1+ MB\n"
     ]
    }
   ],
   "source": [
    "consolidado.info()"
   ]
  },
  {
   "cell_type": "code",
   "execution_count": null,
   "metadata": {},
   "outputs": [],
   "source": []
  },
  {
   "cell_type": "code",
   "execution_count": 86,
   "metadata": {},
   "outputs": [],
   "source": [
    "#def limpa1(linha):\n",
    "#    ocupacao = linha['ocupacao_survey']\n",
    "#    if ocupacao == '' or (isinstance(ocupacao, float) and math.isnan(ocupacao)):\n",
    "#        conteudo = 'SEM INFORMAÇÕES'\n",
    "#    else:\n",
    "#        conteudo = ocupacao\n",
    "#    \n",
    "#    return conteudo\n",
    "\n",
    "#def limpa2(linha):\n",
    "#    site = linha['site_candidato']\n",
    "#    if site == '' or (isinstance(site, float) and math.isnan(site)):\n",
    "#        conteudo = 'SEM INFORMAÇÕES'\n",
    "#    else:\n",
    "#        conteudo = site\n",
    "#    \n",
    "#    return conteudo\n",
    "\n",
    "#def limpa3(linha):\n",
    "#    face = linha['url_facebook']\n",
    "#    if face == '' or (isinstance(face, float) and math.isnan(face)):\n",
    "#        conteudo = 'SEM INFORMAÇÕES'\n",
    "#    else:\n",
    "#        conteudo = face\n",
    "#    \n",
    "#    return conteudo\n",
    "\n",
    "#def limpa4(linha):\n",
    "#    twitter = linha['url_twitter']\n",
    "#    if twitter == '' or (isinstance(twitter, float) and math.isnan(twitter)):\n",
    "#        conteudo = 'SEM INFORMAÇÕES'\n",
    "#    else:\n",
    "#        conteudo = twitter\n",
    "#    \n",
    "#    return conteudo\n",
    "\n",
    "#def limpa5(linha):\n",
    "#    instagram = linha['url_instagram']\n",
    "#    if instagram == '' or (isinstance(instagram, float) and math.isnan(instagram)):\n",
    "#        conteudo = 'SEM INFORMAÇÕES'\n",
    "#    else:\n",
    "#        conteudo = instagram\n",
    "#    \n",
    "#    return conteudo\n",
    "\n",
    "#def limpa6(linha):\n",
    "#    youtube = linha['url_youtube']\n",
    "#    if youtube == '' or (isinstance(youtube, float) and math.isnan(youtube)):\n",
    "#        conteudo = 'SEM INFORMAÇÕES'\n",
    "#    else:\n",
    "#        conteudo = youtube\n",
    "#    \n",
    "#    return conteudo\n",
    "\n",
    "#def limpa7(linha):\n",
    "#    financiamento = linha['financiamento_coletivo']\n",
    "#    if financiamento == '' or (isinstance(financiamento, float) and math.isnan(financiamento)):\n",
    "#        conteudo = 'SEM INFORMAÇÕES'\n",
    "#    else:\n",
    "#        conteudo = financiamento\n",
    "    \n",
    "#    return conteudo\n",
    "\n",
    "\n",
    "\n",
    "def limpa8(linha):\n",
    "    justificativa = linha['justificativa_adesao_medidas']\n",
    "    medidas = linha['aderiu_totalmente_medidas']\n",
    "    if justificativa == '' or (isinstance(justificativa, float) and math.isnan(justificativa)):\n",
    "        if medidas == 'SIM':\n",
    "            conteudo = 'Sim. Assinalou apoio integral e não fez ressalvas'\n",
    "        else:\n",
    "            conteudo = 'SEM INFORMAÇÕES'\n",
    "    else:\n",
    "        conteudo = justificativa\n",
    "    \n",
    "    return conteudo\n",
    "\n",
    "#def limpa20(linha):\n",
    "#    email = linha['e_mail_survey']\n",
    "#    if email == '' or (isinstance(email, float) and math.isnan(email)):\n",
    "#        conteudo = 'SEM INFORMAÇÕES'\n",
    "#    else:\n",
    "#        conteudo = email\n",
    "#    \n",
    "#    return conteudo"
   ]
  },
  {
   "cell_type": "code",
   "execution_count": 87,
   "metadata": {},
   "outputs": [],
   "source": [
    "consolidado['justificativa_adesao_medidas'] = consolidado['justificativa_adesao_medidas'].str[:500]"
   ]
  },
  {
   "cell_type": "code",
   "execution_count": 88,
   "metadata": {},
   "outputs": [],
   "source": [
    "#consolidado['ocupacao_survey'] = consolidado.apply(limpa1, axis=1)\n",
    "#consolidado['site_candidato'] = consolidado.apply(limpa2, axis=1)\n",
    "#consolidado['url_facebook'] = consolidado.apply(limpa3, axis=1)\n",
    "#consolidado['url_twitter'] = consolidado.apply(limpa4, axis=1)\n",
    "#consolidado['url_instagram'] = consolidado.apply(limpa5, axis=1)\n",
    "#consolidado['url_youtube'] = consolidado.apply(limpa6, axis=1)\n",
    "#consolidado['financiamento_coletivo'] = consolidado.apply(limpa7, axis=1)\n",
    "consolidado['justificativa_adesao_medidas'] = consolidado.apply(limpa8, axis=1)\n",
    "#consolidado['e_mail_survey'] = consolidado.apply(limpa20, axis=1)"
   ]
  },
  {
   "cell_type": "code",
   "execution_count": 89,
   "metadata": {},
   "outputs": [],
   "source": [
    "#consolidado['ocupacao_survey'].value_counts()"
   ]
  },
  {
   "cell_type": "code",
   "execution_count": null,
   "metadata": {},
   "outputs": [],
   "source": []
  },
  {
   "cell_type": "code",
   "execution_count": 90,
   "metadata": {},
   "outputs": [],
   "source": [
    "def limpa9(linha):\n",
    "    passado = linha['passado_limpo']\n",
    "    if passado == '' or (isinstance(passado, float) and math.isnan(passado)):\n",
    "        conteudo = 'SEM RESPOSTA'\n",
    "    else:\n",
    "        conteudo = passado\n",
    "    \n",
    "    return conteudo\n",
    "\n",
    "def limpa10(linha):\n",
    "    processo = linha['processos_primeira_instancia']\n",
    "    if processo == '' or (isinstance(processo, float) and math.isnan(processo)):\n",
    "        conteudo = 'SEM RESPOSTA'\n",
    "    else:\n",
    "        conteudo = processo\n",
    "    \n",
    "    return conteudo\n",
    "\n",
    "def limpa11(linha):\n",
    "    detalhesp = linha['detalhes_processos_survey']\n",
    "    if detalhesp == '' or (isinstance(detalhesp, float) and math.isnan(detalhesp)):\n",
    "        conteudo = 'SEM RESPOSTA'\n",
    "    else:\n",
    "        conteudo = detalhesp\n",
    "    \n",
    "    return conteudo\n",
    "\n",
    "def limpa12(linha):\n",
    "    medidas = linha['aderiu_totalmente_medidas']\n",
    "    if medidas == '' or (isinstance(medidas, float) and math.isnan(medidas)):\n",
    "        conteudo = 'SEM RESPOSTA'\n",
    "    else:\n",
    "        conteudo = medidas\n",
    "    \n",
    "    return conteudo\n",
    "\n",
    "def limpa13(linha):\n",
    "    justificativa = linha['justificativa_adesao_medidas']\n",
    "    if justificativa == '' or (isinstance(justificativa, float) and math.isnan(justificativa)):\n",
    "        conteudo = 'SEM RESPOSTA'\n",
    "    else:\n",
    "        conteudo = justificativa\n",
    "    \n",
    "    return conteudo\n",
    "\n",
    "def limpa14(linha):\n",
    "    pacto = linha['pacto']\n",
    "    if pacto == '' or (isinstance(pacto, float) and math.isnan(pacto)):\n",
    "        conteudo = 'SEM RESPOSTA'\n",
    "    else:\n",
    "        conteudo = pacto\n",
    "    \n",
    "    return conteudo"
   ]
  },
  {
   "cell_type": "code",
   "execution_count": 91,
   "metadata": {},
   "outputs": [],
   "source": [
    "consolidado['passado_limpo'] = consolidado.apply(limpa9, axis=1)\n",
    "consolidado['processos_primeira_instancia'] = consolidado.apply(limpa10, axis=1)\n",
    "consolidado['detalhes_processos_survey'] = consolidado.apply(limpa11, axis=1)\n",
    "consolidado['aderiu_totalmente_medidas'] = consolidado.apply(limpa12, axis=1)\n",
    "consolidado['justificativa_adesao_medidas'] = consolidado.apply(limpa13, axis=1)\n",
    "consolidado['pacto'] = consolidado.apply(limpa14, axis=1)"
   ]
  },
  {
   "cell_type": "code",
   "execution_count": null,
   "metadata": {},
   "outputs": [],
   "source": []
  },
  {
   "cell_type": "code",
   "execution_count": 92,
   "metadata": {},
   "outputs": [],
   "source": [
    "#def limpa15(linha):\n",
    "#    nome = linha['total_inqueritos']\n",
    "#    if nome == '' or (isinstance(nome, float) and math.isnan(nome)):\n",
    "#        conteudo = ''\n",
    "#    else:\n",
    "#        conteudo = nome\n",
    "#    \n",
    "#    return conteudo\n",
    "\n",
    "def limpa16(linha):\n",
    "    nome = linha['total_acoes_penais']\n",
    "    if nome == '' or (isinstance(nome, float) and math.isnan(nome)):\n",
    "        conteudo = ''\n",
    "    else:\n",
    "        conteudo = nome\n",
    "    \n",
    "    return conteudo\n",
    "\n",
    "def limpa17(linha):\n",
    "    nome = linha['detalhes_processos']\n",
    "    if nome == '' or (isinstance(nome, float) and math.isnan(nome)):\n",
    "        conteudo = ''\n",
    "    else:\n",
    "        conteudo = nome\n",
    "    return conteudo\n",
    "\n",
    "def limpa18(linha):\n",
    "    nome = linha['reu_no_stf']\n",
    "    if nome == '' or (isinstance(nome, float) and math.isnan(nome)):\n",
    "        conteudo = ''\n",
    "    elif nome == 'NÃO':\n",
    "        conteudo = ''\n",
    "    elif nome == 'Em análise':\n",
    "        conteudo = ''\n",
    "    else:\n",
    "        conteudo = nome\n",
    "    return conteudo"
   ]
  },
  {
   "cell_type": "code",
   "execution_count": 93,
   "metadata": {},
   "outputs": [],
   "source": [
    "#consolidado['total_inqueritos'] = consolidado.apply(limpa15, axis=1)\n",
    "consolidado['total_acoes_penais'] = consolidado.apply(limpa16, axis=1)\n",
    "consolidado['detalhes_processos'] = consolidado.apply(limpa17, axis=1)\n",
    "consolidado['reu_no_stf'] = consolidado.apply(limpa18, axis=1)"
   ]
  },
  {
   "cell_type": "code",
   "execution_count": null,
   "metadata": {},
   "outputs": [],
   "source": []
  },
  {
   "cell_type": "code",
   "execution_count": 94,
   "metadata": {},
   "outputs": [],
   "source": [
    "def limpa19(linha):\n",
    "    nome = linha['total_bens']\n",
    "    if nome == '' or (isinstance(nome, float) and math.isnan(nome)):\n",
    "        conteudo = 'SEM INFORMAÇÕES'\n",
    "    else:\n",
    "        conteudo = nome\n",
    "    \n",
    "    return conteudo"
   ]
  },
  {
   "cell_type": "code",
   "execution_count": 95,
   "metadata": {},
   "outputs": [],
   "source": [
    "consolidado['total_bens'] = consolidado.apply(limpa19, axis=1)"
   ]
  },
  {
   "cell_type": "code",
   "execution_count": null,
   "metadata": {},
   "outputs": [],
   "source": []
  },
  {
   "cell_type": "markdown",
   "metadata": {},
   "source": [
    "Rotinas para réus"
   ]
  },
  {
   "cell_type": "code",
   "execution_count": 96,
   "metadata": {},
   "outputs": [],
   "source": [
    "# 01266637699 foi retirado porque deixou de ser réu\n",
    "\n",
    "def reus1(linha):\n",
    "    cpf = linha['cpf']\n",
    "    passado = linha['passado_limpo']\n",
    "    if cpf == '57785368791' or cpf == '38108216753' or cpf == '02621380425' or cpf == '26404222272':\n",
    "        conteudo = \"CONDENADO\"\n",
    "    elif cpf == '43196926168' or cpf == '79401546720':\n",
    "        conteudo = \"RÉ\"\n",
    "    elif cpf == '55686176515' or cpf == '04240952387' or cpf == '33155623420' or cpf == '12534773453' or cpf == '45360707968' or cpf == '66728983791' or cpf == '37625942015' or cpf == '00834939134' or cpf == '77548981872' or cpf == '53467108415'     or cpf == '76808742715' or cpf == '24106305968' or cpf == '00018031234' or cpf == '00441392415' or cpf == '29446376068'     or cpf == '04064992172' or cpf == '05017868488' or cpf == '28925491168' or cpf == '07409419504' or cpf == '41864883634'      or cpf == '08781460910' or cpf == '10744096200' or cpf == '34577521172' or cpf == '68642725915' or cpf == '21006768904' or cpf == '06015530553'    or cpf == '09582819472' or cpf == '09604332287' or cpf == '13512951287' or cpf == '34347364920' or cpf == '32247753191'     or cpf == '62929399368':\n",
    "        conteudo = 'RÉU'\n",
    "    else:\n",
    "        conteudo = passado\n",
    "    \n",
    "    return conteudo"
   ]
  },
  {
   "cell_type": "code",
   "execution_count": 97,
   "metadata": {},
   "outputs": [],
   "source": [
    "consolidado['passado_limpo'] = consolidado.apply(reus1, axis=1)"
   ]
  },
  {
   "cell_type": "code",
   "execution_count": null,
   "metadata": {},
   "outputs": [],
   "source": []
  },
  {
   "cell_type": "code",
   "execution_count": 98,
   "metadata": {},
   "outputs": [],
   "source": [
    "def reus2(linha):\n",
    "    cpf = linha['cpf']\n",
    "    tenta_reeleicao = linha['tenta_reeleicao']\n",
    "    if cpf == '55686176515' or cpf == '04240952387' or cpf == '33155623420' or cpf == '12534773453' or cpf == '45360707968'     or cpf == '66728983791' or cpf == '37625942015' or cpf == '00834939134' or cpf == '77548981872' or cpf == '53467108415'     or cpf == '76808742715' or cpf == '24106305968' or cpf == '00018031234' or cpf == '00441392415' or cpf == '29446376068'     or cpf == '04064992172' or cpf == '05017868488' or cpf == '28925491168' or cpf == '07409419504' or cpf == '41864883634'      or cpf == '08781460910' or cpf == '10744096200' or cpf == '43196926168' or cpf == '79401546720' or cpf == '01266637699'     or cpf == '34577521172' or cpf == '57785368791' or cpf == '68642725915' or cpf == '21006768904' or cpf == '06015530553'    or cpf == '09582819472' or cpf == '09604332287' or cpf == '13512951287' or cpf == '34347364920' or cpf == '32247753191'     or cpf == '62929399368' or cpf == '38108216753' or cpf == '02621380425' or cpf == '26404222272':\n",
    "        conteudo = 'SIM'\n",
    "    else:\n",
    "        conteudo = tenta_reeleicao\n",
    "    \n",
    "    return conteudo"
   ]
  },
  {
   "cell_type": "code",
   "execution_count": 99,
   "metadata": {},
   "outputs": [],
   "source": [
    "consolidado['tenta_reeleicao'] = consolidado.apply(reus2, axis=1)"
   ]
  },
  {
   "cell_type": "code",
   "execution_count": null,
   "metadata": {},
   "outputs": [],
   "source": []
  },
  {
   "cell_type": "code",
   "execution_count": 100,
   "metadata": {},
   "outputs": [],
   "source": [
    "# 01266637699 foi retirado\n",
    "def reus3(linha):\n",
    "    cpf = linha['cpf']\n",
    "    reu_no_stf = linha['reu_no_stf']\n",
    "    if cpf == '55686176515' or cpf == '04240952387' or cpf == '33155623420' or cpf == '12534773453' or cpf == '45360707968'     or cpf == '66728983791' or cpf == '37625942015' or cpf == '00834939134' or cpf == '77548981872' or cpf == '53467108415'     or cpf == '76808742715' or cpf == '24106305968' or cpf == '00018031234' or cpf == '00441392415' or cpf == '29446376068'     or cpf == '04064992172' or cpf == '05017868488' or cpf == '28925491168' or cpf == '07409419504' or cpf == '41864883634'      or cpf == '08781460910' or cpf == '10744096200' or cpf == '43196926168' or cpf == '79401546720' or cpf == '34577521172' or cpf == '57785368791' or cpf == '68642725915' or cpf == '21006768904' or cpf == '06015530553'    or cpf == '09582819472' or cpf == '09604332287' or cpf == '13512951287' or cpf == '34347364920' or cpf == '32247753191'     or cpf == '62929399368' or cpf == '38108216753' or cpf == '02621380425' or cpf == '26404222272':\n",
    "        conteudo = 'SIM'\n",
    "    else:\n",
    "        conteudo = reu_no_stf\n",
    "    \n",
    "    return conteudo"
   ]
  },
  {
   "cell_type": "code",
   "execution_count": 101,
   "metadata": {},
   "outputs": [],
   "source": [
    "consolidado['reu_no_stf'] = consolidado.apply(reus3, axis=1)"
   ]
  },
  {
   "cell_type": "code",
   "execution_count": null,
   "metadata": {},
   "outputs": [],
   "source": []
  },
  {
   "cell_type": "code",
   "execution_count": 102,
   "metadata": {},
   "outputs": [],
   "source": [
    "def limpa15(linha):\n",
    "    tenta_reeleicao = linha['tenta_reeleicao']\n",
    "    e_mail_survey = linha['e_mail_survey']\n",
    "    passado =  linha['passado_limpo']\n",
    "    reu_no_stf = linha['reu_no_stf']\n",
    "    nome = linha['total_inqueritos']\n",
    "    \n",
    "    if tenta_reeleicao == 'SIM' and reu_no_stf == 'SIM':\n",
    "        conteudo = nome\n",
    "    elif tenta_reeleicao == 'NÃO' and (e_mail_survey == '' or (isinstance(e_mail_survey, float) and math.isnan(e_mail_survey))) and (reu_no_stf == '' or (isinstance(reu_no_stf, float) and math.isnan(reu_no_stf))) and passado == 'SEM RESPOSTA':\n",
    "        conteudo = 'Esta/e candidata/o ainda não se inscreveu na campanha Unidos contra a Corrupção. Pressione-a/o'\n",
    "    elif tenta_reeleicao == 'SIM' and (e_mail_survey == '' or (isinstance(e_mail_survey, float) and math.isnan(e_mail_survey))) and (reu_no_stf == '' or (isinstance(reu_no_stf, float) and math.isnan(reu_no_stf))):\n",
    "        conteudo = 'Esta/e candidata/o não responde a ação penal no Supremo Tribunal Federal por crimes mencionados na lei da ficha limpa e ainda não se inscreveu na campanha Unidos contra a Corrupção. Pressione-a/o (caso você tenha informações a respeito de processos criminais ou condenações envolvendo esta/e candidata/o, escreva para relacionamento@br.transparency.org)'\n",
    "    elif tenta_reeleicao == 'SIM' and (e_mail_survey != '' or (isinstance(e_mail_survey, float) and math.isnan(e_mail_survey == False))) and (reu_no_stf == '' or (isinstance(reu_no_stf, float) and math.isnan(reu_no_stf))):\n",
    "        conteudo = 'Esta/e candidata/o não responde a ação penal no Supremo Tribunal Federal por crimes mencionados na lei da ficha limpa e afirmou não ter condenações (caso você tenha informações a respeito de processos criminais em andamento ou de condenações envolvendo esta/e candidata/o, escreva para relacionamento@br.transparency.org)'\n",
    "    elif tenta_reeleicao == 'NÃO' and (e_mail_survey != '' or (isinstance(e_mail_survey, float) and math.isnan(e_mail_survey == False))) and (reu_no_stf == '' or (isinstance(reu_no_stf, float) and math.isnan(reu_no_stf))) and passado == 'SEM RESPOSTA':\n",
    "        conteudo = 'Esta/e candidata/o não declarou se possui ou não passado limpo (caso você tenha informações a respeito de condenações envolvendo esta/e candidata/o, escreva para relacionamento@br.transparency.org)'\n",
    "    elif tenta_reeleicao == 'NÃO' and (e_mail_survey != '' or (isinstance(e_mail_survey, float) and math.isnan(e_mail_survey == False))) and (reu_no_stf == '' or (isinstance(reu_no_stf, float) and math.isnan(reu_no_stf))) and passado == 'SIM':\n",
    "        conteudo = 'Esta/e candidata/o afirmou não ter condenações por crimes mencionados na lei da ficha limpa (caso você tenha informações a respeito de condenações envolvendo esta/e candidata/o, escreva para relacionamento@br.transparency.org)'\n",
    "    elif passado == 'NÃO' and tenta_reeleicao == 'NÃO':\n",
    "        conteudo = nome\n",
    "    \n",
    "    return conteudo"
   ]
  },
  {
   "cell_type": "code",
   "execution_count": 103,
   "metadata": {},
   "outputs": [],
   "source": [
    "consolidado['total_inqueritos'] = consolidado.apply(limpa15, axis=1)"
   ]
  },
  {
   "cell_type": "code",
   "execution_count": null,
   "metadata": {},
   "outputs": [],
   "source": []
  },
  {
   "cell_type": "code",
   "execution_count": null,
   "metadata": {},
   "outputs": [],
   "source": []
  },
  {
   "cell_type": "code",
   "execution_count": 104,
   "metadata": {},
   "outputs": [],
   "source": [
    "def compara2(linha):\n",
    "    passado_limpo = linha['passado_limpo']\n",
    "    novas_medidas = linha['aderiu_totalmente_medidas']\n",
    "    pacto = linha['pacto']\n",
    "    tenta_reeleicao = linha['tenta_reeleicao']\n",
    "    pacto = linha['pacto']\n",
    "    \n",
    "    if passado_limpo == 'SIM' and novas_medidas == 'SIM' and pacto == 'SIM':\n",
    "        cor = 'X1 – CARD VERDE'\n",
    "    elif (passado_limpo == 'RÉU' or passado_limpo == 'RÉ' or passado_limpo == 'CONDENADO') and tenta_reeleicao == 'SIM':\n",
    "        cor = 'X2 – CARD VERMELHO'\n",
    "    elif passado_limpo == 'NÃO':\n",
    "        cor = 'X3 – CARD VERMELHO'\n",
    "    elif pacto == 'NÃO':\n",
    "        cor = 'X4 – CARD VERMELHO'\n",
    "    elif novas_medidas == 'NÃO':\n",
    "        cor = 'X7 - CARD VERMELHO'\n",
    "    elif pacto == 'SEM RESPOSTA':\n",
    "        cor = 'X5 – CARD CINZA'\n",
    "    elif novas_medidas == 'SEM RESPOSTA':\n",
    "        cor = 'X6 – CARD CINZA'\n",
    "    \n",
    "    return cor"
   ]
  },
  {
   "cell_type": "code",
   "execution_count": 105,
   "metadata": {},
   "outputs": [],
   "source": [
    "nova = consolidado.apply(compara2, axis=1) #lê dataframe e chama a função\n",
    "\n",
    "consolidado['cor_avaliacao'] = nova"
   ]
  },
  {
   "cell_type": "code",
   "execution_count": null,
   "metadata": {},
   "outputs": [],
   "source": []
  },
  {
   "cell_type": "code",
   "execution_count": 106,
   "metadata": {},
   "outputs": [],
   "source": [
    "#consolidado['resumo_stf'] = consolidado['total_acoes_penais']"
   ]
  },
  {
   "cell_type": "code",
   "execution_count": 107,
   "metadata": {},
   "outputs": [],
   "source": [
    "consolidado = consolidado[['uf',\n",
    "                           'cargo',\t\n",
    "                           'numero_urna',\n",
    "                           'nome_completo',\n",
    "                           'nome_urna',\t\n",
    "                           'cpf',\n",
    "                           'e_mail_tse',\n",
    "                           'partido_eleicao',\n",
    "                           'data_nascimento',\n",
    "                           'ocupacao_tse',\n",
    "                           'total_bens',\n",
    "                           'detalhes_bens',\n",
    "                           'resumo_stf',\n",
    "                           'total_inqueritos',\n",
    "                           'total_acoes_penais',\n",
    "                           'detalhes_processos',\n",
    "                           'reu_no_stf',\n",
    "                           'passado_limpo',\n",
    "                           'e_mail_survey',\n",
    "                           'ocupacao_survey',\n",
    "                           'site_candidato',\n",
    "                           'url_facebook',\n",
    "                           'url_twitter',\t\n",
    "                           'url_instagram',\n",
    "                           'url_youtube',\n",
    "                           'financiamento_coletivo',\n",
    "                           'processos_primeira_instancia',\n",
    "                           'detalhes_processos_survey',\n",
    "                           'aderiu_totalmente_medidas',\n",
    "                           'justificativa_adesao_medidas',\n",
    "                           'pacto',\n",
    "                           'tenta_reeleicao',\n",
    "                           'cor_avaliacao']]"
   ]
  },
  {
   "cell_type": "code",
   "execution_count": 108,
   "metadata": {},
   "outputs": [
    {
     "name": "stdout",
     "output_type": "stream",
     "text": [
      "<class 'pandas.core.frame.DataFrame'>\n",
      "Int64Index: 8263 entries, 0 to 8282\n",
      "Data columns (total 33 columns):\n",
      "uf                              8263 non-null object\n",
      "cargo                           8263 non-null object\n",
      "numero_urna                     8263 non-null object\n",
      "nome_completo                   8263 non-null object\n",
      "nome_urna                       8263 non-null object\n",
      "cpf                             8263 non-null object\n",
      "e_mail_tse                      8263 non-null object\n",
      "partido_eleicao                 8263 non-null object\n",
      "data_nascimento                 8263 non-null object\n",
      "ocupacao_tse                    8263 non-null object\n",
      "total_bens                      8263 non-null object\n",
      "detalhes_bens                   8263 non-null object\n",
      "resumo_stf                      0 non-null float64\n",
      "total_inqueritos                8263 non-null object\n",
      "total_acoes_penais              8263 non-null object\n",
      "detalhes_processos              8263 non-null object\n",
      "reu_no_stf                      8263 non-null object\n",
      "passado_limpo                   8263 non-null object\n",
      "e_mail_survey                   688 non-null object\n",
      "ocupacao_survey                 688 non-null object\n",
      "site_candidato                  368 non-null object\n",
      "url_facebook                    667 non-null object\n",
      "url_twitter                     340 non-null object\n",
      "url_instagram                   543 non-null object\n",
      "url_youtube                     295 non-null object\n",
      "financiamento_coletivo          292 non-null object\n",
      "processos_primeira_instancia    8263 non-null object\n",
      "detalhes_processos_survey       8263 non-null object\n",
      "aderiu_totalmente_medidas       8263 non-null object\n",
      "justificativa_adesao_medidas    8263 non-null object\n",
      "pacto                           8263 non-null object\n",
      "tenta_reeleicao                 8263 non-null object\n",
      "cor_avaliacao                   8263 non-null object\n",
      "dtypes: float64(1), object(32)\n",
      "memory usage: 2.1+ MB\n"
     ]
    }
   ],
   "source": [
    "consolidado.info()"
   ]
  },
  {
   "cell_type": "code",
   "execution_count": 109,
   "metadata": {},
   "outputs": [],
   "source": [
    "consolidado.to_excel('resultados/consolidado/planilhacompleta_consolidade_6out_noite.xlsx',sheet_name='Sheet1')"
   ]
  },
  {
   "cell_type": "code",
   "execution_count": null,
   "metadata": {},
   "outputs": [],
   "source": []
  }
 ],
 "metadata": {
  "kernelspec": {
   "display_name": "Python 3",
   "language": "python",
   "name": "python3"
  },
  "language_info": {
   "codemirror_mode": {
    "name": "ipython",
    "version": 3
   },
   "file_extension": ".py",
   "mimetype": "text/x-python",
   "name": "python",
   "nbconvert_exporter": "python",
   "pygments_lexer": "ipython3",
   "version": "3.6.2"
  }
 },
 "nbformat": 4,
 "nbformat_minor": 2
}
