{
 "cells": [
  {
   "cell_type": "code",
   "execution_count": 59,
   "metadata": {},
   "outputs": [],
   "source": [
    "# -*- coding: utf-8\n",
    "# Transparency International - Brazil (https://transparenciainternacional.org.br)\n",
    "# Reinaldo Chaves (@paidatocandeira)\n",
    "# Une bases de candidatos com dados gerais e bases do SurveyMonkey e Pacto\n",
    "#"
   ]
  },
  {
   "cell_type": "code",
   "execution_count": null,
   "metadata": {},
   "outputs": [],
   "source": []
  },
  {
   "cell_type": "code",
   "execution_count": null,
   "metadata": {},
   "outputs": [],
   "source": [
    "import pandas as pd\n",
    "import unidecode"
   ]
  },
  {
   "cell_type": "code",
   "execution_count": null,
   "metadata": {},
   "outputs": [],
   "source": []
  },
  {
   "cell_type": "markdown",
   "metadata": {},
   "source": [
    "Função para retirar acentuação"
   ]
  },
  {
   "cell_type": "code",
   "execution_count": 60,
   "metadata": {},
   "outputs": [],
   "source": [
    "def f(str):\n",
    "    return (unidecode.unidecode(str))"
   ]
  },
  {
   "cell_type": "code",
   "execution_count": null,
   "metadata": {},
   "outputs": [],
   "source": []
  },
  {
   "cell_type": "markdown",
   "metadata": {},
   "source": [
    "# Acessa a última versão da base completa"
   ]
  },
  {
   "cell_type": "code",
   "execution_count": 62,
   "metadata": {},
   "outputs": [],
   "source": [
    "selecionados_last = pd.read_excel('resultados/consolidado/planilhacompleta_consolidade_5out_parcial2.xlsx',sheet_name='Sheet1', converters={'cpf': lambda x: str(x),  \n",
    "                                                                                              'numero_urna': lambda x: str(x)\n",
    "                                                                                                  })"
   ]
  },
  {
   "cell_type": "code",
   "execution_count": 63,
   "metadata": {},
   "outputs": [
    {
     "name": "stdout",
     "output_type": "stream",
     "text": [
      "<class 'pandas.core.frame.DataFrame'>\n",
      "RangeIndex: 8263 entries, 0 to 8262\n",
      "Data columns (total 33 columns):\n",
      "uf                              8263 non-null object\n",
      "cargo                           8263 non-null object\n",
      "numero_urna                     8263 non-null object\n",
      "nome_completo                   8263 non-null object\n",
      "nome_urna                       8263 non-null object\n",
      "cpf                             8263 non-null object\n",
      "e_mail_tse                      8263 non-null object\n",
      "partido_eleicao                 8263 non-null object\n",
      "data_nascimento                 8263 non-null object\n",
      "ocupacao_tse                    8263 non-null object\n",
      "total_bens                      5379 non-null float64\n",
      "detalhes_bens                   8263 non-null object\n",
      "resumo_stf                      0 non-null float64\n",
      "total_inqueritos                8249 non-null object\n",
      "total_acoes_penais              0 non-null float64\n",
      "detalhes_processos              0 non-null float64\n",
      "reu_no_stf                      37 non-null object\n",
      "passado_limpo                   8249 non-null object\n",
      "e_mail_survey                   662 non-null object\n",
      "ocupacao_survey                 662 non-null object\n",
      "site_candidato                  358 non-null object\n",
      "url_facebook                    643 non-null object\n",
      "url_twitter                     328 non-null object\n",
      "url_instagram                   525 non-null object\n",
      "url_youtube                     287 non-null object\n",
      "financiamento_coletivo          284 non-null object\n",
      "processos_primeira_instancia    8249 non-null object\n",
      "detalhes_processos_survey       8249 non-null object\n",
      "aderiu_totalmente_medidas       8249 non-null object\n",
      "justificativa_adesao_medidas    8249 non-null object\n",
      "pacto                           8249 non-null object\n",
      "tenta_reeleicao                 8249 non-null object\n",
      "cor_avaliacao                   8249 non-null object\n",
      "dtypes: float64(4), object(29)\n",
      "memory usage: 2.1+ MB\n"
     ]
    }
   ],
   "source": [
    "selecionados_last.info()"
   ]
  },
  {
   "cell_type": "code",
   "execution_count": null,
   "metadata": {},
   "outputs": [],
   "source": []
  },
  {
   "cell_type": "markdown",
   "metadata": {},
   "source": [
    "# Acessa a última versão de Pacto"
   ]
  },
  {
   "cell_type": "code",
   "execution_count": 64,
   "metadata": {},
   "outputs": [],
   "source": [
    "pacto = pd.read_excel('pacto/pacto_5out_2.xlsx',sheet_name='Sheet1', converters={'cpf_inteiro': lambda x: str(x)})"
   ]
  },
  {
   "cell_type": "code",
   "execution_count": 65,
   "metadata": {},
   "outputs": [],
   "source": [
    "pacto = pacto.drop_duplicates(['cpf_inteiro'], keep='last')"
   ]
  },
  {
   "cell_type": "code",
   "execution_count": 66,
   "metadata": {},
   "outputs": [
    {
     "name": "stdout",
     "output_type": "stream",
     "text": [
      "<class 'pandas.core.frame.DataFrame'>\n",
      "Index: 525 entries, helitec@uol.com.br to nan\n",
      "Data columns (total 26 columns):\n",
      "Nome                 518 non-null object\n",
      "Sobrenome            511 non-null object\n",
      "(End)                0 non-null float64\n",
      "Telefone             398 non-null object\n",
      "Estado               516 non-null object\n",
      "Cidade               505 non-null object\n",
      "Partido              498 non-null object\n",
      "Movimento            222 non-null object\n",
      "Cargo concorrente    515 non-null object\n",
      "Facebook             456 non-null object\n",
      "Instagram            211 non-null object\n",
      "Twitter              22 non-null object\n",
      "Youtube/Linkedin     15 non-null object\n",
      "Site                 134 non-null object\n",
      "Crowdfunding         15 non-null object\n",
      "Mandato atual        473 non-null object\n",
      "CPF                  525 non-null object\n",
      "Nº urna              459 non-null object\n",
      "Data de adesão       497 non-null object\n",
      "adesao               525 non-null object\n",
      "video                517 non-null object\n",
      "Responsável          104 non-null object\n",
      "Unnamed: 22          0 non-null object\n",
      "cpf_limpo            525 non-null int64\n",
      "cpf_inteiro          525 non-null object\n",
      "aceite_ajustado      525 non-null object\n",
      "dtypes: float64(1), int64(1), object(24)\n",
      "memory usage: 110.7+ KB\n"
     ]
    }
   ],
   "source": [
    "pacto.info()"
   ]
  },
  {
   "cell_type": "code",
   "execution_count": null,
   "metadata": {},
   "outputs": [],
   "source": []
  },
  {
   "cell_type": "markdown",
   "metadata": {},
   "source": [
    "# Cruza versão atual do Pacto com último conjunto de selecionados anteriores"
   ]
  },
  {
   "cell_type": "code",
   "execution_count": 67,
   "metadata": {},
   "outputs": [],
   "source": [
    "checa_pacto = pd.merge(selecionados_last, pacto,  how='left', left_on='cpf',\n",
    "                 right_on = 'cpf_inteiro')"
   ]
  },
  {
   "cell_type": "code",
   "execution_count": 68,
   "metadata": {},
   "outputs": [
    {
     "name": "stdout",
     "output_type": "stream",
     "text": [
      "<class 'pandas.core.frame.DataFrame'>\n",
      "Int64Index: 8263 entries, 0 to 8262\n",
      "Data columns (total 59 columns):\n",
      "uf                              8263 non-null object\n",
      "cargo                           8263 non-null object\n",
      "numero_urna                     8263 non-null object\n",
      "nome_completo                   8263 non-null object\n",
      "nome_urna                       8263 non-null object\n",
      "cpf                             8263 non-null object\n",
      "e_mail_tse                      8263 non-null object\n",
      "partido_eleicao                 8263 non-null object\n",
      "data_nascimento                 8263 non-null object\n",
      "ocupacao_tse                    8263 non-null object\n",
      "total_bens                      5379 non-null float64\n",
      "detalhes_bens                   8263 non-null object\n",
      "resumo_stf                      0 non-null float64\n",
      "total_inqueritos                8249 non-null object\n",
      "total_acoes_penais              0 non-null float64\n",
      "detalhes_processos              0 non-null float64\n",
      "reu_no_stf                      37 non-null object\n",
      "passado_limpo                   8249 non-null object\n",
      "e_mail_survey                   662 non-null object\n",
      "ocupacao_survey                 662 non-null object\n",
      "site_candidato                  358 non-null object\n",
      "url_facebook                    643 non-null object\n",
      "url_twitter                     328 non-null object\n",
      "url_instagram                   525 non-null object\n",
      "url_youtube                     287 non-null object\n",
      "financiamento_coletivo          284 non-null object\n",
      "processos_primeira_instancia    8249 non-null object\n",
      "detalhes_processos_survey       8249 non-null object\n",
      "aderiu_totalmente_medidas       8249 non-null object\n",
      "justificativa_adesao_medidas    8249 non-null object\n",
      "pacto                           8249 non-null object\n",
      "tenta_reeleicao                 8249 non-null object\n",
      "cor_avaliacao                   8249 non-null object\n",
      "Nome                            429 non-null object\n",
      "Sobrenome                       426 non-null object\n",
      "(End)                           0 non-null float64\n",
      "Telefone                        329 non-null object\n",
      "Estado                          427 non-null object\n",
      "Cidade                          419 non-null object\n",
      "Partido                         420 non-null object\n",
      "Movimento                       183 non-null object\n",
      "Cargo concorrente               427 non-null object\n",
      "Facebook                        388 non-null object\n",
      "Instagram                       184 non-null object\n",
      "Twitter                         18 non-null object\n",
      "Youtube/Linkedin                13 non-null object\n",
      "Site                            118 non-null object\n",
      "Crowdfunding                    14 non-null object\n",
      "Mandato atual                   408 non-null object\n",
      "CPF                             436 non-null object\n",
      "Nº urna                         398 non-null object\n",
      "Data de adesão                  417 non-null object\n",
      "adesao                          436 non-null object\n",
      "video                           428 non-null object\n",
      "Responsável                     95 non-null object\n",
      "Unnamed: 22                     0 non-null object\n",
      "cpf_limpo                       436 non-null float64\n",
      "cpf_inteiro                     436 non-null object\n",
      "aceite_ajustado                 436 non-null object\n",
      "dtypes: float64(6), object(53)\n",
      "memory usage: 3.8+ MB\n"
     ]
    }
   ],
   "source": [
    "checa_pacto.info()"
   ]
  },
  {
   "cell_type": "code",
   "execution_count": 69,
   "metadata": {},
   "outputs": [],
   "source": [
    "checa_pacto.to_excel('verifica_encontrados_pacto.xlsx',sheet_name='Sheet1')"
   ]
  },
  {
   "cell_type": "code",
   "execution_count": null,
   "metadata": {},
   "outputs": [],
   "source": []
  },
  {
   "cell_type": "code",
   "execution_count": 70,
   "metadata": {},
   "outputs": [
    {
     "data": {
      "text/plain": [
       "Series([], Name: nome_completo, dtype: object)"
      ]
     },
     "execution_count": 70,
     "metadata": {},
     "output_type": "execute_result"
    }
   ],
   "source": [
    "nomes_naoencontrados = pd.merge(selecionados_last, \n",
    "                                pacto, \n",
    "                        left_on='cpf',\n",
    "                        right_on = 'cpf_inteiro',\n",
    "                        how='outer',\n",
    "                        indicator=True)\n",
    "ldf = nomes_naoencontrados.query(\"_merge == 'lef_only'\").drop('_merge',axis=1)\n",
    "ldf.nome_completo"
   ]
  },
  {
   "cell_type": "code",
   "execution_count": null,
   "metadata": {},
   "outputs": [],
   "source": []
  },
  {
   "cell_type": "markdown",
   "metadata": {},
   "source": [
    "#### 1 - Atualiza coluna pacto nos encontrados (comparar coluna 'pacto' com 'Aceite'). Pode apagar colunas tenta_reeleicao e cor_avaliacao. Verificar se em Pacto há CPF duplicado, deixar a última versão\n",
    "\n",
    "#### 2 - Faz última verificação visual nos não encontrados\n",
    "\n",
    "#### 3 - Coloca esse conjunto no final do último arquivo consolidado geral. Exemplo: planilhacompleta_consolidade_14set_parcial"
   ]
  },
  {
   "cell_type": "code",
   "execution_count": null,
   "metadata": {},
   "outputs": [],
   "source": []
  },
  {
   "cell_type": "markdown",
   "metadata": {},
   "source": [
    "# Acessa o Survey"
   ]
  },
  {
   "cell_type": "markdown",
   "metadata": {},
   "source": [
    "Olhar a última data da versão anterior: era 2018-10-05 11:39:24"
   ]
  },
  {
   "cell_type": "code",
   "execution_count": 120,
   "metadata": {},
   "outputs": [],
   "source": [
    "survey = pd.read_excel('monkey/monkey_5out_2.xlsx',sheet_name='Sheet1', converters={'cpf_inteiro': lambda x: str(x), \n",
    "                                                                                              'titulo_eleitor': lambda x: str(x)\n",
    "                                                                                                  })"
   ]
  },
  {
   "cell_type": "code",
   "execution_count": 121,
   "metadata": {},
   "outputs": [
    {
     "name": "stdout",
     "output_type": "stream",
     "text": [
      "<class 'pandas.core.frame.DataFrame'>\n",
      "Int64Index: 2061 entries, 0 to 2060\n",
      "Data columns (total 34 columns):\n",
      "respondent_id                   2060 non-null float64\n",
      "collector_id                    2060 non-null float64\n",
      "date_created                    2060 non-null datetime64[ns]\n",
      "date_modified                   2060 non-null object\n",
      "ip_address                      2060 non-null object\n",
      "email_address                   0 non-null float64\n",
      "first_name                      0 non-null float64\n",
      "last_name                       0 non-null float64\n",
      "custom_1                        0 non-null float64\n",
      "nome_completo                   2061 non-null object\n",
      "e_mail_survey                   2061 non-null object\n",
      "Cargo pretendido                2061 non-null object\n",
      "cpf                             956 non-null object\n",
      "titulo_eleitor                  840 non-null object\n",
      "nome_na_urna                    956 non-null object\n",
      "numero_na_urna                  956 non-null object\n",
      "UF                              956 non-null object\n",
      "municipio_nascimento            840 non-null object\n",
      "Ano de nascimento               951 non-null object\n",
      "ocupacao_survey                 956 non-null object\n",
      "Partido político                956 non-null object\n",
      "site_candidato                  515 non-null object\n",
      "url_facebook                    892 non-null object\n",
      "url_twitter                     451 non-null object\n",
      "url_instagram                   727 non-null object\n",
      "url_youtube                     404 non-null object\n",
      "financiamento_coletivo          410 non-null object\n",
      "passado_limpo                   929 non-null object\n",
      "processos_primeira_instancia    929 non-null object\n",
      "detalhes_processos_survey       18 non-null object\n",
      "pacto                           831 non-null object\n",
      "aderiu_totalmente_medidas       812 non-null object\n",
      "justificativa_adesao_medidas    162 non-null object\n",
      "cpf_inteiro                     2061 non-null object\n",
      "dtypes: datetime64[ns](1), float64(6), object(27)\n",
      "memory usage: 563.6+ KB\n"
     ]
    }
   ],
   "source": [
    "survey.info()"
   ]
  },
  {
   "cell_type": "code",
   "execution_count": 122,
   "metadata": {},
   "outputs": [
    {
     "data": {
      "text/html": [
       "<div>\n",
       "<style scoped>\n",
       "    .dataframe tbody tr th:only-of-type {\n",
       "        vertical-align: middle;\n",
       "    }\n",
       "\n",
       "    .dataframe tbody tr th {\n",
       "        vertical-align: top;\n",
       "    }\n",
       "\n",
       "    .dataframe thead th {\n",
       "        text-align: right;\n",
       "    }\n",
       "</style>\n",
       "<table border=\"1\" class=\"dataframe\">\n",
       "  <thead>\n",
       "    <tr style=\"text-align: right;\">\n",
       "      <th></th>\n",
       "      <th>index</th>\n",
       "      <th>respondent_id</th>\n",
       "      <th>collector_id</th>\n",
       "      <th>date_created</th>\n",
       "      <th>date_modified</th>\n",
       "      <th>ip_address</th>\n",
       "      <th>email_address</th>\n",
       "      <th>first_name</th>\n",
       "      <th>last_name</th>\n",
       "      <th>custom_1</th>\n",
       "      <th>...</th>\n",
       "      <th>url_instagram</th>\n",
       "      <th>url_youtube</th>\n",
       "      <th>financiamento_coletivo</th>\n",
       "      <th>passado_limpo</th>\n",
       "      <th>processos_primeira_instancia</th>\n",
       "      <th>detalhes_processos_survey</th>\n",
       "      <th>pacto</th>\n",
       "      <th>aderiu_totalmente_medidas</th>\n",
       "      <th>justificativa_adesao_medidas</th>\n",
       "      <th>cpf_inteiro</th>\n",
       "    </tr>\n",
       "  </thead>\n",
       "  <tbody>\n",
       "    <tr>\n",
       "      <th>0</th>\n",
       "      <td>0</td>\n",
       "      <td>NaN</td>\n",
       "      <td>NaN</td>\n",
       "      <td>NaT</td>\n",
       "      <td>NaN</td>\n",
       "      <td>NaN</td>\n",
       "      <td>NaN</td>\n",
       "      <td>NaN</td>\n",
       "      <td>NaN</td>\n",
       "      <td>NaN</td>\n",
       "      <td>...</td>\n",
       "      <td>Instagram</td>\n",
       "      <td>Youtube</td>\n",
       "      <td>Open-Ended Response</td>\n",
       "      <td>Response</td>\n",
       "      <td>Response</td>\n",
       "      <td>Open-Ended Response</td>\n",
       "      <td>Response</td>\n",
       "      <td>Response</td>\n",
       "      <td>Open-Ended Response</td>\n",
       "      <td>Open-Ended Response</td>\n",
       "    </tr>\n",
       "    <tr>\n",
       "      <th>1</th>\n",
       "      <td>1</td>\n",
       "      <td>1.026128e+10</td>\n",
       "      <td>215760080.0</td>\n",
       "      <td>2018-10-05 20:58:06</td>\n",
       "      <td>10/05/2018 08:59:11 PM</td>\n",
       "      <td>191.255.242.55</td>\n",
       "      <td>NaN</td>\n",
       "      <td>NaN</td>\n",
       "      <td>NaN</td>\n",
       "      <td>NaN</td>\n",
       "      <td>...</td>\n",
       "      <td>NaN</td>\n",
       "      <td>NaN</td>\n",
       "      <td>NaN</td>\n",
       "      <td>NaN</td>\n",
       "      <td>NaN</td>\n",
       "      <td>NaN</td>\n",
       "      <td>NaN</td>\n",
       "      <td>NaN</td>\n",
       "      <td>NaN</td>\n",
       "      <td>00000000000</td>\n",
       "    </tr>\n",
       "    <tr>\n",
       "      <th>2</th>\n",
       "      <td>2</td>\n",
       "      <td>1.026124e+10</td>\n",
       "      <td>215760080.0</td>\n",
       "      <td>2018-10-05 20:35:50</td>\n",
       "      <td>10/05/2018 08:37:46 PM</td>\n",
       "      <td>200.174.132.2</td>\n",
       "      <td>NaN</td>\n",
       "      <td>NaN</td>\n",
       "      <td>NaN</td>\n",
       "      <td>NaN</td>\n",
       "      <td>...</td>\n",
       "      <td>NaN</td>\n",
       "      <td>NaN</td>\n",
       "      <td>NaN</td>\n",
       "      <td>NaN</td>\n",
       "      <td>NaN</td>\n",
       "      <td>NaN</td>\n",
       "      <td>NaN</td>\n",
       "      <td>NaN</td>\n",
       "      <td>NaN</td>\n",
       "      <td>00000000000</td>\n",
       "    </tr>\n",
       "    <tr>\n",
       "      <th>3</th>\n",
       "      <td>3</td>\n",
       "      <td>1.026120e+10</td>\n",
       "      <td>215760080.0</td>\n",
       "      <td>2018-10-05 20:14:09</td>\n",
       "      <td>10/05/2018 08:14:58 PM</td>\n",
       "      <td>179.176.175.61</td>\n",
       "      <td>NaN</td>\n",
       "      <td>NaN</td>\n",
       "      <td>NaN</td>\n",
       "      <td>NaN</td>\n",
       "      <td>...</td>\n",
       "      <td>NaN</td>\n",
       "      <td>NaN</td>\n",
       "      <td>NaN</td>\n",
       "      <td>NaN</td>\n",
       "      <td>NaN</td>\n",
       "      <td>NaN</td>\n",
       "      <td>NaN</td>\n",
       "      <td>NaN</td>\n",
       "      <td>NaN</td>\n",
       "      <td>00000000000</td>\n",
       "    </tr>\n",
       "    <tr>\n",
       "      <th>4</th>\n",
       "      <td>4</td>\n",
       "      <td>1.026119e+10</td>\n",
       "      <td>215760080.0</td>\n",
       "      <td>2018-10-05 20:11:03</td>\n",
       "      <td>10/05/2018 08:13:02 PM</td>\n",
       "      <td>179.159.23.23</td>\n",
       "      <td>NaN</td>\n",
       "      <td>NaN</td>\n",
       "      <td>NaN</td>\n",
       "      <td>NaN</td>\n",
       "      <td>...</td>\n",
       "      <td>NaN</td>\n",
       "      <td>NaN</td>\n",
       "      <td>NaN</td>\n",
       "      <td>NaN</td>\n",
       "      <td>NaN</td>\n",
       "      <td>NaN</td>\n",
       "      <td>NaN</td>\n",
       "      <td>NaN</td>\n",
       "      <td>NaN</td>\n",
       "      <td>00000000000</td>\n",
       "    </tr>\n",
       "  </tbody>\n",
       "</table>\n",
       "<p>5 rows × 35 columns</p>\n",
       "</div>"
      ],
      "text/plain": [
       "   index  respondent_id  collector_id        date_created  \\\n",
       "0      0            NaN           NaN                 NaT   \n",
       "1      1   1.026128e+10   215760080.0 2018-10-05 20:58:06   \n",
       "2      2   1.026124e+10   215760080.0 2018-10-05 20:35:50   \n",
       "3      3   1.026120e+10   215760080.0 2018-10-05 20:14:09   \n",
       "4      4   1.026119e+10   215760080.0 2018-10-05 20:11:03   \n",
       "\n",
       "            date_modified      ip_address  email_address  first_name  \\\n",
       "0                     NaN             NaN            NaN         NaN   \n",
       "1  10/05/2018 08:59:11 PM  191.255.242.55            NaN         NaN   \n",
       "2  10/05/2018 08:37:46 PM   200.174.132.2            NaN         NaN   \n",
       "3  10/05/2018 08:14:58 PM  179.176.175.61            NaN         NaN   \n",
       "4  10/05/2018 08:13:02 PM   179.159.23.23            NaN         NaN   \n",
       "\n",
       "   last_name  custom_1         ...          url_instagram url_youtube  \\\n",
       "0        NaN       NaN         ...              Instagram     Youtube   \n",
       "1        NaN       NaN         ...                    NaN         NaN   \n",
       "2        NaN       NaN         ...                    NaN         NaN   \n",
       "3        NaN       NaN         ...                    NaN         NaN   \n",
       "4        NaN       NaN         ...                    NaN         NaN   \n",
       "\n",
       "  financiamento_coletivo passado_limpo processos_primeira_instancia  \\\n",
       "0    Open-Ended Response      Response                     Response   \n",
       "1                    NaN           NaN                          NaN   \n",
       "2                    NaN           NaN                          NaN   \n",
       "3                    NaN           NaN                          NaN   \n",
       "4                    NaN           NaN                          NaN   \n",
       "\n",
       "  detalhes_processos_survey     pacto aderiu_totalmente_medidas  \\\n",
       "0       Open-Ended Response  Response                  Response   \n",
       "1                       NaN       NaN                       NaN   \n",
       "2                       NaN       NaN                       NaN   \n",
       "3                       NaN       NaN                       NaN   \n",
       "4                       NaN       NaN                       NaN   \n",
       "\n",
       "  justificativa_adesao_medidas          cpf_inteiro  \n",
       "0          Open-Ended Response  Open-Ended Response  \n",
       "1                          NaN          00000000000  \n",
       "2                          NaN          00000000000  \n",
       "3                          NaN          00000000000  \n",
       "4                          NaN          00000000000  \n",
       "\n",
       "[5 rows x 35 columns]"
      ]
     },
     "execution_count": 122,
     "metadata": {},
     "output_type": "execute_result"
    }
   ],
   "source": [
    "survey.reset_index().head()"
   ]
  },
  {
   "cell_type": "code",
   "execution_count": 123,
   "metadata": {},
   "outputs": [],
   "source": [
    "# mask = (survey['date_created'].dt.year == 2018) & (survey['date_created'].dt.month == 8) & (survey['date_created'].dt.day > 27)\n",
    "\n",
    "mask = survey['date_created'] >= '2018-10-05 11:39:24' # última data e hora que houve atualização\n",
    "\n",
    "selecionados_atual = survey[mask]"
   ]
  },
  {
   "cell_type": "code",
   "execution_count": 124,
   "metadata": {},
   "outputs": [
    {
     "data": {
      "text/html": [
       "<div>\n",
       "<style scoped>\n",
       "    .dataframe tbody tr th:only-of-type {\n",
       "        vertical-align: middle;\n",
       "    }\n",
       "\n",
       "    .dataframe tbody tr th {\n",
       "        vertical-align: top;\n",
       "    }\n",
       "\n",
       "    .dataframe thead th {\n",
       "        text-align: right;\n",
       "    }\n",
       "</style>\n",
       "<table border=\"1\" class=\"dataframe\">\n",
       "  <thead>\n",
       "    <tr style=\"text-align: right;\">\n",
       "      <th></th>\n",
       "      <th>index</th>\n",
       "      <th>respondent_id</th>\n",
       "      <th>collector_id</th>\n",
       "      <th>date_created</th>\n",
       "      <th>date_modified</th>\n",
       "      <th>ip_address</th>\n",
       "      <th>email_address</th>\n",
       "      <th>first_name</th>\n",
       "      <th>last_name</th>\n",
       "      <th>custom_1</th>\n",
       "      <th>...</th>\n",
       "      <th>url_instagram</th>\n",
       "      <th>url_youtube</th>\n",
       "      <th>financiamento_coletivo</th>\n",
       "      <th>passado_limpo</th>\n",
       "      <th>processos_primeira_instancia</th>\n",
       "      <th>detalhes_processos_survey</th>\n",
       "      <th>pacto</th>\n",
       "      <th>aderiu_totalmente_medidas</th>\n",
       "      <th>justificativa_adesao_medidas</th>\n",
       "      <th>cpf_inteiro</th>\n",
       "    </tr>\n",
       "  </thead>\n",
       "  <tbody>\n",
       "    <tr>\n",
       "      <th>0</th>\n",
       "      <td>1</td>\n",
       "      <td>1.026128e+10</td>\n",
       "      <td>215760080.0</td>\n",
       "      <td>2018-10-05 20:58:06</td>\n",
       "      <td>10/05/2018 08:59:11 PM</td>\n",
       "      <td>191.255.242.55</td>\n",
       "      <td>NaN</td>\n",
       "      <td>NaN</td>\n",
       "      <td>NaN</td>\n",
       "      <td>NaN</td>\n",
       "      <td>...</td>\n",
       "      <td>NaN</td>\n",
       "      <td>NaN</td>\n",
       "      <td>NaN</td>\n",
       "      <td>NaN</td>\n",
       "      <td>NaN</td>\n",
       "      <td>NaN</td>\n",
       "      <td>NaN</td>\n",
       "      <td>NaN</td>\n",
       "      <td>NaN</td>\n",
       "      <td>00000000000</td>\n",
       "    </tr>\n",
       "    <tr>\n",
       "      <th>1</th>\n",
       "      <td>2</td>\n",
       "      <td>1.026124e+10</td>\n",
       "      <td>215760080.0</td>\n",
       "      <td>2018-10-05 20:35:50</td>\n",
       "      <td>10/05/2018 08:37:46 PM</td>\n",
       "      <td>200.174.132.2</td>\n",
       "      <td>NaN</td>\n",
       "      <td>NaN</td>\n",
       "      <td>NaN</td>\n",
       "      <td>NaN</td>\n",
       "      <td>...</td>\n",
       "      <td>NaN</td>\n",
       "      <td>NaN</td>\n",
       "      <td>NaN</td>\n",
       "      <td>NaN</td>\n",
       "      <td>NaN</td>\n",
       "      <td>NaN</td>\n",
       "      <td>NaN</td>\n",
       "      <td>NaN</td>\n",
       "      <td>NaN</td>\n",
       "      <td>00000000000</td>\n",
       "    </tr>\n",
       "    <tr>\n",
       "      <th>2</th>\n",
       "      <td>3</td>\n",
       "      <td>1.026120e+10</td>\n",
       "      <td>215760080.0</td>\n",
       "      <td>2018-10-05 20:14:09</td>\n",
       "      <td>10/05/2018 08:14:58 PM</td>\n",
       "      <td>179.176.175.61</td>\n",
       "      <td>NaN</td>\n",
       "      <td>NaN</td>\n",
       "      <td>NaN</td>\n",
       "      <td>NaN</td>\n",
       "      <td>...</td>\n",
       "      <td>NaN</td>\n",
       "      <td>NaN</td>\n",
       "      <td>NaN</td>\n",
       "      <td>NaN</td>\n",
       "      <td>NaN</td>\n",
       "      <td>NaN</td>\n",
       "      <td>NaN</td>\n",
       "      <td>NaN</td>\n",
       "      <td>NaN</td>\n",
       "      <td>00000000000</td>\n",
       "    </tr>\n",
       "    <tr>\n",
       "      <th>3</th>\n",
       "      <td>4</td>\n",
       "      <td>1.026119e+10</td>\n",
       "      <td>215760080.0</td>\n",
       "      <td>2018-10-05 20:11:03</td>\n",
       "      <td>10/05/2018 08:13:02 PM</td>\n",
       "      <td>179.159.23.23</td>\n",
       "      <td>NaN</td>\n",
       "      <td>NaN</td>\n",
       "      <td>NaN</td>\n",
       "      <td>NaN</td>\n",
       "      <td>...</td>\n",
       "      <td>NaN</td>\n",
       "      <td>NaN</td>\n",
       "      <td>NaN</td>\n",
       "      <td>NaN</td>\n",
       "      <td>NaN</td>\n",
       "      <td>NaN</td>\n",
       "      <td>NaN</td>\n",
       "      <td>NaN</td>\n",
       "      <td>NaN</td>\n",
       "      <td>00000000000</td>\n",
       "    </tr>\n",
       "    <tr>\n",
       "      <th>4</th>\n",
       "      <td>5</td>\n",
       "      <td>1.026114e+10</td>\n",
       "      <td>215760080.0</td>\n",
       "      <td>2018-10-05 19:43:30</td>\n",
       "      <td>10/05/2018 07:49:33 PM</td>\n",
       "      <td>191.26.197.167</td>\n",
       "      <td>NaN</td>\n",
       "      <td>NaN</td>\n",
       "      <td>NaN</td>\n",
       "      <td>NaN</td>\n",
       "      <td>...</td>\n",
       "      <td>luizcastro_am</td>\n",
       "      <td>NaN</td>\n",
       "      <td>NaN</td>\n",
       "      <td>SIM</td>\n",
       "      <td>Também nunca sofri condenação judicial em prim...</td>\n",
       "      <td>NaN</td>\n",
       "      <td>SIM</td>\n",
       "      <td>SIM</td>\n",
       "      <td>NaN</td>\n",
       "      <td>07396570204</td>\n",
       "    </tr>\n",
       "  </tbody>\n",
       "</table>\n",
       "<p>5 rows × 35 columns</p>\n",
       "</div>"
      ],
      "text/plain": [
       "   index  respondent_id  collector_id        date_created  \\\n",
       "0      1   1.026128e+10   215760080.0 2018-10-05 20:58:06   \n",
       "1      2   1.026124e+10   215760080.0 2018-10-05 20:35:50   \n",
       "2      3   1.026120e+10   215760080.0 2018-10-05 20:14:09   \n",
       "3      4   1.026119e+10   215760080.0 2018-10-05 20:11:03   \n",
       "4      5   1.026114e+10   215760080.0 2018-10-05 19:43:30   \n",
       "\n",
       "            date_modified      ip_address  email_address  first_name  \\\n",
       "0  10/05/2018 08:59:11 PM  191.255.242.55            NaN         NaN   \n",
       "1  10/05/2018 08:37:46 PM   200.174.132.2            NaN         NaN   \n",
       "2  10/05/2018 08:14:58 PM  179.176.175.61            NaN         NaN   \n",
       "3  10/05/2018 08:13:02 PM   179.159.23.23            NaN         NaN   \n",
       "4  10/05/2018 07:49:33 PM  191.26.197.167            NaN         NaN   \n",
       "\n",
       "   last_name  custom_1     ...       url_instagram url_youtube  \\\n",
       "0        NaN       NaN     ...                 NaN         NaN   \n",
       "1        NaN       NaN     ...                 NaN         NaN   \n",
       "2        NaN       NaN     ...                 NaN         NaN   \n",
       "3        NaN       NaN     ...                 NaN         NaN   \n",
       "4        NaN       NaN     ...       luizcastro_am         NaN   \n",
       "\n",
       "  financiamento_coletivo passado_limpo  \\\n",
       "0                    NaN           NaN   \n",
       "1                    NaN           NaN   \n",
       "2                    NaN           NaN   \n",
       "3                    NaN           NaN   \n",
       "4                    NaN           SIM   \n",
       "\n",
       "                        processos_primeira_instancia  \\\n",
       "0                                                NaN   \n",
       "1                                                NaN   \n",
       "2                                                NaN   \n",
       "3                                                NaN   \n",
       "4  Também nunca sofri condenação judicial em prim...   \n",
       "\n",
       "  detalhes_processos_survey pacto aderiu_totalmente_medidas  \\\n",
       "0                       NaN   NaN                       NaN   \n",
       "1                       NaN   NaN                       NaN   \n",
       "2                       NaN   NaN                       NaN   \n",
       "3                       NaN   NaN                       NaN   \n",
       "4                       NaN   SIM                       SIM   \n",
       "\n",
       "  justificativa_adesao_medidas  cpf_inteiro  \n",
       "0                          NaN  00000000000  \n",
       "1                          NaN  00000000000  \n",
       "2                          NaN  00000000000  \n",
       "3                          NaN  00000000000  \n",
       "4                          NaN  07396570204  \n",
       "\n",
       "[5 rows x 35 columns]"
      ]
     },
     "execution_count": 124,
     "metadata": {},
     "output_type": "execute_result"
    }
   ],
   "source": [
    "selecionados_atual.reset_index().head()"
   ]
  },
  {
   "cell_type": "code",
   "execution_count": 125,
   "metadata": {},
   "outputs": [
    {
     "name": "stdout",
     "output_type": "stream",
     "text": [
      "<class 'pandas.core.frame.DataFrame'>\n",
      "Int64Index: 26 entries, 1 to 26\n",
      "Data columns (total 34 columns):\n",
      "respondent_id                   26 non-null float64\n",
      "collector_id                    26 non-null float64\n",
      "date_created                    26 non-null datetime64[ns]\n",
      "date_modified                   26 non-null object\n",
      "ip_address                      26 non-null object\n",
      "email_address                   0 non-null float64\n",
      "first_name                      0 non-null float64\n",
      "last_name                       0 non-null float64\n",
      "custom_1                        0 non-null float64\n",
      "nome_completo                   26 non-null object\n",
      "e_mail_survey                   26 non-null object\n",
      "Cargo pretendido                26 non-null object\n",
      "cpf                             9 non-null object\n",
      "titulo_eleitor                  9 non-null object\n",
      "nome_na_urna                    9 non-null object\n",
      "numero_na_urna                  9 non-null object\n",
      "UF                              9 non-null object\n",
      "municipio_nascimento            9 non-null object\n",
      "Ano de nascimento               9 non-null object\n",
      "ocupacao_survey                 9 non-null object\n",
      "Partido político                9 non-null object\n",
      "site_candidato                  3 non-null object\n",
      "url_facebook                    7 non-null object\n",
      "url_twitter                     3 non-null object\n",
      "url_instagram                   7 non-null object\n",
      "url_youtube                     4 non-null object\n",
      "financiamento_coletivo          1 non-null object\n",
      "passado_limpo                   9 non-null object\n",
      "processos_primeira_instancia    9 non-null object\n",
      "detalhes_processos_survey       0 non-null object\n",
      "pacto                           7 non-null object\n",
      "aderiu_totalmente_medidas       7 non-null object\n",
      "justificativa_adesao_medidas    1 non-null object\n",
      "cpf_inteiro                     26 non-null object\n",
      "dtypes: datetime64[ns](1), float64(6), object(27)\n",
      "memory usage: 7.1+ KB\n"
     ]
    }
   ],
   "source": [
    "selecionados_atual.info()"
   ]
  },
  {
   "cell_type": "code",
   "execution_count": 126,
   "metadata": {},
   "outputs": [],
   "source": [
    "#a = selecionados_atual.reset_index().tail(3)"
   ]
  },
  {
   "cell_type": "code",
   "execution_count": 127,
   "metadata": {},
   "outputs": [],
   "source": [
    "#a.nome_completo"
   ]
  },
  {
   "cell_type": "code",
   "execution_count": null,
   "metadata": {},
   "outputs": [],
   "source": []
  },
  {
   "cell_type": "code",
   "execution_count": 128,
   "metadata": {},
   "outputs": [],
   "source": [
    "selecionados_atual = selecionados_atual.drop_duplicates(['cpf_inteiro'], keep='first')"
   ]
  },
  {
   "cell_type": "code",
   "execution_count": 129,
   "metadata": {},
   "outputs": [
    {
     "name": "stdout",
     "output_type": "stream",
     "text": [
      "<class 'pandas.core.frame.DataFrame'>\n",
      "Int64Index: 8 entries, 1 to 25\n",
      "Data columns (total 34 columns):\n",
      "respondent_id                   8 non-null float64\n",
      "collector_id                    8 non-null float64\n",
      "date_created                    8 non-null datetime64[ns]\n",
      "date_modified                   8 non-null object\n",
      "ip_address                      8 non-null object\n",
      "email_address                   0 non-null float64\n",
      "first_name                      0 non-null float64\n",
      "last_name                       0 non-null float64\n",
      "custom_1                        0 non-null float64\n",
      "nome_completo                   8 non-null object\n",
      "e_mail_survey                   8 non-null object\n",
      "Cargo pretendido                8 non-null object\n",
      "cpf                             7 non-null object\n",
      "titulo_eleitor                  7 non-null object\n",
      "nome_na_urna                    7 non-null object\n",
      "numero_na_urna                  7 non-null object\n",
      "UF                              7 non-null object\n",
      "municipio_nascimento            7 non-null object\n",
      "Ano de nascimento               7 non-null object\n",
      "ocupacao_survey                 7 non-null object\n",
      "Partido político                7 non-null object\n",
      "site_candidato                  3 non-null object\n",
      "url_facebook                    6 non-null object\n",
      "url_twitter                     3 non-null object\n",
      "url_instagram                   6 non-null object\n",
      "url_youtube                     3 non-null object\n",
      "financiamento_coletivo          1 non-null object\n",
      "passado_limpo                   7 non-null object\n",
      "processos_primeira_instancia    7 non-null object\n",
      "detalhes_processos_survey       0 non-null object\n",
      "pacto                           7 non-null object\n",
      "aderiu_totalmente_medidas       7 non-null object\n",
      "justificativa_adesao_medidas    1 non-null object\n",
      "cpf_inteiro                     8 non-null object\n",
      "dtypes: datetime64[ns](1), float64(6), object(27)\n",
      "memory usage: 2.2+ KB\n"
     ]
    }
   ],
   "source": [
    "selecionados_atual.info()"
   ]
  },
  {
   "cell_type": "code",
   "execution_count": null,
   "metadata": {},
   "outputs": [],
   "source": []
  },
  {
   "cell_type": "markdown",
   "metadata": {},
   "source": [
    "# Acessa o molde vazio de arquivo consolidado geral - com dados gerais dos candidatos"
   ]
  },
  {
   "cell_type": "code",
   "execution_count": 111,
   "metadata": {},
   "outputs": [],
   "source": [
    "candidatos = pd.read_excel('candidatos_bens_padrao/base_padrao_dia5out.xlsx',sheet_name='Planilha1', converters={'cpf': lambda x: str(x),  \n",
    "                                                                                              'numero_urna': lambda x: str(x),\n",
    "                                                                                              'titulo_eleitor': lambda x: str(x)     \n",
    "                                                                                                  })"
   ]
  },
  {
   "cell_type": "code",
   "execution_count": 84,
   "metadata": {},
   "outputs": [
    {
     "name": "stdout",
     "output_type": "stream",
     "text": [
      "<class 'pandas.core.frame.DataFrame'>\n",
      "RangeIndex: 8263 entries, 0 to 8262\n",
      "Data columns (total 15 columns):\n",
      "uf                      8263 non-null object\n",
      "cargo                   8263 non-null object\n",
      "numero_urna             8263 non-null object\n",
      "nome_completo           8263 non-null object\n",
      "nome_urna               8263 non-null object\n",
      "cpf                     8263 non-null object\n",
      "e_mail_tse              8263 non-null object\n",
      "partido_eleicao         8263 non-null object\n",
      "uf_nascimento           8263 non-null object\n",
      "municipio_nascimento    8263 non-null object\n",
      "data_nascimento         8263 non-null object\n",
      "titulo_eleitor          8263 non-null object\n",
      "ocupacao_tse            8263 non-null object\n",
      "total_bens              5379 non-null float64\n",
      "detalhes_bens           8263 non-null object\n",
      "dtypes: float64(1), object(14)\n",
      "memory usage: 968.4+ KB\n"
     ]
    }
   ],
   "source": [
    "candidatos.info()"
   ]
  },
  {
   "cell_type": "code",
   "execution_count": null,
   "metadata": {},
   "outputs": [],
   "source": []
  },
  {
   "cell_type": "markdown",
   "metadata": {},
   "source": [
    "# Mostra dados dos selecionados atuais e faz limpezas"
   ]
  },
  {
   "cell_type": "code",
   "execution_count": 112,
   "metadata": {},
   "outputs": [
    {
     "data": {
      "text/html": [
       "<div>\n",
       "<style scoped>\n",
       "    .dataframe tbody tr th:only-of-type {\n",
       "        vertical-align: middle;\n",
       "    }\n",
       "\n",
       "    .dataframe tbody tr th {\n",
       "        vertical-align: top;\n",
       "    }\n",
       "\n",
       "    .dataframe thead th {\n",
       "        text-align: right;\n",
       "    }\n",
       "</style>\n",
       "<table border=\"1\" class=\"dataframe\">\n",
       "  <thead>\n",
       "    <tr style=\"text-align: right;\">\n",
       "      <th></th>\n",
       "      <th>titulo_eleitor</th>\n",
       "      <th>municipio_nascimento</th>\n",
       "      <th>UF</th>\n",
       "      <th>numero_na_urna</th>\n",
       "      <th>cpf_inteiro</th>\n",
       "    </tr>\n",
       "  </thead>\n",
       "  <tbody>\n",
       "    <tr>\n",
       "      <th>1</th>\n",
       "      <td>NaN</td>\n",
       "      <td>NaN</td>\n",
       "      <td>NaN</td>\n",
       "      <td>NaN</td>\n",
       "      <td>00000000000</td>\n",
       "    </tr>\n",
       "    <tr>\n",
       "      <th>5</th>\n",
       "      <td>3836842232</td>\n",
       "      <td>São Paulo</td>\n",
       "      <td>AM</td>\n",
       "      <td>180</td>\n",
       "      <td>07396570204</td>\n",
       "    </tr>\n",
       "    <tr>\n",
       "      <th>7</th>\n",
       "      <td>12334500221</td>\n",
       "      <td>Belo Horizonte</td>\n",
       "      <td>MG</td>\n",
       "      <td>3012</td>\n",
       "      <td>49882597653</td>\n",
       "    </tr>\n",
       "    <tr>\n",
       "      <th>11</th>\n",
       "      <td>7190041520</td>\n",
       "      <td>Teresina</td>\n",
       "      <td>PI</td>\n",
       "      <td>4545</td>\n",
       "      <td>34305327368</td>\n",
       "    </tr>\n",
       "    <tr>\n",
       "      <th>14</th>\n",
       "      <td>96726530191</td>\n",
       "      <td>São Paulo</td>\n",
       "      <td>SP</td>\n",
       "      <td>1989</td>\n",
       "      <td>53764498820</td>\n",
       "    </tr>\n",
       "    <tr>\n",
       "      <th>16</th>\n",
       "      <td>74136970663</td>\n",
       "      <td>Joaquim Tavora</td>\n",
       "      <td>PR</td>\n",
       "      <td>4599</td>\n",
       "      <td>39446310997</td>\n",
       "    </tr>\n",
       "    <tr>\n",
       "      <th>20</th>\n",
       "      <td>4500402372</td>\n",
       "      <td>Porto Velho</td>\n",
       "      <td>RO</td>\n",
       "      <td>1810</td>\n",
       "      <td>32677618249</td>\n",
       "    </tr>\n",
       "    <tr>\n",
       "      <th>25</th>\n",
       "      <td>8548342305</td>\n",
       "      <td>São Miguel D Oeste</td>\n",
       "      <td>RO</td>\n",
       "      <td>1111</td>\n",
       "      <td>35124032200</td>\n",
       "    </tr>\n",
       "  </tbody>\n",
       "</table>\n",
       "</div>"
      ],
      "text/plain": [
       "   titulo_eleitor municipio_nascimento   UF numero_na_urna  cpf_inteiro\n",
       "1             NaN                  NaN  NaN            NaN  00000000000\n",
       "5      3836842232           São Paulo    AM            180  07396570204\n",
       "7     12334500221       Belo Horizonte   MG           3012  49882597653\n",
       "11     7190041520             Teresina   PI           4545  34305327368\n",
       "14    96726530191            São Paulo   SP           1989  53764498820\n",
       "16    74136970663       Joaquim Tavora   PR           4599  39446310997\n",
       "20     4500402372         Porto Velho    RO           1810  32677618249\n",
       "25     8548342305   São Miguel D Oeste   RO           1111  35124032200"
      ]
     },
     "execution_count": 112,
     "metadata": {},
     "output_type": "execute_result"
    }
   ],
   "source": [
    "selecionados_atual[['titulo_eleitor', 'municipio_nascimento', 'UF', 'numero_na_urna', 'cpf_inteiro']]"
   ]
  },
  {
   "cell_type": "code",
   "execution_count": null,
   "metadata": {},
   "outputs": [],
   "source": []
  },
  {
   "cell_type": "markdown",
   "metadata": {},
   "source": [
    "# Cruza com o molde vazio de arquivo consolidado geral com selecionados atual"
   ]
  },
  {
   "cell_type": "code",
   "execution_count": 130,
   "metadata": {},
   "outputs": [],
   "source": [
    "checa = pd.merge(candidatos, selecionados_atual,  how='left', left_on=['titulo_eleitor','numero_urna', 'cpf'], \n",
    "                 right_on = ['titulo_eleitor','numero_na_urna', 'cpf_inteiro'])"
   ]
  },
  {
   "cell_type": "code",
   "execution_count": 132,
   "metadata": {},
   "outputs": [
    {
     "name": "stdout",
     "output_type": "stream",
     "text": [
      "<class 'pandas.core.frame.DataFrame'>\n",
      "Int64Index: 8263 entries, 0 to 8262\n",
      "Data columns (total 48 columns):\n",
      "uf                              8263 non-null object\n",
      "cargo                           8263 non-null object\n",
      "numero_urna                     8263 non-null object\n",
      "nome_completo_x                 8263 non-null object\n",
      "nome_urna                       8263 non-null object\n",
      "cpf_x                           8263 non-null object\n",
      "e_mail_tse                      8263 non-null object\n",
      "partido_eleicao                 8263 non-null object\n",
      "uf_nascimento                   8263 non-null object\n",
      "municipio_nascimento_x          8263 non-null object\n",
      "data_nascimento                 8263 non-null object\n",
      "titulo_eleitor                  8263 non-null object\n",
      "ocupacao_tse                    8263 non-null object\n",
      "total_bens                      5379 non-null float64\n",
      "detalhes_bens                   8263 non-null object\n",
      "respondent_id                   7 non-null float64\n",
      "collector_id                    7 non-null float64\n",
      "date_created                    7 non-null datetime64[ns]\n",
      "date_modified                   7 non-null object\n",
      "ip_address                      7 non-null object\n",
      "email_address                   0 non-null float64\n",
      "first_name                      0 non-null float64\n",
      "last_name                       0 non-null float64\n",
      "custom_1                        0 non-null float64\n",
      "nome_completo_y                 7 non-null object\n",
      "e_mail_survey                   7 non-null object\n",
      "Cargo pretendido                7 non-null object\n",
      "cpf_y                           7 non-null object\n",
      "nome_na_urna                    7 non-null object\n",
      "numero_na_urna                  7 non-null object\n",
      "UF                              7 non-null object\n",
      "municipio_nascimento_y          7 non-null object\n",
      "Ano de nascimento               7 non-null object\n",
      "ocupacao_survey                 7 non-null object\n",
      "Partido político                7 non-null object\n",
      "site_candidato                  3 non-null object\n",
      "url_facebook                    6 non-null object\n",
      "url_twitter                     3 non-null object\n",
      "url_instagram                   6 non-null object\n",
      "url_youtube                     3 non-null object\n",
      "financiamento_coletivo          1 non-null object\n",
      "passado_limpo                   7 non-null object\n",
      "processos_primeira_instancia    7 non-null object\n",
      "detalhes_processos_survey       0 non-null object\n",
      "pacto                           7 non-null object\n",
      "aderiu_totalmente_medidas       7 non-null object\n",
      "justificativa_adesao_medidas    1 non-null object\n",
      "cpf_inteiro                     7 non-null object\n",
      "dtypes: datetime64[ns](1), float64(7), object(40)\n",
      "memory usage: 3.1+ MB\n"
     ]
    }
   ],
   "source": [
    "checa.info()"
   ]
  },
  {
   "cell_type": "code",
   "execution_count": 137,
   "metadata": {},
   "outputs": [],
   "source": [
    "checa.to_excel('verifica_encontrados_survey.xlsx',sheet_name='Sheet1')"
   ]
  },
  {
   "cell_type": "code",
   "execution_count": null,
   "metadata": {},
   "outputs": [],
   "source": []
  },
  {
   "cell_type": "code",
   "execution_count": 133,
   "metadata": {},
   "outputs": [],
   "source": [
    "nomes_naoencontrados = pd.merge(candidatos, \n",
    "                                selecionados_atual, \n",
    "                        left_on=['titulo_eleitor','numero_urna', 'cpf'], \n",
    "                        right_on = ['titulo_eleitor','numero_na_urna', 'cpf_inteiro'],\n",
    "                        how='outer',\n",
    "                        indicator=True)"
   ]
  },
  {
   "cell_type": "code",
   "execution_count": 134,
   "metadata": {},
   "outputs": [],
   "source": [
    "#nomes_naoencontrados = pd.merge(candidatos, \n",
    "#                                selecionados_atual, \n",
    "#                        left_on= ['municipio_compara', 'uf_nascimento', 'numero_urna', 'titulo_eleitor', 'cpf'], \n",
    "#                        right_on = ['municipio_compara', 'UF', 'numero_na_urna',  'titulo_eleitor', 'cpf_inteiro'],\n",
    "#                        how='outer',\n",
    "#                        indicator=True)"
   ]
  },
  {
   "cell_type": "code",
   "execution_count": 135,
   "metadata": {},
   "outputs": [],
   "source": [
    "rdf = nomes_naoencontrados.query(\"_merge == 'right_only'\").drop('_merge',axis=1)"
   ]
  },
  {
   "cell_type": "code",
   "execution_count": 136,
   "metadata": {},
   "outputs": [
    {
     "data": {
      "text/html": [
       "<div>\n",
       "<style scoped>\n",
       "    .dataframe tbody tr th:only-of-type {\n",
       "        vertical-align: middle;\n",
       "    }\n",
       "\n",
       "    .dataframe tbody tr th {\n",
       "        vertical-align: top;\n",
       "    }\n",
       "\n",
       "    .dataframe thead th {\n",
       "        text-align: right;\n",
       "    }\n",
       "</style>\n",
       "<table border=\"1\" class=\"dataframe\">\n",
       "  <thead>\n",
       "    <tr style=\"text-align: right;\">\n",
       "      <th></th>\n",
       "      <th>nome_na_urna</th>\n",
       "      <th>numero_na_urna</th>\n",
       "      <th>UF</th>\n",
       "      <th>cpf_inteiro</th>\n",
       "    </tr>\n",
       "  </thead>\n",
       "  <tbody>\n",
       "    <tr>\n",
       "      <th>8263</th>\n",
       "      <td>NaN</td>\n",
       "      <td>NaN</td>\n",
       "      <td>NaN</td>\n",
       "      <td>00000000000</td>\n",
       "    </tr>\n",
       "  </tbody>\n",
       "</table>\n",
       "</div>"
      ],
      "text/plain": [
       "     nome_na_urna numero_na_urna   UF  cpf_inteiro\n",
       "8263          NaN            NaN  NaN  00000000000"
      ]
     },
     "execution_count": 136,
     "metadata": {},
     "output_type": "execute_result"
    }
   ],
   "source": [
    "rdf[['nome_na_urna', 'numero_na_urna', 'UF', 'cpf_inteiro']]"
   ]
  },
  {
   "cell_type": "code",
   "execution_count": null,
   "metadata": {},
   "outputs": [],
   "source": []
  },
  {
   "cell_type": "code",
   "execution_count": null,
   "metadata": {},
   "outputs": [],
   "source": []
  },
  {
   "cell_type": "markdown",
   "metadata": {},
   "source": [
    "### 1 - Verifica os nomes não encontrados, se pelo menos numero_urna e cpf batem\n",
    "\n",
    "### 2 - Altera esses nomes errados\n",
    "\n",
    "### 3 - Cria um arquivo só com esses selecionados para cruzar com pacto"
   ]
  },
  {
   "cell_type": "code",
   "execution_count": null,
   "metadata": {},
   "outputs": [],
   "source": []
  },
  {
   "cell_type": "markdown",
   "metadata": {},
   "source": [
    "####  Cria no final um selecionados_atual com as colunas corretas e uma pacto vazia"
   ]
  },
  {
   "cell_type": "code",
   "execution_count": null,
   "metadata": {},
   "outputs": [],
   "source": []
  },
  {
   "cell_type": "code",
   "execution_count": null,
   "metadata": {},
   "outputs": [],
   "source": []
  },
  {
   "cell_type": "markdown",
   "metadata": {},
   "source": [
    "# Verifica se esses estão no Pacto e preenche coluna pacto"
   ]
  },
  {
   "cell_type": "code",
   "execution_count": 140,
   "metadata": {},
   "outputs": [],
   "source": [
    "selecionados_atual = pd.read_excel('resultados/selecionados_atual_5out_2.xlsx',sheet_name='Planilha1', converters={'cpf': lambda x: str(x),  \n",
    "                                                                                              'numero_urna': lambda x: str(x)\n",
    "                                                                                                  })"
   ]
  },
  {
   "cell_type": "code",
   "execution_count": 141,
   "metadata": {},
   "outputs": [
    {
     "name": "stdout",
     "output_type": "stream",
     "text": [
      "<class 'pandas.core.frame.DataFrame'>\n",
      "RangeIndex: 7 entries, 0 to 6\n",
      "Data columns (total 31 columns):\n",
      "uf                              7 non-null object\n",
      "cargo                           7 non-null object\n",
      "numero_urna                     7 non-null object\n",
      "nome_completo                   7 non-null object\n",
      "nome_urna                       7 non-null object\n",
      "cpf                             7 non-null object\n",
      "e_mail_tse                      7 non-null object\n",
      "partido_eleicao                 7 non-null object\n",
      "data_nascimento                 7 non-null object\n",
      "ocupacao_tse                    7 non-null object\n",
      "total_bens                      7 non-null float64\n",
      "detalhes_bens                   7 non-null object\n",
      "resumo_stf                      0 non-null float64\n",
      "total_inqueritos                0 non-null float64\n",
      "total_acoes_penais              0 non-null float64\n",
      "detalhes_processos              0 non-null float64\n",
      "reu_no_stf                      0 non-null float64\n",
      "passado_limpo                   7 non-null object\n",
      "e_mail_survey                   7 non-null object\n",
      "ocupacao_survey                 7 non-null object\n",
      "site_candidato                  3 non-null object\n",
      "url_facebook                    6 non-null object\n",
      "url_twitter                     3 non-null object\n",
      "url_instagram                   6 non-null object\n",
      "url_youtube                     3 non-null object\n",
      "financiamento_coletivo          1 non-null object\n",
      "processos_primeira_instancia    7 non-null object\n",
      "detalhes_processos_survey       0 non-null float64\n",
      "aderiu_totalmente_medidas       7 non-null object\n",
      "justificativa_adesao_medidas    1 non-null object\n",
      "pacto                           0 non-null float64\n",
      "dtypes: float64(8), object(23)\n",
      "memory usage: 1.8+ KB\n"
     ]
    }
   ],
   "source": [
    "selecionados_atual.info()"
   ]
  },
  {
   "cell_type": "code",
   "execution_count": null,
   "metadata": {},
   "outputs": [],
   "source": []
  },
  {
   "cell_type": "code",
   "execution_count": 142,
   "metadata": {},
   "outputs": [],
   "source": [
    "checa_pacto = pd.merge(selecionados_atual, pacto,  how='left', left_on='cpf',\n",
    "                 right_on = 'cpf_inteiro')"
   ]
  },
  {
   "cell_type": "code",
   "execution_count": 143,
   "metadata": {},
   "outputs": [
    {
     "name": "stdout",
     "output_type": "stream",
     "text": [
      "<class 'pandas.core.frame.DataFrame'>\n",
      "Int64Index: 7 entries, 0 to 6\n",
      "Data columns (total 57 columns):\n",
      "uf                              7 non-null object\n",
      "cargo                           7 non-null object\n",
      "numero_urna                     7 non-null object\n",
      "nome_completo                   7 non-null object\n",
      "nome_urna                       7 non-null object\n",
      "cpf                             7 non-null object\n",
      "e_mail_tse                      7 non-null object\n",
      "partido_eleicao                 7 non-null object\n",
      "data_nascimento                 7 non-null object\n",
      "ocupacao_tse                    7 non-null object\n",
      "total_bens                      7 non-null float64\n",
      "detalhes_bens                   7 non-null object\n",
      "resumo_stf                      0 non-null float64\n",
      "total_inqueritos                0 non-null float64\n",
      "total_acoes_penais              0 non-null float64\n",
      "detalhes_processos              0 non-null float64\n",
      "reu_no_stf                      0 non-null float64\n",
      "passado_limpo                   7 non-null object\n",
      "e_mail_survey                   7 non-null object\n",
      "ocupacao_survey                 7 non-null object\n",
      "site_candidato                  3 non-null object\n",
      "url_facebook                    6 non-null object\n",
      "url_twitter                     3 non-null object\n",
      "url_instagram                   6 non-null object\n",
      "url_youtube                     3 non-null object\n",
      "financiamento_coletivo          1 non-null object\n",
      "processos_primeira_instancia    7 non-null object\n",
      "detalhes_processos_survey       0 non-null float64\n",
      "aderiu_totalmente_medidas       7 non-null object\n",
      "justificativa_adesao_medidas    1 non-null object\n",
      "pacto                           0 non-null float64\n",
      "Nome                            2 non-null object\n",
      "Sobrenome                       2 non-null object\n",
      "(End)                           0 non-null float64\n",
      "Telefone                        1 non-null object\n",
      "Estado                          2 non-null object\n",
      "Cidade                          2 non-null object\n",
      "Partido                         2 non-null object\n",
      "Movimento                       0 non-null object\n",
      "Cargo concorrente               2 non-null object\n",
      "Facebook                        2 non-null object\n",
      "Instagram                       2 non-null object\n",
      "Twitter                         0 non-null object\n",
      "Youtube/Linkedin                0 non-null object\n",
      "Site                            0 non-null object\n",
      "Crowdfunding                    0 non-null object\n",
      "Mandato atual                   2 non-null object\n",
      "CPF                             2 non-null object\n",
      "Nº urna                         2 non-null object\n",
      "Data de adesão                  2 non-null object\n",
      "adesao                          2 non-null object\n",
      "video                           2 non-null object\n",
      "Responsável                     1 non-null object\n",
      "Unnamed: 22                     0 non-null object\n",
      "cpf_limpo                       2 non-null float64\n",
      "cpf_inteiro                     2 non-null object\n",
      "aceite_ajustado                 2 non-null object\n",
      "dtypes: float64(10), object(47)\n",
      "memory usage: 3.2+ KB\n"
     ]
    }
   ],
   "source": [
    "checa_pacto.info()"
   ]
  },
  {
   "cell_type": "code",
   "execution_count": 144,
   "metadata": {},
   "outputs": [
    {
     "data": {
      "text/plain": [
       "Series([], Name: nome_completo, dtype: object)"
      ]
     },
     "execution_count": 144,
     "metadata": {},
     "output_type": "execute_result"
    }
   ],
   "source": [
    "checa_pacto.to_excel('verifica_encontrados_pacto.xlsx',sheet_name='Sheet1')\n",
    "\n",
    "nomes_naoencontrados = pd.merge(selecionados_last, \n",
    "                                pacto, \n",
    "                        left_on='cpf',\n",
    "                        right_on = 'cpf_inteiro',\n",
    "                        how='outer',\n",
    "                        indicator=True)\n",
    "ldf = nomes_naoencontrados.query(\"_merge == 'lef_only'\").drop('_merge',axis=1)\n",
    "ldf.nome_completo"
   ]
  },
  {
   "cell_type": "code",
   "execution_count": null,
   "metadata": {},
   "outputs": [],
   "source": []
  },
  {
   "cell_type": "markdown",
   "metadata": {},
   "source": [
    "#### 1 - Atualiza coluna pacto nos encontrados. Verificar se em Pacto há CPF duplicado, deixar a última versão\n",
    "\n",
    "#### 2 - Faz última verificação visual nos não encontrados\n",
    "\n",
    "#### 3 - Ajustar nome de colunas\n",
    "\n",
    "#### 4 - Coloca esse conjunto no final do último arquivo consolidado geral. Exemplo: planilhacompleta_consolidade_14set_parcial\n",
    "\n",
    "#### 5 - Apaga colunas tenta_reeleicao e cor_avaliacao. Salva com o nome do dia"
   ]
  },
  {
   "cell_type": "code",
   "execution_count": null,
   "metadata": {},
   "outputs": [],
   "source": []
  },
  {
   "cell_type": "code",
   "execution_count": null,
   "metadata": {},
   "outputs": [],
   "source": []
  },
  {
   "cell_type": "markdown",
   "metadata": {},
   "source": [
    "# Verifica quais do Pacto não estão no TSE"
   ]
  },
  {
   "cell_type": "code",
   "execution_count": 73,
   "metadata": {},
   "outputs": [],
   "source": [
    "consolidado = pd.read_excel('resultados/consolidado/planilhacompleta_consolidade_21set.xlsx',sheet_name='Sheet1', converters={'cpf': lambda x: str(x),  \n",
    "                                                                                              'numero_urna': lambda x: str(x)   \n",
    "                                                                                                  })"
   ]
  },
  {
   "cell_type": "code",
   "execution_count": 74,
   "metadata": {},
   "outputs": [],
   "source": [
    "verifica = pd.merge(pacto, consolidado,  how='left', left_on='cpf_inteiro',\n",
    "                 right_on = 'cpf')"
   ]
  },
  {
   "cell_type": "code",
   "execution_count": 75,
   "metadata": {},
   "outputs": [
    {
     "name": "stdout",
     "output_type": "stream",
     "text": [
      "<class 'pandas.core.frame.DataFrame'>\n",
      "Int64Index: 445 entries, 0 to 444\n",
      "Data columns (total 59 columns):\n",
      "Nome                            445 non-null object\n",
      "Sobrenome                       437 non-null object\n",
      "(End)                           0 non-null float64\n",
      "Telefone                        346 non-null object\n",
      "Estado                          442 non-null object\n",
      "Cidade                          438 non-null object\n",
      "Partido                         426 non-null object\n",
      "Movimento                       200 non-null object\n",
      "Cargo concorrente               443 non-null object\n",
      "Facebook                        387 non-null object\n",
      "Instagram                       143 non-null object\n",
      "Twitter                         23 non-null object\n",
      "Youtube/Linkedin                15 non-null object\n",
      "Site                            141 non-null object\n",
      "Crowdfunding                    12 non-null object\n",
      "Mandato atual                   401 non-null object\n",
      "CPF                             444 non-null object\n",
      "Nº urna                         389 non-null object\n",
      "Data de adesão                  426 non-null object\n",
      "adesao                          445 non-null object\n",
      "video                           445 non-null object\n",
      "Responsável                     50 non-null object\n",
      "Unnamed: 22                     1 non-null object\n",
      "cpf_limpo                       444 non-null float64\n",
      "cpf_inteiro                     445 non-null object\n",
      "aceite_ajustado                 445 non-null object\n",
      "uf                              358 non-null object\n",
      "cargo                           358 non-null object\n",
      "numero_urna                     358 non-null object\n",
      "nome_completo                   358 non-null object\n",
      "nome_urna                       358 non-null object\n",
      "cpf                             358 non-null object\n",
      "e_mail_tse                      358 non-null object\n",
      "partido_eleicao                 358 non-null object\n",
      "data_nascimento                 358 non-null object\n",
      "ocupacao_tse                    358 non-null object\n",
      "total_bens                      358 non-null object\n",
      "detalhes_bens                   358 non-null object\n",
      "resumo_stf                      293 non-null object\n",
      "total_inqueritos                293 non-null object\n",
      "total_acoes_penais              293 non-null object\n",
      "detalhes_processos              302 non-null object\n",
      "reu_no_stf                      0 non-null float64\n",
      "passado_limpo                   358 non-null object\n",
      "e_mail_survey                   312 non-null object\n",
      "ocupacao_survey                 312 non-null object\n",
      "site_candidato                  190 non-null object\n",
      "url_facebook                    310 non-null object\n",
      "url_twitter                     182 non-null object\n",
      "url_instagram                   260 non-null object\n",
      "url_youtube                     151 non-null object\n",
      "financiamento_coletivo          164 non-null object\n",
      "processos_primeira_instancia    358 non-null object\n",
      "detalhes_processos_survey       358 non-null object\n",
      "aderiu_totalmente_medidas       358 non-null object\n",
      "justificativa_adesao_medidas    358 non-null object\n",
      "pacto                           358 non-null object\n",
      "tenta_reeleicao                 358 non-null object\n",
      "cor_avaliacao                   358 non-null object\n",
      "dtypes: float64(3), object(56)\n",
      "memory usage: 208.6+ KB\n"
     ]
    }
   ],
   "source": [
    "verifica.info()"
   ]
  },
  {
   "cell_type": "code",
   "execution_count": 76,
   "metadata": {},
   "outputs": [],
   "source": [
    "verifica.to_excel('pacto_faltantes.xlsx',sheet_name='Sheet1')"
   ]
  },
  {
   "cell_type": "code",
   "execution_count": null,
   "metadata": {},
   "outputs": [],
   "source": []
  },
  {
   "cell_type": "code",
   "execution_count": null,
   "metadata": {},
   "outputs": [],
   "source": []
  },
  {
   "cell_type": "markdown",
   "metadata": {},
   "source": [
    "# Verifica quais do Pacto tiveram alteração no dia"
   ]
  },
  {
   "cell_type": "code",
   "execution_count": 2,
   "metadata": {},
   "outputs": [
    {
     "name": "stdout",
     "output_type": "stream",
     "text": [
      "<class 'pandas.core.frame.DataFrame'>\n",
      "Int64Index: 8292 entries, 0 to 8291\n",
      "Data columns (total 59 columns):\n",
      "uf                              8292 non-null object\n",
      "cargo                           8292 non-null object\n",
      "numero_urna                     8292 non-null object\n",
      "nome_completo                   8292 non-null object\n",
      "nome_urna                       8292 non-null object\n",
      "cpf                             8292 non-null object\n",
      "e_mail_tse                      8292 non-null object\n",
      "partido_eleicao                 8292 non-null object\n",
      "data_nascimento                 8292 non-null object\n",
      "ocupacao_tse                    8292 non-null object\n",
      "total_bens                      8292 non-null object\n",
      "detalhes_bens                   8292 non-null object\n",
      "resumo_stf                      0 non-null float64\n",
      "total_inqueritos                8292 non-null object\n",
      "total_acoes_penais              0 non-null float64\n",
      "detalhes_processos              0 non-null float64\n",
      "reu_no_stf                      37 non-null object\n",
      "passado_limpo                   8292 non-null object\n",
      "e_mail_survey                   648 non-null object\n",
      "ocupacao_survey                 648 non-null object\n",
      "site_candidato                  352 non-null object\n",
      "url_facebook                    629 non-null object\n",
      "url_twitter                     325 non-null object\n",
      "url_instagram                   516 non-null object\n",
      "url_youtube                     284 non-null object\n",
      "financiamento_coletivo          280 non-null object\n",
      "processos_primeira_instancia    8292 non-null object\n",
      "detalhes_processos_survey       8292 non-null object\n",
      "aderiu_totalmente_medidas       8292 non-null object\n",
      "justificativa_adesao_medidas    8292 non-null object\n",
      "pacto                           8292 non-null object\n",
      "tenta_reeleicao                 8292 non-null object\n",
      "cor_avaliacao                   8292 non-null object\n",
      "Nome                            418 non-null object\n",
      "Sobrenome                       414 non-null object\n",
      "(End)                           0 non-null float64\n",
      "Telefone                        319 non-null object\n",
      "Estado                          416 non-null object\n",
      "Cidade                          411 non-null object\n",
      "Partido                         410 non-null object\n",
      "Movimento                       182 non-null object\n",
      "Cargo concorrente               416 non-null object\n",
      "Facebook                        378 non-null object\n",
      "Instagram                       176 non-null object\n",
      "Twitter                         17 non-null object\n",
      "Youtube/Linkedin                13 non-null object\n",
      "Site                            118 non-null object\n",
      "Crowdfunding                    13 non-null object\n",
      "Mandato atual                   401 non-null object\n",
      "CPF                             427 non-null object\n",
      "Nº urna                         393 non-null object\n",
      "Data de adesão                  408 non-null object\n",
      "adesao                          427 non-null object\n",
      "video                           420 non-null object\n",
      "Responsável                     86 non-null object\n",
      "Unnamed: 22                     0 non-null object\n",
      "cpf_limpo                       427 non-null float64\n",
      "cpf_inteiro                     427 non-null object\n",
      "aceite_ajustado                 427 non-null object\n",
      "dtypes: float64(5), object(54)\n",
      "memory usage: 3.8+ MB\n"
     ]
    }
   ],
   "source": [
    "pacto = pd.read_excel('pacto/pacto_4out_2.xlsx',sheet_name='Sheet1', converters={'cpf_inteiro': lambda x: str(x)})\n",
    "\n",
    "pacto = pacto.drop_duplicates(['cpf_inteiro'], keep='last')\n",
    "\n",
    "consolidado = pd.read_excel('resultados/consolidado/VALEESTE_planilhacompleta_consolidade_4out.xlsx',sheet_name='Sheet1', converters={'cpf': lambda x: str(x),  \n",
    "                                                                                              'numero_urna': lambda x: str(x)   \n",
    "                                                                                                  })\n",
    "checa_pacto = pd.merge(consolidado, pacto,  how='left', left_on='cpf',\n",
    "                 right_on = 'cpf_inteiro')\n",
    "\n",
    "checa_pacto.info()\n",
    "\n",
    "checa_pacto.to_excel('verifica_encontrados_pacto.xlsx',sheet_name='Sheet1')"
   ]
  },
  {
   "cell_type": "code",
   "execution_count": null,
   "metadata": {},
   "outputs": [],
   "source": []
  }
 ],
 "metadata": {
  "kernelspec": {
   "display_name": "Python 3",
   "language": "python",
   "name": "python3"
  },
  "language_info": {
   "codemirror_mode": {
    "name": "ipython",
    "version": 3
   },
   "file_extension": ".py",
   "mimetype": "text/x-python",
   "name": "python",
   "nbconvert_exporter": "python",
   "pygments_lexer": "ipython3",
   "version": "3.6.2"
  }
 },
 "nbformat": 4,
 "nbformat_minor": 2
}
