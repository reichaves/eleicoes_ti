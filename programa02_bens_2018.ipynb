{
 "cells": [
  {
   "cell_type": "code",
   "execution_count": 1,
   "metadata": {},
   "outputs": [],
   "source": [
    "# -*- coding: utf-8\n",
    "# Transparency International - Brazil (https://transparenciainternacional.org.br)\n",
    "# Reinaldo Chaves (@paidatocandeira)\n",
    "# Carrega os bens dos candidatos das Eleições 2018\n",
    "#"
   ]
  },
  {
   "cell_type": "code",
   "execution_count": null,
   "metadata": {},
   "outputs": [],
   "source": []
  },
  {
   "cell_type": "code",
   "execution_count": null,
   "metadata": {},
   "outputs": [],
   "source": [
    "import pandas as pd\n",
    "import unidecode\n",
    "from pathlib import Path\n",
    "import math"
   ]
  },
  {
   "cell_type": "code",
   "execution_count": null,
   "metadata": {},
   "outputs": [],
   "source": []
  },
  {
   "cell_type": "code",
   "execution_count": 2,
   "metadata": {},
   "outputs": [],
   "source": [
    "# Função para retirar acentuação\n",
    "def f(str):\n",
    "    return (unidecode.unidecode(str))"
   ]
  },
  {
   "cell_type": "code",
   "execution_count": null,
   "metadata": {},
   "outputs": [],
   "source": []
  },
  {
   "cell_type": "code",
   "execution_count": 3,
   "metadata": {},
   "outputs": [],
   "source": [
    "# Funcao para ler arquivos em diretorio - bens 2014\n",
    "def _reader_b_2018(fname):\n",
    "    return pd.read_csv(fname, sep=';', encoding='latin_1', converters={'SQ_CANDIDATO': lambda x: str(x)}, decimal = ',')"
   ]
  },
  {
   "cell_type": "code",
   "execution_count": null,
   "metadata": {},
   "outputs": [],
   "source": []
  },
  {
   "cell_type": "code",
   "execution_count": 4,
   "metadata": {},
   "outputs": [],
   "source": [
    "# Cria arquivo único\n",
    "folder = Path(\"bens/bens_2018\")\n",
    "bens_2018 = pd.concat([\n",
    "    _reader_b_2018(txt)\n",
    "    for txt in folder.glob(\"*.csv\")\n",
    "])"
   ]
  },
  {
   "cell_type": "code",
   "execution_count": 5,
   "metadata": {},
   "outputs": [
    {
     "name": "stdout",
     "output_type": "stream",
     "text": [
      "<class 'pandas.core.frame.DataFrame'>\n",
      "Int64Index: 93200 entries, 0 to 2589\n",
      "Data columns (total 19 columns):\n",
      "DT_GERACAO               93200 non-null object\n",
      "HH_GERACAO               93200 non-null object\n",
      "ANO_ELEICAO              93200 non-null int64\n",
      "CD_TIPO_ELEICAO          93200 non-null int64\n",
      "NM_TIPO_ELEICAO          93200 non-null object\n",
      "CD_ELEICAO               93200 non-null int64\n",
      "DS_ELEICAO               93200 non-null object\n",
      "DT_ELEICAO               93200 non-null object\n",
      "SG_UF                    93200 non-null object\n",
      "SG_UE                    93200 non-null object\n",
      "NM_UE                    93200 non-null object\n",
      "SQ_CANDIDATO             93200 non-null object\n",
      "NR_ORDEM_CANDIDATO       93200 non-null int64\n",
      "CD_TIPO_BEM_CANDIDATO    93200 non-null int64\n",
      "DS_TIPO_BEM_CANDIDATO    93200 non-null object\n",
      "DS_BEM_CANDIDATO         93200 non-null object\n",
      "VR_BEM_CANDIDATO         93200 non-null float64\n",
      "DT_ULTIMA_ATUALIZACAO    93200 non-null object\n",
      "HH_ULTIMA_ATUALIZACAO    93200 non-null object\n",
      "dtypes: float64(1), int64(5), object(13)\n",
      "memory usage: 14.2+ MB\n"
     ]
    }
   ],
   "source": [
    "bens_2018.info()"
   ]
  },
  {
   "cell_type": "code",
   "execution_count": 6,
   "metadata": {},
   "outputs": [
    {
     "name": "stdout",
     "output_type": "stream",
     "text": [
      "<class 'pandas.core.frame.DataFrame'>\n",
      "Int64Index: 93200 entries, 0 to 2589\n",
      "Data columns (total 4 columns):\n",
      "uf            93200 non-null object\n",
      "sequencial    93200 non-null object\n",
      "descricao     93200 non-null object\n",
      "valor         93200 non-null float64\n",
      "dtypes: float64(1), object(3)\n",
      "memory usage: 3.6+ MB\n"
     ]
    }
   ],
   "source": [
    "# Apaga colunas inúteis\n",
    "del bens_2018['DT_GERACAO']\n",
    "del bens_2018['HH_GERACAO']\n",
    "del bens_2018['ANO_ELEICAO']\n",
    "del bens_2018['CD_TIPO_ELEICAO']\n",
    "del bens_2018['NM_TIPO_ELEICAO']\n",
    "del bens_2018['CD_ELEICAO']\n",
    "del bens_2018['DS_ELEICAO']\n",
    "del bens_2018['DT_ELEICAO']\n",
    "del bens_2018['SG_UE']\n",
    "del bens_2018['NM_UE']\n",
    "del bens_2018['DS_BEM_CANDIDATO']\n",
    "del bens_2018['NR_ORDEM_CANDIDATO']\n",
    "del bens_2018['CD_TIPO_BEM_CANDIDATO']\n",
    "del bens_2018['DT_ULTIMA_ATUALIZACAO']\n",
    "del bens_2018['HH_ULTIMA_ATUALIZACAO']\n",
    "\n",
    "bens_2018.columns  = ['uf', 'sequencial', 'descricao', 'valor']\n",
    "bens_2018.info()"
   ]
  },
  {
   "cell_type": "code",
   "execution_count": 7,
   "metadata": {},
   "outputs": [
    {
     "data": {
      "text/html": [
       "<div>\n",
       "<style scoped>\n",
       "    .dataframe tbody tr th:only-of-type {\n",
       "        vertical-align: middle;\n",
       "    }\n",
       "\n",
       "    .dataframe tbody tr th {\n",
       "        vertical-align: top;\n",
       "    }\n",
       "\n",
       "    .dataframe thead th {\n",
       "        text-align: right;\n",
       "    }\n",
       "</style>\n",
       "<table border=\"1\" class=\"dataframe\">\n",
       "  <thead>\n",
       "    <tr style=\"text-align: right;\">\n",
       "      <th></th>\n",
       "      <th>uf</th>\n",
       "      <th>sequencial</th>\n",
       "      <th>descricao</th>\n",
       "      <th>valor</th>\n",
       "    </tr>\n",
       "  </thead>\n",
       "  <tbody>\n",
       "    <tr>\n",
       "      <th>15</th>\n",
       "      <td>ES</td>\n",
       "      <td>80000620180</td>\n",
       "      <td>Veículo automotor terrestre: caminhão, automóv...</td>\n",
       "      <td>110000.00</td>\n",
       "    </tr>\n",
       "    <tr>\n",
       "      <th>326</th>\n",
       "      <td>ES</td>\n",
       "      <td>80000620180</td>\n",
       "      <td>Outros bens imóveis</td>\n",
       "      <td>32000.00</td>\n",
       "    </tr>\n",
       "    <tr>\n",
       "      <th>778</th>\n",
       "      <td>ES</td>\n",
       "      <td>80000620180</td>\n",
       "      <td>Veículo automotor terrestre: caminhão, automóv...</td>\n",
       "      <td>4000.00</td>\n",
       "    </tr>\n",
       "    <tr>\n",
       "      <th>980</th>\n",
       "      <td>ES</td>\n",
       "      <td>80000620180</td>\n",
       "      <td>Apartamento</td>\n",
       "      <td>354000.00</td>\n",
       "    </tr>\n",
       "    <tr>\n",
       "      <th>1761</th>\n",
       "      <td>ES</td>\n",
       "      <td>80000620180</td>\n",
       "      <td>Construção</td>\n",
       "      <td>24970.54</td>\n",
       "    </tr>\n",
       "    <tr>\n",
       "      <th>1765</th>\n",
       "      <td>ES</td>\n",
       "      <td>80000620180</td>\n",
       "      <td>Construção</td>\n",
       "      <td>103418.77</td>\n",
       "    </tr>\n",
       "  </tbody>\n",
       "</table>\n",
       "</div>"
      ],
      "text/plain": [
       "      uf   sequencial                                          descricao  \\\n",
       "15    ES  80000620180  Veículo automotor terrestre: caminhão, automóv...   \n",
       "326   ES  80000620180                                Outros bens imóveis   \n",
       "778   ES  80000620180  Veículo automotor terrestre: caminhão, automóv...   \n",
       "980   ES  80000620180                                        Apartamento   \n",
       "1761  ES  80000620180                                         Construção   \n",
       "1765  ES  80000620180                                         Construção   \n",
       "\n",
       "          valor  \n",
       "15    110000.00  \n",
       "326    32000.00  \n",
       "778     4000.00  \n",
       "980   354000.00  \n",
       "1761   24970.54  \n",
       "1765  103418.77  "
      ]
     },
     "execution_count": 7,
     "metadata": {},
     "output_type": "execute_result"
    }
   ],
   "source": [
    "total1 = bens_2018[(bens_2018['sequencial'] == '80000620180')]\n",
    "total1"
   ]
  },
  {
   "cell_type": "code",
   "execution_count": null,
   "metadata": {},
   "outputs": [],
   "source": []
  },
  {
   "cell_type": "markdown",
   "metadata": {},
   "source": [
    "Carrega os candidatos para deputados federais e senador"
   ]
  },
  {
   "cell_type": "code",
   "execution_count": 8,
   "metadata": {},
   "outputs": [],
   "source": [
    "candidatos_2018 = pd.read_excel('resultados/candidatos_2018_atual_atual.xlsx',sheet_name='Sheet1', converters={'sequencial': lambda x: str(x), \n",
    "                                                                                              'cpf': lambda x: str(x),  \n",
    "                                                                                              'numero_urna': lambda x: str(x),\n",
    "                                                                                              'titulo_eleitor': lambda x: str(x),     \n",
    "                                                                                                  })"
   ]
  },
  {
   "cell_type": "code",
   "execution_count": 9,
   "metadata": {},
   "outputs": [
    {
     "name": "stdout",
     "output_type": "stream",
     "text": [
      "<class 'pandas.core.frame.DataFrame'>\n",
      "Int64Index: 8263 entries, 21 to 458\n",
      "Data columns (total 16 columns):\n",
      "uf                      8263 non-null object\n",
      "cargo                   8263 non-null object\n",
      "sequencial              8263 non-null object\n",
      "numero_urna             8263 non-null object\n",
      "nome_completo           8263 non-null object\n",
      "nome_urna               8263 non-null object\n",
      "cpf                     8263 non-null object\n",
      "e_mail                  8263 non-null object\n",
      "situacao_candidatura    8263 non-null object\n",
      "partido_eleicao         8263 non-null object\n",
      "uf_nascimento           8263 non-null object\n",
      "municipio_nascimento    8263 non-null object\n",
      "data_nascimento         8263 non-null object\n",
      "titulo_eleitor          8263 non-null object\n",
      "ocupacao                8263 non-null object\n",
      "reeleicao               8263 non-null object\n",
      "dtypes: object(16)\n",
      "memory usage: 1.1+ MB\n"
     ]
    }
   ],
   "source": [
    "candidatos_2018.info()"
   ]
  },
  {
   "cell_type": "code",
   "execution_count": null,
   "metadata": {},
   "outputs": [],
   "source": []
  },
  {
   "cell_type": "markdown",
   "metadata": {},
   "source": [
    "Une bens e candidados pelo código sequencial"
   ]
  },
  {
   "cell_type": "code",
   "execution_count": 10,
   "metadata": {},
   "outputs": [],
   "source": [
    "bens_gerais_candidatos_2018 =  pd.merge(candidatos_2018, bens_2018, left_on='sequencial', right_on='sequencial')"
   ]
  },
  {
   "cell_type": "code",
   "execution_count": 11,
   "metadata": {},
   "outputs": [
    {
     "name": "stdout",
     "output_type": "stream",
     "text": [
      "<class 'pandas.core.frame.DataFrame'>\n",
      "Int64Index: 32618 entries, 0 to 32617\n",
      "Data columns (total 19 columns):\n",
      "uf_x                    32618 non-null object\n",
      "cargo                   32618 non-null object\n",
      "sequencial              32618 non-null object\n",
      "numero_urna             32618 non-null object\n",
      "nome_completo           32618 non-null object\n",
      "nome_urna               32618 non-null object\n",
      "cpf                     32618 non-null object\n",
      "e_mail                  32618 non-null object\n",
      "situacao_candidatura    32618 non-null object\n",
      "partido_eleicao         32618 non-null object\n",
      "uf_nascimento           32618 non-null object\n",
      "municipio_nascimento    32618 non-null object\n",
      "data_nascimento         32618 non-null object\n",
      "titulo_eleitor          32618 non-null object\n",
      "ocupacao                32618 non-null object\n",
      "reeleicao               32618 non-null object\n",
      "uf_y                    32618 non-null object\n",
      "descricao               32618 non-null object\n",
      "valor                   32618 non-null float64\n",
      "dtypes: float64(1), object(18)\n",
      "memory usage: 5.0+ MB\n"
     ]
    }
   ],
   "source": [
    "bens_gerais_candidatos_2018.info()"
   ]
  },
  {
   "cell_type": "code",
   "execution_count": 12,
   "metadata": {},
   "outputs": [
    {
     "data": {
      "text/html": [
       "<div>\n",
       "<style scoped>\n",
       "    .dataframe tbody tr th:only-of-type {\n",
       "        vertical-align: middle;\n",
       "    }\n",
       "\n",
       "    .dataframe tbody tr th {\n",
       "        vertical-align: top;\n",
       "    }\n",
       "\n",
       "    .dataframe thead th {\n",
       "        text-align: right;\n",
       "    }\n",
       "</style>\n",
       "<table border=\"1\" class=\"dataframe\">\n",
       "  <thead>\n",
       "    <tr style=\"text-align: right;\">\n",
       "      <th></th>\n",
       "      <th>uf_x</th>\n",
       "      <th>cargo</th>\n",
       "      <th>sequencial</th>\n",
       "      <th>numero_urna</th>\n",
       "      <th>nome_completo</th>\n",
       "      <th>nome_urna</th>\n",
       "      <th>cpf</th>\n",
       "      <th>e_mail</th>\n",
       "      <th>situacao_candidatura</th>\n",
       "      <th>partido_eleicao</th>\n",
       "      <th>uf_nascimento</th>\n",
       "      <th>municipio_nascimento</th>\n",
       "      <th>data_nascimento</th>\n",
       "      <th>titulo_eleitor</th>\n",
       "      <th>ocupacao</th>\n",
       "      <th>reeleicao</th>\n",
       "      <th>uf_y</th>\n",
       "      <th>descricao</th>\n",
       "      <th>valor</th>\n",
       "    </tr>\n",
       "  </thead>\n",
       "  <tbody>\n",
       "    <tr>\n",
       "      <th>26735</th>\n",
       "      <td>ES</td>\n",
       "      <td>DEPUTADO FEDERAL</td>\n",
       "      <td>80000620180</td>\n",
       "      <td>7007</td>\n",
       "      <td>ALEXANDRE MAGNO COLA</td>\n",
       "      <td>ALEXANDRE COLA</td>\n",
       "      <td>87669528753</td>\n",
       "      <td>ALEXANDRECOLA@GMAIL.COM</td>\n",
       "      <td>DEFERIDO</td>\n",
       "      <td>AVANTE</td>\n",
       "      <td>ES</td>\n",
       "      <td>CACHOEIRO DE ITAPEMIRIM</td>\n",
       "      <td>01/02/1966</td>\n",
       "      <td>001484171465</td>\n",
       "      <td>TABELIÃO</td>\n",
       "      <td>N</td>\n",
       "      <td>ES</td>\n",
       "      <td>Veículo automotor terrestre: caminhão, automóv...</td>\n",
       "      <td>110000.00</td>\n",
       "    </tr>\n",
       "    <tr>\n",
       "      <th>26736</th>\n",
       "      <td>ES</td>\n",
       "      <td>DEPUTADO FEDERAL</td>\n",
       "      <td>80000620180</td>\n",
       "      <td>7007</td>\n",
       "      <td>ALEXANDRE MAGNO COLA</td>\n",
       "      <td>ALEXANDRE COLA</td>\n",
       "      <td>87669528753</td>\n",
       "      <td>ALEXANDRECOLA@GMAIL.COM</td>\n",
       "      <td>DEFERIDO</td>\n",
       "      <td>AVANTE</td>\n",
       "      <td>ES</td>\n",
       "      <td>CACHOEIRO DE ITAPEMIRIM</td>\n",
       "      <td>01/02/1966</td>\n",
       "      <td>001484171465</td>\n",
       "      <td>TABELIÃO</td>\n",
       "      <td>N</td>\n",
       "      <td>ES</td>\n",
       "      <td>Outros bens imóveis</td>\n",
       "      <td>32000.00</td>\n",
       "    </tr>\n",
       "    <tr>\n",
       "      <th>26737</th>\n",
       "      <td>ES</td>\n",
       "      <td>DEPUTADO FEDERAL</td>\n",
       "      <td>80000620180</td>\n",
       "      <td>7007</td>\n",
       "      <td>ALEXANDRE MAGNO COLA</td>\n",
       "      <td>ALEXANDRE COLA</td>\n",
       "      <td>87669528753</td>\n",
       "      <td>ALEXANDRECOLA@GMAIL.COM</td>\n",
       "      <td>DEFERIDO</td>\n",
       "      <td>AVANTE</td>\n",
       "      <td>ES</td>\n",
       "      <td>CACHOEIRO DE ITAPEMIRIM</td>\n",
       "      <td>01/02/1966</td>\n",
       "      <td>001484171465</td>\n",
       "      <td>TABELIÃO</td>\n",
       "      <td>N</td>\n",
       "      <td>ES</td>\n",
       "      <td>Veículo automotor terrestre: caminhão, automóv...</td>\n",
       "      <td>4000.00</td>\n",
       "    </tr>\n",
       "    <tr>\n",
       "      <th>26738</th>\n",
       "      <td>ES</td>\n",
       "      <td>DEPUTADO FEDERAL</td>\n",
       "      <td>80000620180</td>\n",
       "      <td>7007</td>\n",
       "      <td>ALEXANDRE MAGNO COLA</td>\n",
       "      <td>ALEXANDRE COLA</td>\n",
       "      <td>87669528753</td>\n",
       "      <td>ALEXANDRECOLA@GMAIL.COM</td>\n",
       "      <td>DEFERIDO</td>\n",
       "      <td>AVANTE</td>\n",
       "      <td>ES</td>\n",
       "      <td>CACHOEIRO DE ITAPEMIRIM</td>\n",
       "      <td>01/02/1966</td>\n",
       "      <td>001484171465</td>\n",
       "      <td>TABELIÃO</td>\n",
       "      <td>N</td>\n",
       "      <td>ES</td>\n",
       "      <td>Apartamento</td>\n",
       "      <td>354000.00</td>\n",
       "    </tr>\n",
       "    <tr>\n",
       "      <th>26739</th>\n",
       "      <td>ES</td>\n",
       "      <td>DEPUTADO FEDERAL</td>\n",
       "      <td>80000620180</td>\n",
       "      <td>7007</td>\n",
       "      <td>ALEXANDRE MAGNO COLA</td>\n",
       "      <td>ALEXANDRE COLA</td>\n",
       "      <td>87669528753</td>\n",
       "      <td>ALEXANDRECOLA@GMAIL.COM</td>\n",
       "      <td>DEFERIDO</td>\n",
       "      <td>AVANTE</td>\n",
       "      <td>ES</td>\n",
       "      <td>CACHOEIRO DE ITAPEMIRIM</td>\n",
       "      <td>01/02/1966</td>\n",
       "      <td>001484171465</td>\n",
       "      <td>TABELIÃO</td>\n",
       "      <td>N</td>\n",
       "      <td>ES</td>\n",
       "      <td>Construção</td>\n",
       "      <td>24970.54</td>\n",
       "    </tr>\n",
       "    <tr>\n",
       "      <th>26740</th>\n",
       "      <td>ES</td>\n",
       "      <td>DEPUTADO FEDERAL</td>\n",
       "      <td>80000620180</td>\n",
       "      <td>7007</td>\n",
       "      <td>ALEXANDRE MAGNO COLA</td>\n",
       "      <td>ALEXANDRE COLA</td>\n",
       "      <td>87669528753</td>\n",
       "      <td>ALEXANDRECOLA@GMAIL.COM</td>\n",
       "      <td>DEFERIDO</td>\n",
       "      <td>AVANTE</td>\n",
       "      <td>ES</td>\n",
       "      <td>CACHOEIRO DE ITAPEMIRIM</td>\n",
       "      <td>01/02/1966</td>\n",
       "      <td>001484171465</td>\n",
       "      <td>TABELIÃO</td>\n",
       "      <td>N</td>\n",
       "      <td>ES</td>\n",
       "      <td>Construção</td>\n",
       "      <td>103418.77</td>\n",
       "    </tr>\n",
       "  </tbody>\n",
       "</table>\n",
       "</div>"
      ],
      "text/plain": [
       "      uf_x             cargo   sequencial numero_urna         nome_completo  \\\n",
       "26735   ES  DEPUTADO FEDERAL  80000620180        7007  ALEXANDRE MAGNO COLA   \n",
       "26736   ES  DEPUTADO FEDERAL  80000620180        7007  ALEXANDRE MAGNO COLA   \n",
       "26737   ES  DEPUTADO FEDERAL  80000620180        7007  ALEXANDRE MAGNO COLA   \n",
       "26738   ES  DEPUTADO FEDERAL  80000620180        7007  ALEXANDRE MAGNO COLA   \n",
       "26739   ES  DEPUTADO FEDERAL  80000620180        7007  ALEXANDRE MAGNO COLA   \n",
       "26740   ES  DEPUTADO FEDERAL  80000620180        7007  ALEXANDRE MAGNO COLA   \n",
       "\n",
       "            nome_urna          cpf                   e_mail  \\\n",
       "26735  ALEXANDRE COLA  87669528753  ALEXANDRECOLA@GMAIL.COM   \n",
       "26736  ALEXANDRE COLA  87669528753  ALEXANDRECOLA@GMAIL.COM   \n",
       "26737  ALEXANDRE COLA  87669528753  ALEXANDRECOLA@GMAIL.COM   \n",
       "26738  ALEXANDRE COLA  87669528753  ALEXANDRECOLA@GMAIL.COM   \n",
       "26739  ALEXANDRE COLA  87669528753  ALEXANDRECOLA@GMAIL.COM   \n",
       "26740  ALEXANDRE COLA  87669528753  ALEXANDRECOLA@GMAIL.COM   \n",
       "\n",
       "      situacao_candidatura partido_eleicao uf_nascimento  \\\n",
       "26735             DEFERIDO          AVANTE            ES   \n",
       "26736             DEFERIDO          AVANTE            ES   \n",
       "26737             DEFERIDO          AVANTE            ES   \n",
       "26738             DEFERIDO          AVANTE            ES   \n",
       "26739             DEFERIDO          AVANTE            ES   \n",
       "26740             DEFERIDO          AVANTE            ES   \n",
       "\n",
       "          municipio_nascimento data_nascimento titulo_eleitor  ocupacao  \\\n",
       "26735  CACHOEIRO DE ITAPEMIRIM      01/02/1966   001484171465  TABELIÃO   \n",
       "26736  CACHOEIRO DE ITAPEMIRIM      01/02/1966   001484171465  TABELIÃO   \n",
       "26737  CACHOEIRO DE ITAPEMIRIM      01/02/1966   001484171465  TABELIÃO   \n",
       "26738  CACHOEIRO DE ITAPEMIRIM      01/02/1966   001484171465  TABELIÃO   \n",
       "26739  CACHOEIRO DE ITAPEMIRIM      01/02/1966   001484171465  TABELIÃO   \n",
       "26740  CACHOEIRO DE ITAPEMIRIM      01/02/1966   001484171465  TABELIÃO   \n",
       "\n",
       "      reeleicao uf_y                                          descricao  \\\n",
       "26735         N   ES  Veículo automotor terrestre: caminhão, automóv...   \n",
       "26736         N   ES                                Outros bens imóveis   \n",
       "26737         N   ES  Veículo automotor terrestre: caminhão, automóv...   \n",
       "26738         N   ES                                        Apartamento   \n",
       "26739         N   ES                                         Construção   \n",
       "26740         N   ES                                         Construção   \n",
       "\n",
       "           valor  \n",
       "26735  110000.00  \n",
       "26736   32000.00  \n",
       "26737    4000.00  \n",
       "26738  354000.00  \n",
       "26739   24970.54  \n",
       "26740  103418.77  "
      ]
     },
     "execution_count": 12,
     "metadata": {},
     "output_type": "execute_result"
    }
   ],
   "source": [
    "total1 = bens_gerais_candidatos_2018[(bens_gerais_candidatos_2018['sequencial'] == '80000620180')]\n",
    "total1"
   ]
  },
  {
   "cell_type": "code",
   "execution_count": 13,
   "metadata": {},
   "outputs": [],
   "source": [
    "bens_gerais_candidatos_2018.to_excel('resultados/bens_candidatos_2018_1out.xlsx',sheet_name='Sheet1')"
   ]
  },
  {
   "cell_type": "code",
   "execution_count": null,
   "metadata": {},
   "outputs": [],
   "source": []
  },
  {
   "cell_type": "markdown",
   "metadata": {},
   "source": [
    "Calcula o total por candidato"
   ]
  },
  {
   "cell_type": "code",
   "execution_count": 14,
   "metadata": {},
   "outputs": [],
   "source": [
    "total = bens_gerais_candidatos_2018.groupby(\"sequencial\").valor.sum().reset_index().sort_values(\"valor\", ascending=False)"
   ]
  },
  {
   "cell_type": "code",
   "execution_count": 15,
   "metadata": {},
   "outputs": [
    {
     "name": "stdout",
     "output_type": "stream",
     "text": [
      "<class 'pandas.core.frame.DataFrame'>\n",
      "Int64Index: 5379 entries, 3203 to 4973\n",
      "Data columns (total 2 columns):\n",
      "sequencial    5379 non-null object\n",
      "valor         5379 non-null float64\n",
      "dtypes: float64(1), object(1)\n",
      "memory usage: 126.1+ KB\n"
     ]
    }
   ],
   "source": [
    "total.info()"
   ]
  },
  {
   "cell_type": "code",
   "execution_count": 16,
   "metadata": {},
   "outputs": [
    {
     "name": "stdout",
     "output_type": "stream",
     "text": [
      "<class 'pandas.core.frame.DataFrame'>\n",
      "Int64Index: 5379 entries, 3203 to 4973\n",
      "Data columns (total 2 columns):\n",
      "sequencial    5379 non-null object\n",
      "total_bens    5379 non-null float64\n",
      "dtypes: float64(1), object(1)\n",
      "memory usage: 126.1+ KB\n"
     ]
    }
   ],
   "source": [
    "total.rename(columns={\"valor\": \"total_bens\"}, inplace=True)\n",
    "total.info()"
   ]
  },
  {
   "cell_type": "code",
   "execution_count": 17,
   "metadata": {},
   "outputs": [
    {
     "data": {
      "text/html": [
       "<div>\n",
       "<style scoped>\n",
       "    .dataframe tbody tr th:only-of-type {\n",
       "        vertical-align: middle;\n",
       "    }\n",
       "\n",
       "    .dataframe tbody tr th {\n",
       "        vertical-align: top;\n",
       "    }\n",
       "\n",
       "    .dataframe thead th {\n",
       "        text-align: right;\n",
       "    }\n",
       "</style>\n",
       "<table border=\"1\" class=\"dataframe\">\n",
       "  <thead>\n",
       "    <tr style=\"text-align: right;\">\n",
       "      <th></th>\n",
       "      <th>sequencial</th>\n",
       "      <th>total_bens</th>\n",
       "    </tr>\n",
       "  </thead>\n",
       "  <tbody>\n",
       "    <tr>\n",
       "      <th>5168</th>\n",
       "      <td>80000620180</td>\n",
       "      <td>628389.31</td>\n",
       "    </tr>\n",
       "  </tbody>\n",
       "</table>\n",
       "</div>"
      ],
      "text/plain": [
       "       sequencial  total_bens\n",
       "5168  80000620180   628389.31"
      ]
     },
     "execution_count": 17,
     "metadata": {},
     "output_type": "execute_result"
    }
   ],
   "source": [
    "total1 = total[(total['sequencial'] == '80000620180')]\n",
    "total1"
   ]
  },
  {
   "cell_type": "code",
   "execution_count": 18,
   "metadata": {},
   "outputs": [],
   "source": [
    "candidatos_bens =  pd.merge(candidatos_2018, total, how='left', left_on='sequencial', right_on='sequencial')"
   ]
  },
  {
   "cell_type": "code",
   "execution_count": 19,
   "metadata": {},
   "outputs": [
    {
     "name": "stdout",
     "output_type": "stream",
     "text": [
      "<class 'pandas.core.frame.DataFrame'>\n",
      "Int64Index: 8263 entries, 0 to 8262\n",
      "Data columns (total 17 columns):\n",
      "uf                      8263 non-null object\n",
      "cargo                   8263 non-null object\n",
      "sequencial              8263 non-null object\n",
      "numero_urna             8263 non-null object\n",
      "nome_completo           8263 non-null object\n",
      "nome_urna               8263 non-null object\n",
      "cpf                     8263 non-null object\n",
      "e_mail                  8263 non-null object\n",
      "situacao_candidatura    8263 non-null object\n",
      "partido_eleicao         8263 non-null object\n",
      "uf_nascimento           8263 non-null object\n",
      "municipio_nascimento    8263 non-null object\n",
      "data_nascimento         8263 non-null object\n",
      "titulo_eleitor          8263 non-null object\n",
      "ocupacao                8263 non-null object\n",
      "reeleicao               8263 non-null object\n",
      "total_bens              5379 non-null float64\n",
      "dtypes: float64(1), object(16)\n",
      "memory usage: 1.1+ MB\n"
     ]
    }
   ],
   "source": [
    "candidatos_bens.info()"
   ]
  },
  {
   "cell_type": "code",
   "execution_count": null,
   "metadata": {},
   "outputs": [],
   "source": []
  },
  {
   "cell_type": "code",
   "execution_count": 20,
   "metadata": {},
   "outputs": [
    {
     "data": {
      "text/html": [
       "<div>\n",
       "<style scoped>\n",
       "    .dataframe tbody tr th:only-of-type {\n",
       "        vertical-align: middle;\n",
       "    }\n",
       "\n",
       "    .dataframe tbody tr th {\n",
       "        vertical-align: top;\n",
       "    }\n",
       "\n",
       "    .dataframe thead th {\n",
       "        text-align: right;\n",
       "    }\n",
       "</style>\n",
       "<table border=\"1\" class=\"dataframe\">\n",
       "  <thead>\n",
       "    <tr style=\"text-align: right;\">\n",
       "      <th></th>\n",
       "      <th>index</th>\n",
       "      <th>uf</th>\n",
       "      <th>cargo</th>\n",
       "      <th>sequencial</th>\n",
       "      <th>numero_urna</th>\n",
       "      <th>nome_completo</th>\n",
       "      <th>nome_urna</th>\n",
       "      <th>cpf</th>\n",
       "      <th>e_mail</th>\n",
       "      <th>situacao_candidatura</th>\n",
       "      <th>partido_eleicao</th>\n",
       "      <th>uf_nascimento</th>\n",
       "      <th>municipio_nascimento</th>\n",
       "      <th>data_nascimento</th>\n",
       "      <th>titulo_eleitor</th>\n",
       "      <th>ocupacao</th>\n",
       "      <th>reeleicao</th>\n",
       "      <th>total_bens</th>\n",
       "    </tr>\n",
       "  </thead>\n",
       "  <tbody>\n",
       "    <tr>\n",
       "      <th>0</th>\n",
       "      <td>0</td>\n",
       "      <td>AC</td>\n",
       "      <td>DEPUTADO FEDERAL</td>\n",
       "      <td>10000601383</td>\n",
       "      <td>4466</td>\n",
       "      <td>GILMAR FONTES</td>\n",
       "      <td>GILMAR FONTES</td>\n",
       "      <td>41924398249</td>\n",
       "      <td>JK.AC@HOTMAIL.COM</td>\n",
       "      <td>DEFERIDO</td>\n",
       "      <td>PRP</td>\n",
       "      <td>PR</td>\n",
       "      <td>MARECHAL CANDIDO RONDOM</td>\n",
       "      <td>04/11/1972</td>\n",
       "      <td>010779642372</td>\n",
       "      <td>OUTROS</td>\n",
       "      <td>N</td>\n",
       "      <td>NaN</td>\n",
       "    </tr>\n",
       "    <tr>\n",
       "      <th>1</th>\n",
       "      <td>1</td>\n",
       "      <td>AC</td>\n",
       "      <td>DEPUTADO FEDERAL</td>\n",
       "      <td>10000602521</td>\n",
       "      <td>2323</td>\n",
       "      <td>ROSANA SOUSA DO NASCIMENTO</td>\n",
       "      <td>ROSANA NASCIMENTO</td>\n",
       "      <td>30796644268</td>\n",
       "      <td>POYONAWA@HOTMAIL.COM</td>\n",
       "      <td>DEFERIDO</td>\n",
       "      <td>PPS</td>\n",
       "      <td>AC</td>\n",
       "      <td>RIO BRANCO</td>\n",
       "      <td>24/04/1969</td>\n",
       "      <td>001883482488</td>\n",
       "      <td>PROFESSOR DE ENSINO SUPERIOR</td>\n",
       "      <td>N</td>\n",
       "      <td>NaN</td>\n",
       "    </tr>\n",
       "    <tr>\n",
       "      <th>2</th>\n",
       "      <td>2</td>\n",
       "      <td>AC</td>\n",
       "      <td>DEPUTADO FEDERAL</td>\n",
       "      <td>10000602509</td>\n",
       "      <td>2525</td>\n",
       "      <td>ALAN RICK MIRANDA</td>\n",
       "      <td>ALAN RICK</td>\n",
       "      <td>44726570234</td>\n",
       "      <td>ALANRICKMIRANDA@UOL.COM.BR</td>\n",
       "      <td>DEFERIDO</td>\n",
       "      <td>DEM</td>\n",
       "      <td>AC</td>\n",
       "      <td>RIO BRANCO</td>\n",
       "      <td>23/10/1976</td>\n",
       "      <td>003240992410</td>\n",
       "      <td>DEPUTADO</td>\n",
       "      <td>S</td>\n",
       "      <td>727390.11</td>\n",
       "    </tr>\n",
       "    <tr>\n",
       "      <th>3</th>\n",
       "      <td>3</td>\n",
       "      <td>AC</td>\n",
       "      <td>SENADOR</td>\n",
       "      <td>10000600003</td>\n",
       "      <td>181</td>\n",
       "      <td>MINORU MARTINS KINPARA</td>\n",
       "      <td>MINORU KINPARA</td>\n",
       "      <td>21722099291</td>\n",
       "      <td>DEGMARAF@GMAIL.COM</td>\n",
       "      <td>DEFERIDO</td>\n",
       "      <td>REDE</td>\n",
       "      <td>GO</td>\n",
       "      <td>ITAPACI</td>\n",
       "      <td>02/12/1968</td>\n",
       "      <td>001448152437</td>\n",
       "      <td>SERVIDOR PÚBLICO FEDERAL</td>\n",
       "      <td>N</td>\n",
       "      <td>850000.00</td>\n",
       "    </tr>\n",
       "    <tr>\n",
       "      <th>4</th>\n",
       "      <td>4</td>\n",
       "      <td>AC</td>\n",
       "      <td>DEPUTADO FEDERAL</td>\n",
       "      <td>10000608401</td>\n",
       "      <td>1377</td>\n",
       "      <td>RAQUEL GLEYCIANE SANTOS DE SOUZA</td>\n",
       "      <td>RAQUEL SOUZA</td>\n",
       "      <td>68261039234</td>\n",
       "      <td>RAQUELCIANE@GMAIL.COM</td>\n",
       "      <td>DEFERIDO</td>\n",
       "      <td>PT</td>\n",
       "      <td>AC</td>\n",
       "      <td>RIO BRANCO</td>\n",
       "      <td>11/10/1980</td>\n",
       "      <td>004129812445</td>\n",
       "      <td>AGENTE DE SAÚDE E SANITARISTA</td>\n",
       "      <td>N</td>\n",
       "      <td>NaN</td>\n",
       "    </tr>\n",
       "  </tbody>\n",
       "</table>\n",
       "</div>"
      ],
      "text/plain": [
       "   index  uf             cargo   sequencial numero_urna  \\\n",
       "0      0  AC  DEPUTADO FEDERAL  10000601383        4466   \n",
       "1      1  AC  DEPUTADO FEDERAL  10000602521        2323   \n",
       "2      2  AC  DEPUTADO FEDERAL  10000602509        2525   \n",
       "3      3  AC           SENADOR  10000600003         181   \n",
       "4      4  AC  DEPUTADO FEDERAL  10000608401        1377   \n",
       "\n",
       "                      nome_completo          nome_urna          cpf  \\\n",
       "0                     GILMAR FONTES      GILMAR FONTES  41924398249   \n",
       "1        ROSANA SOUSA DO NASCIMENTO  ROSANA NASCIMENTO  30796644268   \n",
       "2                 ALAN RICK MIRANDA          ALAN RICK  44726570234   \n",
       "3            MINORU MARTINS KINPARA     MINORU KINPARA  21722099291   \n",
       "4  RAQUEL GLEYCIANE SANTOS DE SOUZA       RAQUEL SOUZA  68261039234   \n",
       "\n",
       "                       e_mail situacao_candidatura partido_eleicao  \\\n",
       "0           JK.AC@HOTMAIL.COM             DEFERIDO             PRP   \n",
       "1        POYONAWA@HOTMAIL.COM             DEFERIDO             PPS   \n",
       "2  ALANRICKMIRANDA@UOL.COM.BR             DEFERIDO             DEM   \n",
       "3          DEGMARAF@GMAIL.COM             DEFERIDO            REDE   \n",
       "4       RAQUELCIANE@GMAIL.COM             DEFERIDO              PT   \n",
       "\n",
       "  uf_nascimento     municipio_nascimento data_nascimento titulo_eleitor  \\\n",
       "0            PR  MARECHAL CANDIDO RONDOM      04/11/1972   010779642372   \n",
       "1            AC               RIO BRANCO      24/04/1969   001883482488   \n",
       "2            AC               RIO BRANCO      23/10/1976   003240992410   \n",
       "3            GO                  ITAPACI      02/12/1968   001448152437   \n",
       "4            AC               RIO BRANCO      11/10/1980   004129812445   \n",
       "\n",
       "                        ocupacao reeleicao  total_bens  \n",
       "0                         OUTROS         N         NaN  \n",
       "1   PROFESSOR DE ENSINO SUPERIOR         N         NaN  \n",
       "2                       DEPUTADO         S   727390.11  \n",
       "3       SERVIDOR PÚBLICO FEDERAL         N   850000.00  \n",
       "4  AGENTE DE SAÚDE E SANITARISTA         N         NaN  "
      ]
     },
     "execution_count": 20,
     "metadata": {},
     "output_type": "execute_result"
    }
   ],
   "source": [
    "candidatos_bens.reset_index().head()"
   ]
  },
  {
   "cell_type": "code",
   "execution_count": null,
   "metadata": {},
   "outputs": [],
   "source": []
  },
  {
   "cell_type": "markdown",
   "metadata": {},
   "source": [
    "Cria o link direto para acessar a lista de bens"
   ]
  },
  {
   "cell_type": "code",
   "execution_count": 21,
   "metadata": {},
   "outputs": [],
   "source": [
    "def limpeza1(linha):\n",
    "    uf = str(linha[\"uf\"])\n",
    "    sequencial = str(linha[\"sequencial\"])\n",
    "    valor = linha[\"total_bens\"]\n",
    "        \n",
    "    if math.isnan(valor):\n",
    "        link = \"Não declarou bens até o momento\"\n",
    "    else:\n",
    "        link = url_chave +  uf + '/' + sequencial + '/bens'\n",
    "    return link"
   ]
  },
  {
   "cell_type": "code",
   "execution_count": 22,
   "metadata": {},
   "outputs": [],
   "source": [
    "url_chave = 'http://divulgacandcontas.tse.jus.br/divulga/#/candidato/2018/2022802018/'\n",
    "candidatos_bens[\"detalhes_bens\"] = candidatos_bens.apply(limpeza1, axis=1)"
   ]
  },
  {
   "cell_type": "code",
   "execution_count": 23,
   "metadata": {},
   "outputs": [
    {
     "data": {
      "text/plain": [
       "0                      Não declarou bens até o momento\n",
       "1                      Não declarou bens até o momento\n",
       "2    http://divulgacandcontas.tse.jus.br/divulga/#/...\n",
       "3    http://divulgacandcontas.tse.jus.br/divulga/#/...\n",
       "4                      Não declarou bens até o momento\n",
       "Name: detalhes_bens, dtype: object"
      ]
     },
     "execution_count": 23,
     "metadata": {},
     "output_type": "execute_result"
    }
   ],
   "source": [
    "candidatos_bens.detalhes_bens.head()"
   ]
  },
  {
   "cell_type": "code",
   "execution_count": 24,
   "metadata": {},
   "outputs": [],
   "source": [
    "candidatos_bens.to_excel('resultados/bens_candidatos_2018_atual.xlsx',sheet_name='Sheet1')"
   ]
  },
  {
   "cell_type": "code",
   "execution_count": 25,
   "metadata": {},
   "outputs": [
    {
     "name": "stdout",
     "output_type": "stream",
     "text": [
      "<class 'pandas.core.frame.DataFrame'>\n",
      "Int64Index: 8263 entries, 0 to 8262\n",
      "Data columns (total 18 columns):\n",
      "uf                      8263 non-null object\n",
      "cargo                   8263 non-null object\n",
      "sequencial              8263 non-null object\n",
      "numero_urna             8263 non-null object\n",
      "nome_completo           8263 non-null object\n",
      "nome_urna               8263 non-null object\n",
      "cpf                     8263 non-null object\n",
      "e_mail                  8263 non-null object\n",
      "situacao_candidatura    8263 non-null object\n",
      "partido_eleicao         8263 non-null object\n",
      "uf_nascimento           8263 non-null object\n",
      "municipio_nascimento    8263 non-null object\n",
      "data_nascimento         8263 non-null object\n",
      "titulo_eleitor          8263 non-null object\n",
      "ocupacao                8263 non-null object\n",
      "reeleicao               8263 non-null object\n",
      "total_bens              5379 non-null float64\n",
      "detalhes_bens           8263 non-null object\n",
      "dtypes: float64(1), object(17)\n",
      "memory usage: 1.2+ MB\n"
     ]
    }
   ],
   "source": [
    "candidatos_bens.info()"
   ]
  },
  {
   "cell_type": "code",
   "execution_count": null,
   "metadata": {},
   "outputs": [],
   "source": []
  }
 ],
 "metadata": {
  "kernelspec": {
   "display_name": "Python 3",
   "language": "python",
   "name": "python3"
  },
  "language_info": {
   "codemirror_mode": {
    "name": "ipython",
    "version": 3
   },
   "file_extension": ".py",
   "mimetype": "text/x-python",
   "name": "python",
   "nbconvert_exporter": "python",
   "pygments_lexer": "ipython3",
   "version": "3.6.2"
  }
 },
 "nbformat": 4,
 "nbformat_minor": 2
}
