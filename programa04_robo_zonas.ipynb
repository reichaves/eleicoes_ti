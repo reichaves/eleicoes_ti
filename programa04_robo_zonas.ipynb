{
 "cells": [
  {
   "cell_type": "code",
   "execution_count": 1,
   "metadata": {},
   "outputs": [],
   "source": [
    "# -*- coding: utf-8\n",
    "# Transparency International - Brazil (https://transparenciainternacional.org.br)\n",
    "# Reinaldo Chaves (@paidatocandeira)\n",
    "# Acessa endereços de zonas eleitorais\n",
    "#"
   ]
  },
  {
   "cell_type": "code",
   "execution_count": null,
   "metadata": {},
   "outputs": [],
   "source": [
    "import pandas as pd\n",
    "import numpy as np\n",
    "import unidecode\n",
    "from pathlib import Path"
   ]
  },
  {
   "cell_type": "code",
   "execution_count": null,
   "metadata": {},
   "outputs": [],
   "source": []
  },
  {
   "cell_type": "code",
   "execution_count": 2,
   "metadata": {},
   "outputs": [],
   "source": [
    "# Função para retirar acentuação \n",
    "def f(str):\n",
    "    return (unidecode.unidecode(str))"
   ]
  },
  {
   "cell_type": "code",
   "execution_count": null,
   "metadata": {},
   "outputs": [],
   "source": []
  },
  {
   "cell_type": "code",
   "execution_count": 3,
   "metadata": {},
   "outputs": [],
   "source": [
    "# Funcao para ler arquivos em diretorio - zonas\n",
    "def _reader_zonas(fname):\n",
    "    return pd.read_csv(fname, sep=';', header=0, encoding='latin_1', converters={'Nr Zona': lambda x: str(x), 'CEP': lambda x: str(x)})"
   ]
  },
  {
   "cell_type": "code",
   "execution_count": null,
   "metadata": {},
   "outputs": [],
   "source": []
  },
  {
   "cell_type": "markdown",
   "metadata": {},
   "source": [
    "Fonte: http://www.tse.jus.br/eleitor/servicos/cartorios-e-zonas-eleitorais/pesquisa-a-zonas-eleitorais"
   ]
  },
  {
   "cell_type": "code",
   "execution_count": null,
   "metadata": {},
   "outputs": [],
   "source": []
  },
  {
   "cell_type": "code",
   "execution_count": 4,
   "metadata": {},
   "outputs": [],
   "source": [
    "folder = Path(\"zonas\")\n",
    "zonas = pd.concat([\n",
    "    _reader_zonas(csv)\n",
    "    for csv in folder.glob(\"*.csv\")\n",
    "])"
   ]
  },
  {
   "cell_type": "code",
   "execution_count": 5,
   "metadata": {},
   "outputs": [
    {
     "name": "stdout",
     "output_type": "stream",
     "text": [
      "<class 'pandas.core.frame.DataFrame'>\n",
      "Int64Index: 2697 entries, 0 to 303\n",
      "Data columns (total 8 columns):\n",
      "Nr Zona                         2697 non-null object\n",
      "Cod Processual Res nº 65/CNJ    2697 non-null object\n",
      "Endereço                        2697 non-null object\n",
      "CEP                             2697 non-null object\n",
      "Bairro                          2697 non-null object\n",
      "Município Sede                  2697 non-null object\n",
      "UF                              2697 non-null object\n",
      "Unnamed: 7                      0 non-null float64\n",
      "dtypes: float64(1), object(7)\n",
      "memory usage: 189.6+ KB\n"
     ]
    }
   ],
   "source": [
    "zonas.info()"
   ]
  },
  {
   "cell_type": "code",
   "execution_count": 6,
   "metadata": {},
   "outputs": [
    {
     "data": {
      "text/html": [
       "<div>\n",
       "<style scoped>\n",
       "    .dataframe tbody tr th:only-of-type {\n",
       "        vertical-align: middle;\n",
       "    }\n",
       "\n",
       "    .dataframe tbody tr th {\n",
       "        vertical-align: top;\n",
       "    }\n",
       "\n",
       "    .dataframe thead th {\n",
       "        text-align: right;\n",
       "    }\n",
       "</style>\n",
       "<table border=\"1\" class=\"dataframe\">\n",
       "  <thead>\n",
       "    <tr style=\"text-align: right;\">\n",
       "      <th></th>\n",
       "      <th>index</th>\n",
       "      <th>Nr Zona</th>\n",
       "      <th>Cod Processual Res nº 65/CNJ</th>\n",
       "      <th>Endereço</th>\n",
       "      <th>CEP</th>\n",
       "      <th>Bairro</th>\n",
       "      <th>Município Sede</th>\n",
       "      <th>UF</th>\n",
       "      <th>Unnamed: 7</th>\n",
       "    </tr>\n",
       "  </thead>\n",
       "  <tbody>\n",
       "    <tr>\n",
       "      <th>0</th>\n",
       "      <td>0</td>\n",
       "      <td>1</td>\n",
       "      <td>17-0001</td>\n",
       "      <td>PÇA DAS CINCO PONTAS, 321- SÃO JOSÉ- VIZINHO A...</td>\n",
       "      <td>50020500</td>\n",
       "      <td>SAO JOSE</td>\n",
       "      <td>RECIFE</td>\n",
       "      <td>PE</td>\n",
       "      <td>NaN</td>\n",
       "    </tr>\n",
       "    <tr>\n",
       "      <th>1</th>\n",
       "      <td>1</td>\n",
       "      <td>2</td>\n",
       "      <td>17-0002</td>\n",
       "      <td>PRACA DAS CINCO PONTAS, 321</td>\n",
       "      <td>50020500</td>\n",
       "      <td>SAO JOSE</td>\n",
       "      <td>RECIFE</td>\n",
       "      <td>PE</td>\n",
       "      <td>NaN</td>\n",
       "    </tr>\n",
       "    <tr>\n",
       "      <th>2</th>\n",
       "      <td>2</td>\n",
       "      <td>3</td>\n",
       "      <td>17-0003</td>\n",
       "      <td>PRAÇA DAS CINCO PONTAS, 321</td>\n",
       "      <td>50020500</td>\n",
       "      <td>SAO JOSE</td>\n",
       "      <td>RECIFE</td>\n",
       "      <td>PE</td>\n",
       "      <td>NaN</td>\n",
       "    </tr>\n",
       "    <tr>\n",
       "      <th>3</th>\n",
       "      <td>3</td>\n",
       "      <td>4</td>\n",
       "      <td>17-0004</td>\n",
       "      <td>PRAÇA DAS CINCO PONTAS,321 SÃO JOSÉ</td>\n",
       "      <td>50020500</td>\n",
       "      <td>SAO JOSE</td>\n",
       "      <td>RECIFE</td>\n",
       "      <td>PE</td>\n",
       "      <td>NaN</td>\n",
       "    </tr>\n",
       "    <tr>\n",
       "      <th>4</th>\n",
       "      <td>4</td>\n",
       "      <td>5</td>\n",
       "      <td>17-0005</td>\n",
       "      <td>PRAÇA DAS CINCO PONTAS, 321, SÃO JOSÉ</td>\n",
       "      <td>50020500</td>\n",
       "      <td>SAO JOSE</td>\n",
       "      <td>RECIFE</td>\n",
       "      <td>PE</td>\n",
       "      <td>NaN</td>\n",
       "    </tr>\n",
       "  </tbody>\n",
       "</table>\n",
       "</div>"
      ],
      "text/plain": [
       "   index Nr Zona Cod Processual Res nº 65/CNJ  \\\n",
       "0      0       1                      17-0001   \n",
       "1      1       2                      17-0002   \n",
       "2      2       3                      17-0003   \n",
       "3      3       4                      17-0004   \n",
       "4      4       5                      17-0005   \n",
       "\n",
       "                                            Endereço       CEP    Bairro  \\\n",
       "0  PÇA DAS CINCO PONTAS, 321- SÃO JOSÉ- VIZINHO A...  50020500  SAO JOSE   \n",
       "1                        PRACA DAS CINCO PONTAS, 321  50020500  SAO JOSE   \n",
       "2                        PRAÇA DAS CINCO PONTAS, 321  50020500  SAO JOSE   \n",
       "3                PRAÇA DAS CINCO PONTAS,321 SÃO JOSÉ  50020500  SAO JOSE   \n",
       "4              PRAÇA DAS CINCO PONTAS, 321, SÃO JOSÉ  50020500  SAO JOSE   \n",
       "\n",
       "  Município Sede  UF  Unnamed: 7  \n",
       "0         RECIFE  PE         NaN  \n",
       "1         RECIFE  PE         NaN  \n",
       "2         RECIFE  PE         NaN  \n",
       "3         RECIFE  PE         NaN  \n",
       "4         RECIFE  PE         NaN  "
      ]
     },
     "execution_count": 6,
     "metadata": {},
     "output_type": "execute_result"
    }
   ],
   "source": [
    "zonas.reset_index().head()"
   ]
  },
  {
   "cell_type": "code",
   "execution_count": 7,
   "metadata": {},
   "outputs": [],
   "source": [
    "zonas.columns = ['n_zona', 'cod_processual', 'endereco', 'cep', 'bairro', 'municipio_sede', 'uf', 'vazio']"
   ]
  },
  {
   "cell_type": "code",
   "execution_count": 8,
   "metadata": {},
   "outputs": [],
   "source": [
    "zonas_eleitorais = zonas.drop('vazio', axis=1)"
   ]
  },
  {
   "cell_type": "code",
   "execution_count": 9,
   "metadata": {},
   "outputs": [
    {
     "data": {
      "text/html": [
       "<div>\n",
       "<style scoped>\n",
       "    .dataframe tbody tr th:only-of-type {\n",
       "        vertical-align: middle;\n",
       "    }\n",
       "\n",
       "    .dataframe tbody tr th {\n",
       "        vertical-align: top;\n",
       "    }\n",
       "\n",
       "    .dataframe thead th {\n",
       "        text-align: right;\n",
       "    }\n",
       "</style>\n",
       "<table border=\"1\" class=\"dataframe\">\n",
       "  <thead>\n",
       "    <tr style=\"text-align: right;\">\n",
       "      <th></th>\n",
       "      <th>index</th>\n",
       "      <th>n_zona</th>\n",
       "      <th>cod_processual</th>\n",
       "      <th>endereco</th>\n",
       "      <th>cep</th>\n",
       "      <th>bairro</th>\n",
       "      <th>municipio_sede</th>\n",
       "      <th>uf</th>\n",
       "    </tr>\n",
       "  </thead>\n",
       "  <tbody>\n",
       "    <tr>\n",
       "      <th>0</th>\n",
       "      <td>0</td>\n",
       "      <td>1</td>\n",
       "      <td>17-0001</td>\n",
       "      <td>PÇA DAS CINCO PONTAS, 321- SÃO JOSÉ- VIZINHO A...</td>\n",
       "      <td>50020500</td>\n",
       "      <td>SAO JOSE</td>\n",
       "      <td>RECIFE</td>\n",
       "      <td>PE</td>\n",
       "    </tr>\n",
       "    <tr>\n",
       "      <th>1</th>\n",
       "      <td>1</td>\n",
       "      <td>2</td>\n",
       "      <td>17-0002</td>\n",
       "      <td>PRACA DAS CINCO PONTAS, 321</td>\n",
       "      <td>50020500</td>\n",
       "      <td>SAO JOSE</td>\n",
       "      <td>RECIFE</td>\n",
       "      <td>PE</td>\n",
       "    </tr>\n",
       "    <tr>\n",
       "      <th>2</th>\n",
       "      <td>2</td>\n",
       "      <td>3</td>\n",
       "      <td>17-0003</td>\n",
       "      <td>PRAÇA DAS CINCO PONTAS, 321</td>\n",
       "      <td>50020500</td>\n",
       "      <td>SAO JOSE</td>\n",
       "      <td>RECIFE</td>\n",
       "      <td>PE</td>\n",
       "    </tr>\n",
       "    <tr>\n",
       "      <th>3</th>\n",
       "      <td>3</td>\n",
       "      <td>4</td>\n",
       "      <td>17-0004</td>\n",
       "      <td>PRAÇA DAS CINCO PONTAS,321 SÃO JOSÉ</td>\n",
       "      <td>50020500</td>\n",
       "      <td>SAO JOSE</td>\n",
       "      <td>RECIFE</td>\n",
       "      <td>PE</td>\n",
       "    </tr>\n",
       "    <tr>\n",
       "      <th>4</th>\n",
       "      <td>4</td>\n",
       "      <td>5</td>\n",
       "      <td>17-0005</td>\n",
       "      <td>PRAÇA DAS CINCO PONTAS, 321, SÃO JOSÉ</td>\n",
       "      <td>50020500</td>\n",
       "      <td>SAO JOSE</td>\n",
       "      <td>RECIFE</td>\n",
       "      <td>PE</td>\n",
       "    </tr>\n",
       "  </tbody>\n",
       "</table>\n",
       "</div>"
      ],
      "text/plain": [
       "   index n_zona cod_processual  \\\n",
       "0      0      1        17-0001   \n",
       "1      1      2        17-0002   \n",
       "2      2      3        17-0003   \n",
       "3      3      4        17-0004   \n",
       "4      4      5        17-0005   \n",
       "\n",
       "                                            endereco       cep    bairro  \\\n",
       "0  PÇA DAS CINCO PONTAS, 321- SÃO JOSÉ- VIZINHO A...  50020500  SAO JOSE   \n",
       "1                        PRACA DAS CINCO PONTAS, 321  50020500  SAO JOSE   \n",
       "2                        PRAÇA DAS CINCO PONTAS, 321  50020500  SAO JOSE   \n",
       "3                PRAÇA DAS CINCO PONTAS,321 SÃO JOSÉ  50020500  SAO JOSE   \n",
       "4              PRAÇA DAS CINCO PONTAS, 321, SÃO JOSÉ  50020500  SAO JOSE   \n",
       "\n",
       "  municipio_sede  uf  \n",
       "0         RECIFE  PE  \n",
       "1         RECIFE  PE  \n",
       "2         RECIFE  PE  \n",
       "3         RECIFE  PE  \n",
       "4         RECIFE  PE  "
      ]
     },
     "execution_count": 9,
     "metadata": {},
     "output_type": "execute_result"
    }
   ],
   "source": [
    "zonas_eleitorais.reset_index().head()"
   ]
  },
  {
   "cell_type": "code",
   "execution_count": 10,
   "metadata": {},
   "outputs": [
    {
     "name": "stdout",
     "output_type": "stream",
     "text": [
      "<class 'pandas.core.frame.DataFrame'>\n",
      "Int64Index: 2697 entries, 0 to 303\n",
      "Data columns (total 7 columns):\n",
      "n_zona            2697 non-null object\n",
      "cod_processual    2697 non-null object\n",
      "endereco          2697 non-null object\n",
      "cep               2697 non-null object\n",
      "bairro            2697 non-null object\n",
      "municipio_sede    2697 non-null object\n",
      "uf                2697 non-null object\n",
      "dtypes: object(7)\n",
      "memory usage: 168.6+ KB\n"
     ]
    }
   ],
   "source": [
    "zonas_eleitorais.info()"
   ]
  },
  {
   "cell_type": "code",
   "execution_count": null,
   "metadata": {},
   "outputs": [],
   "source": []
  },
  {
   "cell_type": "code",
   "execution_count": 11,
   "metadata": {},
   "outputs": [
    {
     "name": "stdout",
     "output_type": "stream",
     "text": [
      "<class 'pandas.core.frame.DataFrame'>\n",
      "Int64Index: 426 entries, 0 to 425\n",
      "Data columns (total 7 columns):\n",
      "n_zona            426 non-null object\n",
      "cod_processual    426 non-null object\n",
      "endereco          426 non-null object\n",
      "cep               426 non-null object\n",
      "bairro            426 non-null object\n",
      "municipio_sede    426 non-null object\n",
      "uf                426 non-null object\n",
      "dtypes: object(7)\n",
      "memory usage: 26.6+ KB\n"
     ]
    }
   ],
   "source": [
    "sp = zonas_eleitorais[(zonas_eleitorais['uf'] == 'SP')]\n",
    "sp.info()"
   ]
  },
  {
   "cell_type": "code",
   "execution_count": null,
   "metadata": {},
   "outputs": [],
   "source": []
  },
  {
   "cell_type": "code",
   "execution_count": 12,
   "metadata": {},
   "outputs": [],
   "source": [
    "zonas_eleitorais.to_csv('resultados/zonaseleitorais.csv', index=False)"
   ]
  },
  {
   "cell_type": "code",
   "execution_count": null,
   "metadata": {},
   "outputs": [],
   "source": []
  }
 ],
 "metadata": {
  "kernelspec": {
   "display_name": "Python 3",
   "language": "python",
   "name": "python3"
  },
  "language_info": {
   "codemirror_mode": {
    "name": "ipython",
    "version": 3
   },
   "file_extension": ".py",
   "mimetype": "text/x-python",
   "name": "python",
   "nbconvert_exporter": "python",
   "pygments_lexer": "ipython3",
   "version": "3.6.2"
  }
 },
 "nbformat": 4,
 "nbformat_minor": 2
}
