{
 "cells": [
  {
   "cell_type": "code",
   "execution_count": null,
   "metadata": {},
   "outputs": [],
   "source": [
    "# -*- coding: utf-8\n",
    "# Transparency International - Brazil (https://transparenciainternacional.org.br)\n",
    "# Reinaldo Chaves (@paidatocandeira)\n",
    "# Acessa a última base da campanha gerada e verifica quais candidatos foram eleitos\n",
    "#"
   ]
  },
  {
   "cell_type": "code",
   "execution_count": null,
   "metadata": {},
   "outputs": [],
   "source": []
  },
  {
   "cell_type": "code",
   "execution_count": 1,
   "metadata": {},
   "outputs": [],
   "source": [
    "import pandas as pd\n",
    "from pathlib import Path"
   ]
  },
  {
   "cell_type": "code",
   "execution_count": null,
   "metadata": {},
   "outputs": [],
   "source": []
  },
  {
   "cell_type": "code",
   "execution_count": 3,
   "metadata": {},
   "outputs": [],
   "source": [
    "# Acessa base do TSE\n",
    "# Fonte: http://www.tse.jus.br/hotsites/pesquisas-eleitorais/candidatos_anos/2018.html"
   ]
  },
  {
   "cell_type": "code",
   "execution_count": 6,
   "metadata": {},
   "outputs": [],
   "source": [
    "eleitos_2018 = pd.read_csv('eleitos_2018/consulta_cand_2018_BRASIL.csv',sep=';', encoding='latin_1', converters={'NR_CPF_CANDIDATO': lambda x: str(x), \n",
    "                                                                       'SQ_CANDIDATO': lambda x: str(x),\n",
    "                                                                       'NR_TITULO_ELEITORAL_CANDIDATO': lambda x: str(x),\n",
    "                                                                       'NR_CANDIDATO': lambda x: str(x)\n",
    "                                                                                                  })"
   ]
  },
  {
   "cell_type": "code",
   "execution_count": 7,
   "metadata": {},
   "outputs": [],
   "source": [
    "# Apaga as colunas que não serão usadas\n",
    "del eleitos_2018['DT_GERACAO']\n",
    "del eleitos_2018['HH_GERACAO']\n",
    "del eleitos_2018['ANO_ELEICAO']\n",
    "del eleitos_2018['CD_TIPO_ELEICAO']\n",
    "del eleitos_2018['NM_TIPO_ELEICAO']\n",
    "del eleitos_2018['NR_TURNO']\n",
    "del eleitos_2018['CD_ELEICAO']\n",
    "del eleitos_2018['DS_ELEICAO']\n",
    "del eleitos_2018['DT_ELEICAO']\n",
    "del eleitos_2018['TP_ABRANGENCIA']\n",
    "del eleitos_2018['SG_UE']\n",
    "del eleitos_2018['NM_UE']\n",
    "del eleitos_2018['CD_CARGO']\n",
    "del eleitos_2018['CD_SITUACAO_CANDIDATURA']\n",
    "del eleitos_2018['CD_DETALHE_SITUACAO_CAND']\n",
    "#del eleitos_2018['DS_DETALHE_SITUACAO_CAND']\n",
    "del eleitos_2018['TP_AGREMIACAO']\n",
    "del eleitos_2018['NR_PARTIDO']\n",
    "del eleitos_2018['NM_PARTIDO']\n",
    "del eleitos_2018['SQ_COLIGACAO']\n",
    "del eleitos_2018['NM_COLIGACAO']\n",
    "del eleitos_2018['DS_COMPOSICAO_COLIGACAO']\n",
    "del eleitos_2018['CD_NACIONALIDADE']\n",
    "del eleitos_2018['DS_NACIONALIDADE']\n",
    "#del eleitos_2018['SG_UF_NASCIMENTO']\n",
    "del eleitos_2018['CD_MUNICIPIO_NASCIMENTO']\n",
    "#del eleitos_2018['NM_MUNICIPIO_NASCIMENTO']\n",
    "del eleitos_2018['NR_IDADE_DATA_POSSE']\n",
    "#del eleitos_2018['NR_TITULO_ELEITORAL_CANDIDATO']\n",
    "del eleitos_2018['CD_GENERO']\n",
    "del eleitos_2018['DS_GENERO']\n",
    "del eleitos_2018['CD_GRAU_INSTRUCAO']\n",
    "del eleitos_2018['DS_GRAU_INSTRUCAO']\n",
    "del eleitos_2018['CD_ESTADO_CIVIL']\n",
    "del eleitos_2018['DS_ESTADO_CIVIL']\n",
    "del eleitos_2018['CD_COR_RACA']\n",
    "del eleitos_2018['DS_COR_RACA']\n",
    "del eleitos_2018['CD_OCUPACAO']\n",
    "del eleitos_2018['NR_DESPESA_MAX_CAMPANHA']\n",
    "del eleitos_2018['CD_SIT_TOT_TURNO']\n",
    "#del eleitos_2018['DS_SIT_TOT_TURNO']\n",
    "del eleitos_2018['NR_PROTOCOLO_CANDIDATURA']\n",
    "del eleitos_2018['NR_PROCESSO']\n",
    "del eleitos_2018['NM_SOCIAL_CANDIDATO']\n",
    "del eleitos_2018['DS_SITUACAO_CANDIDATURA'] # opcional\n",
    "# del eleitos_2018['ST_REELEICAO'] # opcional\n",
    "del eleitos_2018['ST_DECLARAR_BENS'] # opcional"
   ]
  },
  {
   "cell_type": "code",
   "execution_count": 8,
   "metadata": {},
   "outputs": [],
   "source": [
    "eleitos_2018.columns = ['uf',\n",
    "                           'cargo', \n",
    "                           'sequencial', \n",
    "                           'numero_urna', \n",
    "                           'nome_completo',\n",
    "                           'nome_urna',\n",
    "                           'cpf',\n",
    "                           'e_mail', \n",
    "                           'situacao_candidatura',\n",
    "                           'partido_eleicao', \n",
    "                           'uf_nascimento',\n",
    "                           'municipio_nascimento',\n",
    "                           'data_nascimento',\n",
    "                           'titulo_eleitor',\n",
    "                           'ocupacao',\n",
    "                           'eleito_ou_nao',\n",
    "                          'reeleicao']"
   ]
  },
  {
   "cell_type": "code",
   "execution_count": 9,
   "metadata": {},
   "outputs": [
    {
     "name": "stdout",
     "output_type": "stream",
     "text": [
      "<class 'pandas.core.frame.DataFrame'>\n",
      "RangeIndex: 29145 entries, 0 to 29144\n",
      "Data columns (total 17 columns):\n",
      "uf                      29145 non-null object\n",
      "cargo                   29145 non-null object\n",
      "sequencial              29145 non-null object\n",
      "numero_urna             29145 non-null object\n",
      "nome_completo           29145 non-null object\n",
      "nome_urna               29145 non-null object\n",
      "cpf                     29145 non-null object\n",
      "e_mail                  29145 non-null object\n",
      "situacao_candidatura    29145 non-null object\n",
      "partido_eleicao         29145 non-null object\n",
      "uf_nascimento           29145 non-null object\n",
      "municipio_nascimento    29145 non-null object\n",
      "data_nascimento         29145 non-null object\n",
      "titulo_eleitor          29145 non-null object\n",
      "ocupacao                29145 non-null object\n",
      "eleito_ou_nao           29145 non-null object\n",
      "reeleicao               29145 non-null object\n",
      "dtypes: object(17)\n",
      "memory usage: 3.8+ MB\n"
     ]
    }
   ],
   "source": [
    "eleitos_2018.info()"
   ]
  },
  {
   "cell_type": "code",
   "execution_count": 11,
   "metadata": {},
   "outputs": [
    {
     "data": {
      "text/plain": [
       "SUPLENTE            17703\n",
       "NÃO ELEITO           6564\n",
       "#NULO#               3158\n",
       "ELEITO POR QP        1178\n",
       "ELEITO POR MÉDIA      278\n",
       "ELEITO                212\n",
       "2º TURNO               52\n",
       "Name: eleito_ou_nao, dtype: int64"
      ]
     },
     "execution_count": 11,
     "metadata": {},
     "output_type": "execute_result"
    }
   ],
   "source": [
    "eleitos_2018['eleito_ou_nao'].value_counts()"
   ]
  },
  {
   "cell_type": "code",
   "execution_count": 13,
   "metadata": {},
   "outputs": [],
   "source": [
    "eleitos_2018 = eleitos_2018[(eleitos_2018['eleito_ou_nao'] == 'ELEITO POR QP') |\n",
    "                                  (eleitos_2018['eleito_ou_nao'] == 'ELEITO POR MÉDIA') |\n",
    "                                  (eleitos_2018['eleito_ou_nao'] == 'ELEITO') |\n",
    "                                  (eleitos_2018['eleito_ou_nao'] == 'SUPLENTE') \n",
    "                                 ].copy()"
   ]
  },
  {
   "cell_type": "code",
   "execution_count": 22,
   "metadata": {},
   "outputs": [],
   "source": [
    "eleitos_2018.drop(['uf',\n",
    "                   'cargo', \n",
    "                   'sequencial', \n",
    "                   'numero_urna', \n",
    "                   'nome_completo', \n",
    "                   'nome_urna', \n",
    "                   'e_mail', \n",
    "                   'partido_eleicao',\n",
    "                   'uf_nascimento', \n",
    "                   'municipio_nascimento',\n",
    "                   'data_nascimento',\n",
    "                   'titulo_eleitor',\n",
    "                   'ocupacao',\n",
    "                   'situacao_candidatura',\n",
    "                   'reeleicao'], axis=1, inplace=True)"
   ]
  },
  {
   "cell_type": "code",
   "execution_count": 24,
   "metadata": {},
   "outputs": [
    {
     "name": "stdout",
     "output_type": "stream",
     "text": [
      "<class 'pandas.core.frame.DataFrame'>\n",
      "Int64Index: 19371 entries, 1 to 29144\n",
      "Data columns (total 2 columns):\n",
      "cpf              19371 non-null object\n",
      "eleito_ou_nao    19371 non-null object\n",
      "dtypes: object(2)\n",
      "memory usage: 454.0+ KB\n"
     ]
    }
   ],
   "source": [
    "eleitos_2018.info()"
   ]
  },
  {
   "cell_type": "code",
   "execution_count": null,
   "metadata": {},
   "outputs": [],
   "source": []
  },
  {
   "cell_type": "code",
   "execution_count": null,
   "metadata": {},
   "outputs": [],
   "source": [
    "# Acessa última base gerada"
   ]
  },
  {
   "cell_type": "code",
   "execution_count": 16,
   "metadata": {},
   "outputs": [],
   "source": [
    "ultima = pd.read_excel('resultados/consolidado/planilhacompleta_consolidade_7out.xlsx',sheet_name='Sheet1', converters={'cpf': lambda x: str(x),  \n",
    "                                                                                              'numero_urna': lambda x: str(x)   \n",
    "                                                                                                  })"
   ]
  },
  {
   "cell_type": "code",
   "execution_count": 17,
   "metadata": {},
   "outputs": [
    {
     "name": "stdout",
     "output_type": "stream",
     "text": [
      "<class 'pandas.core.frame.DataFrame'>\n",
      "RangeIndex: 8263 entries, 0 to 8262\n",
      "Data columns (total 33 columns):\n",
      "uf                              8263 non-null object\n",
      "cargo                           8263 non-null object\n",
      "numero_urna                     8263 non-null object\n",
      "nome_completo                   8263 non-null object\n",
      "nome_urna                       8263 non-null object\n",
      "cpf                             8263 non-null object\n",
      "e_mail_tse                      8263 non-null object\n",
      "partido_eleicao                 8263 non-null object\n",
      "data_nascimento                 8263 non-null object\n",
      "ocupacao_tse                    8263 non-null object\n",
      "total_bens                      8263 non-null object\n",
      "detalhes_bens                   8263 non-null object\n",
      "resumo_stf                      0 non-null float64\n",
      "total_inqueritos                8263 non-null object\n",
      "total_acoes_penais              0 non-null float64\n",
      "detalhes_processos              0 non-null float64\n",
      "reu_no_stf                      37 non-null object\n",
      "passado_limpo                   8263 non-null object\n",
      "e_mail_survey                   688 non-null object\n",
      "ocupacao_survey                 688 non-null object\n",
      "site_candidato                  369 non-null object\n",
      "url_facebook                    667 non-null object\n",
      "url_twitter                     341 non-null object\n",
      "url_instagram                   544 non-null object\n",
      "url_youtube                     296 non-null object\n",
      "financiamento_coletivo          293 non-null object\n",
      "processos_primeira_instancia    8263 non-null object\n",
      "detalhes_processos_survey       8263 non-null object\n",
      "aderiu_totalmente_medidas       8263 non-null object\n",
      "justificativa_adesao_medidas    8263 non-null object\n",
      "pacto                           8263 non-null object\n",
      "tenta_reeleicao                 8263 non-null object\n",
      "cor_avaliacao                   8263 non-null object\n",
      "dtypes: float64(3), object(30)\n",
      "memory usage: 2.1+ MB\n"
     ]
    }
   ],
   "source": [
    "ultima.info()"
   ]
  },
  {
   "cell_type": "code",
   "execution_count": null,
   "metadata": {},
   "outputs": [],
   "source": []
  },
  {
   "cell_type": "code",
   "execution_count": 25,
   "metadata": {},
   "outputs": [],
   "source": [
    "# Une as bases"
   ]
  },
  {
   "cell_type": "code",
   "execution_count": 26,
   "metadata": {},
   "outputs": [],
   "source": [
    "inscritos_eleitos = pd.merge(ultima, eleitos_2018,  how='left', left_on='cpf',\n",
    "                 right_on = 'cpf')"
   ]
  },
  {
   "cell_type": "code",
   "execution_count": 27,
   "metadata": {},
   "outputs": [
    {
     "name": "stdout",
     "output_type": "stream",
     "text": [
      "<class 'pandas.core.frame.DataFrame'>\n",
      "Int64Index: 8263 entries, 0 to 8262\n",
      "Data columns (total 34 columns):\n",
      "uf                              8263 non-null object\n",
      "cargo                           8263 non-null object\n",
      "numero_urna                     8263 non-null object\n",
      "nome_completo                   8263 non-null object\n",
      "nome_urna                       8263 non-null object\n",
      "cpf                             8263 non-null object\n",
      "e_mail_tse                      8263 non-null object\n",
      "partido_eleicao                 8263 non-null object\n",
      "data_nascimento                 8263 non-null object\n",
      "ocupacao_tse                    8263 non-null object\n",
      "total_bens                      8263 non-null object\n",
      "detalhes_bens                   8263 non-null object\n",
      "resumo_stf                      0 non-null float64\n",
      "total_inqueritos                8263 non-null object\n",
      "total_acoes_penais              0 non-null float64\n",
      "detalhes_processos              0 non-null float64\n",
      "reu_no_stf                      37 non-null object\n",
      "passado_limpo                   8263 non-null object\n",
      "e_mail_survey                   688 non-null object\n",
      "ocupacao_survey                 688 non-null object\n",
      "site_candidato                  369 non-null object\n",
      "url_facebook                    667 non-null object\n",
      "url_twitter                     341 non-null object\n",
      "url_instagram                   544 non-null object\n",
      "url_youtube                     296 non-null object\n",
      "financiamento_coletivo          293 non-null object\n",
      "processos_primeira_instancia    8263 non-null object\n",
      "detalhes_processos_survey       8263 non-null object\n",
      "aderiu_totalmente_medidas       8263 non-null object\n",
      "justificativa_adesao_medidas    8263 non-null object\n",
      "pacto                           8263 non-null object\n",
      "tenta_reeleicao                 8263 non-null object\n",
      "cor_avaliacao                   8263 non-null object\n",
      "eleito_ou_nao                   4883 non-null object\n",
      "dtypes: float64(3), object(31)\n",
      "memory usage: 2.2+ MB\n"
     ]
    }
   ],
   "source": [
    "inscritos_eleitos.info()"
   ]
  },
  {
   "cell_type": "code",
   "execution_count": 29,
   "metadata": {},
   "outputs": [],
   "source": [
    "inscritos_eleitos.to_excel('resultados/consolidado/todoscanditos_inscritos_e_eleitos.xlsx',sheet_name='Sheet1')"
   ]
  },
  {
   "cell_type": "code",
   "execution_count": null,
   "metadata": {},
   "outputs": [],
   "source": []
  },
  {
   "cell_type": "code",
   "execution_count": 30,
   "metadata": {},
   "outputs": [
    {
     "data": {
      "text/html": [
       "<div>\n",
       "<style scoped>\n",
       "    .dataframe tbody tr th:only-of-type {\n",
       "        vertical-align: middle;\n",
       "    }\n",
       "\n",
       "    .dataframe tbody tr th {\n",
       "        vertical-align: top;\n",
       "    }\n",
       "\n",
       "    .dataframe thead th {\n",
       "        text-align: right;\n",
       "    }\n",
       "</style>\n",
       "<table border=\"1\" class=\"dataframe\">\n",
       "  <thead>\n",
       "    <tr style=\"text-align: right;\">\n",
       "      <th></th>\n",
       "      <th>index</th>\n",
       "      <th>uf</th>\n",
       "      <th>cargo</th>\n",
       "      <th>numero_urna</th>\n",
       "      <th>nome_completo</th>\n",
       "      <th>nome_urna</th>\n",
       "      <th>cpf</th>\n",
       "      <th>e_mail_tse</th>\n",
       "      <th>partido_eleicao</th>\n",
       "      <th>data_nascimento</th>\n",
       "      <th>...</th>\n",
       "      <th>url_youtube</th>\n",
       "      <th>financiamento_coletivo</th>\n",
       "      <th>processos_primeira_instancia</th>\n",
       "      <th>detalhes_processos_survey</th>\n",
       "      <th>aderiu_totalmente_medidas</th>\n",
       "      <th>justificativa_adesao_medidas</th>\n",
       "      <th>pacto</th>\n",
       "      <th>tenta_reeleicao</th>\n",
       "      <th>cor_avaliacao</th>\n",
       "      <th>eleito_ou_nao</th>\n",
       "    </tr>\n",
       "  </thead>\n",
       "  <tbody>\n",
       "    <tr>\n",
       "      <th>0</th>\n",
       "      <td>0</td>\n",
       "      <td>AC</td>\n",
       "      <td>DEPUTADO FEDERAL</td>\n",
       "      <td>4466</td>\n",
       "      <td>GILMAR FONTES</td>\n",
       "      <td>GILMAR FONTES</td>\n",
       "      <td>41924398249</td>\n",
       "      <td>JK.AC@HOTMAIL.COM</td>\n",
       "      <td>PRP</td>\n",
       "      <td>04/11/1972</td>\n",
       "      <td>...</td>\n",
       "      <td>NaN</td>\n",
       "      <td>NaN</td>\n",
       "      <td>SEM RESPOSTA</td>\n",
       "      <td>SEM INFORMAÇÕES</td>\n",
       "      <td>SEM RESPOSTA</td>\n",
       "      <td>SEM INFORMAÇÕES</td>\n",
       "      <td>SEM RESPOSTA</td>\n",
       "      <td>NÃO</td>\n",
       "      <td>X5 – CARD CINZA</td>\n",
       "      <td>SUPLENTE</td>\n",
       "    </tr>\n",
       "    <tr>\n",
       "      <th>1</th>\n",
       "      <td>1</td>\n",
       "      <td>AC</td>\n",
       "      <td>DEPUTADO FEDERAL</td>\n",
       "      <td>2323</td>\n",
       "      <td>ROSANA SOUSA DO NASCIMENTO</td>\n",
       "      <td>ROSANA NASCIMENTO</td>\n",
       "      <td>30796644268</td>\n",
       "      <td>POYONAWA@HOTMAIL.COM</td>\n",
       "      <td>PPS</td>\n",
       "      <td>24/04/1969</td>\n",
       "      <td>...</td>\n",
       "      <td>NaN</td>\n",
       "      <td>NaN</td>\n",
       "      <td>SEM RESPOSTA</td>\n",
       "      <td>SEM INFORMAÇÕES</td>\n",
       "      <td>SEM RESPOSTA</td>\n",
       "      <td>SEM INFORMAÇÕES</td>\n",
       "      <td>SEM RESPOSTA</td>\n",
       "      <td>NÃO</td>\n",
       "      <td>X5 – CARD CINZA</td>\n",
       "      <td>SUPLENTE</td>\n",
       "    </tr>\n",
       "    <tr>\n",
       "      <th>2</th>\n",
       "      <td>2</td>\n",
       "      <td>AC</td>\n",
       "      <td>DEPUTADO FEDERAL</td>\n",
       "      <td>2525</td>\n",
       "      <td>ALAN RICK MIRANDA</td>\n",
       "      <td>ALAN RICK</td>\n",
       "      <td>44726570234</td>\n",
       "      <td>ALANRICKMIRANDA@UOL.COM.BR</td>\n",
       "      <td>DEM</td>\n",
       "      <td>23/10/1976</td>\n",
       "      <td>...</td>\n",
       "      <td>NaN</td>\n",
       "      <td>NaN</td>\n",
       "      <td>SEM RESPOSTA</td>\n",
       "      <td>SEM INFORMAÇÕES</td>\n",
       "      <td>SEM RESPOSTA</td>\n",
       "      <td>SEM INFORMAÇÕES</td>\n",
       "      <td>SEM RESPOSTA</td>\n",
       "      <td>SIM</td>\n",
       "      <td>X5 – CARD CINZA</td>\n",
       "      <td>ELEITO POR QP</td>\n",
       "    </tr>\n",
       "    <tr>\n",
       "      <th>3</th>\n",
       "      <td>3</td>\n",
       "      <td>AC</td>\n",
       "      <td>SENADOR</td>\n",
       "      <td>181</td>\n",
       "      <td>MINORU MARTINS KINPARA</td>\n",
       "      <td>MINORU KINPARA</td>\n",
       "      <td>21722099291</td>\n",
       "      <td>DEGMARAF@GMAIL.COM</td>\n",
       "      <td>REDE</td>\n",
       "      <td>02/12/1968</td>\n",
       "      <td>...</td>\n",
       "      <td>NaN</td>\n",
       "      <td>NaN</td>\n",
       "      <td>SEM RESPOSTA</td>\n",
       "      <td>SEM INFORMAÇÕES</td>\n",
       "      <td>SEM RESPOSTA</td>\n",
       "      <td>SEM INFORMAÇÕES</td>\n",
       "      <td>SEM RESPOSTA</td>\n",
       "      <td>NÃO</td>\n",
       "      <td>X5 – CARD CINZA</td>\n",
       "      <td>NaN</td>\n",
       "    </tr>\n",
       "    <tr>\n",
       "      <th>4</th>\n",
       "      <td>4</td>\n",
       "      <td>AC</td>\n",
       "      <td>DEPUTADO FEDERAL</td>\n",
       "      <td>1377</td>\n",
       "      <td>RAQUEL GLEYCIANE SANTOS DE SOUZA</td>\n",
       "      <td>RAQUEL SOUZA</td>\n",
       "      <td>68261039234</td>\n",
       "      <td>RAQUELCIANE@GMAIL.COM</td>\n",
       "      <td>PT</td>\n",
       "      <td>11/10/1980</td>\n",
       "      <td>...</td>\n",
       "      <td>NaN</td>\n",
       "      <td>NaN</td>\n",
       "      <td>SEM RESPOSTA</td>\n",
       "      <td>SEM INFORMAÇÕES</td>\n",
       "      <td>SEM RESPOSTA</td>\n",
       "      <td>SEM INFORMAÇÕES</td>\n",
       "      <td>SEM RESPOSTA</td>\n",
       "      <td>NÃO</td>\n",
       "      <td>X5 – CARD CINZA</td>\n",
       "      <td>SUPLENTE</td>\n",
       "    </tr>\n",
       "  </tbody>\n",
       "</table>\n",
       "<p>5 rows × 35 columns</p>\n",
       "</div>"
      ],
      "text/plain": [
       "   index  uf             cargo numero_urna                     nome_completo  \\\n",
       "0      0  AC  DEPUTADO FEDERAL        4466                     GILMAR FONTES   \n",
       "1      1  AC  DEPUTADO FEDERAL        2323        ROSANA SOUSA DO NASCIMENTO   \n",
       "2      2  AC  DEPUTADO FEDERAL        2525                 ALAN RICK MIRANDA   \n",
       "3      3  AC           SENADOR         181            MINORU MARTINS KINPARA   \n",
       "4      4  AC  DEPUTADO FEDERAL        1377  RAQUEL GLEYCIANE SANTOS DE SOUZA   \n",
       "\n",
       "           nome_urna          cpf                  e_mail_tse partido_eleicao  \\\n",
       "0      GILMAR FONTES  41924398249           JK.AC@HOTMAIL.COM             PRP   \n",
       "1  ROSANA NASCIMENTO  30796644268        POYONAWA@HOTMAIL.COM             PPS   \n",
       "2          ALAN RICK  44726570234  ALANRICKMIRANDA@UOL.COM.BR             DEM   \n",
       "3     MINORU KINPARA  21722099291          DEGMARAF@GMAIL.COM            REDE   \n",
       "4       RAQUEL SOUZA  68261039234       RAQUELCIANE@GMAIL.COM              PT   \n",
       "\n",
       "  data_nascimento      ...       url_youtube financiamento_coletivo  \\\n",
       "0      04/11/1972      ...               NaN                    NaN   \n",
       "1      24/04/1969      ...               NaN                    NaN   \n",
       "2      23/10/1976      ...               NaN                    NaN   \n",
       "3      02/12/1968      ...               NaN                    NaN   \n",
       "4      11/10/1980      ...               NaN                    NaN   \n",
       "\n",
       "  processos_primeira_instancia  detalhes_processos_survey  \\\n",
       "0                 SEM RESPOSTA            SEM INFORMAÇÕES   \n",
       "1                 SEM RESPOSTA            SEM INFORMAÇÕES   \n",
       "2                 SEM RESPOSTA            SEM INFORMAÇÕES   \n",
       "3                 SEM RESPOSTA            SEM INFORMAÇÕES   \n",
       "4                 SEM RESPOSTA            SEM INFORMAÇÕES   \n",
       "\n",
       "  aderiu_totalmente_medidas  justificativa_adesao_medidas         pacto  \\\n",
       "0              SEM RESPOSTA               SEM INFORMAÇÕES  SEM RESPOSTA   \n",
       "1              SEM RESPOSTA               SEM INFORMAÇÕES  SEM RESPOSTA   \n",
       "2              SEM RESPOSTA               SEM INFORMAÇÕES  SEM RESPOSTA   \n",
       "3              SEM RESPOSTA               SEM INFORMAÇÕES  SEM RESPOSTA   \n",
       "4              SEM RESPOSTA               SEM INFORMAÇÕES  SEM RESPOSTA   \n",
       "\n",
       "  tenta_reeleicao    cor_avaliacao  eleito_ou_nao  \n",
       "0             NÃO  X5 – CARD CINZA       SUPLENTE  \n",
       "1             NÃO  X5 – CARD CINZA       SUPLENTE  \n",
       "2             SIM  X5 – CARD CINZA  ELEITO POR QP  \n",
       "3             NÃO  X5 – CARD CINZA            NaN  \n",
       "4             NÃO  X5 – CARD CINZA       SUPLENTE  \n",
       "\n",
       "[5 rows x 35 columns]"
      ]
     },
     "execution_count": 30,
     "metadata": {},
     "output_type": "execute_result"
    }
   ],
   "source": [
    "inscritos_eleitos.reset_index().head()"
   ]
  },
  {
   "cell_type": "code",
   "execution_count": null,
   "metadata": {},
   "outputs": [],
   "source": []
  }
 ],
 "metadata": {
  "kernelspec": {
   "display_name": "Python 3",
   "language": "python",
   "name": "python3"
  },
  "language_info": {
   "codemirror_mode": {
    "name": "ipython",
    "version": 3
   },
   "file_extension": ".py",
   "mimetype": "text/x-python",
   "name": "python",
   "nbconvert_exporter": "python",
   "pygments_lexer": "ipython3",
   "version": "3.6.2"
  }
 },
 "nbformat": 4,
 "nbformat_minor": 2
}
