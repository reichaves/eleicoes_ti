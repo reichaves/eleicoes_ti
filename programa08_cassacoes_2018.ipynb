{
 "cells": [
  {
   "cell_type": "code",
   "execution_count": 1,
   "metadata": {},
   "outputs": [],
   "source": [
    "# -*- coding: utf-8\n",
    "# Transparency International - Brazil (https://transparenciainternacional.org.br)\n",
    "# Reinaldo Chaves (@paidatocandeira)\n",
    "# Forma um dataframe com informações sobre os motivos das cassações de candidatos nas eleições 2018\n",
    "#"
   ]
  },
  {
   "cell_type": "code",
   "execution_count": null,
   "metadata": {},
   "outputs": [],
   "source": []
  },
  {
   "cell_type": "code",
   "execution_count": null,
   "metadata": {},
   "outputs": [],
   "source": [
    "import pandas as pd\n",
    "from pathlib import Path"
   ]
  },
  {
   "cell_type": "code",
   "execution_count": null,
   "metadata": {},
   "outputs": [],
   "source": []
  },
  {
   "cell_type": "markdown",
   "metadata": {},
   "source": [
    "Fonte: http://agencia.tse.jus.br/estatistica/sead/odsele/motivo_cassacao/motivo_cassacao_2018.zip"
   ]
  },
  {
   "cell_type": "code",
   "execution_count": 2,
   "metadata": {},
   "outputs": [],
   "source": [
    "def _reader_2018(fname):\n",
    "    return pd.read_csv(fname, sep=';', encoding='latin_1', converters={'SQ_CANDIDATO': lambda x: str(x)\n",
    "                                                                      })"
   ]
  },
  {
   "cell_type": "code",
   "execution_count": null,
   "metadata": {},
   "outputs": [],
   "source": []
  },
  {
   "cell_type": "markdown",
   "metadata": {},
   "source": [
    "Cassações 2018"
   ]
  },
  {
   "cell_type": "code",
   "execution_count": 12,
   "metadata": {},
   "outputs": [],
   "source": [
    "folder = Path(\"motivo_cassacao_2018\")\n",
    "cassacoes_2018 = pd.concat([\n",
    "    _reader_2018(csv)\n",
    "    for csv in folder.glob(\"*.csv\")\n",
    "])"
   ]
  },
  {
   "cell_type": "code",
   "execution_count": 13,
   "metadata": {},
   "outputs": [
    {
     "data": {
      "text/html": [
       "<div>\n",
       "<style scoped>\n",
       "    .dataframe tbody tr th:only-of-type {\n",
       "        vertical-align: middle;\n",
       "    }\n",
       "\n",
       "    .dataframe tbody tr th {\n",
       "        vertical-align: top;\n",
       "    }\n",
       "\n",
       "    .dataframe thead th {\n",
       "        text-align: right;\n",
       "    }\n",
       "</style>\n",
       "<table border=\"1\" class=\"dataframe\">\n",
       "  <thead>\n",
       "    <tr style=\"text-align: right;\">\n",
       "      <th></th>\n",
       "      <th>index</th>\n",
       "      <th>DT_GERACAO</th>\n",
       "      <th>HH_GERACAO</th>\n",
       "      <th>ANO_ELEICAO</th>\n",
       "      <th>CD_TIPO_ELEICAO</th>\n",
       "      <th>NM_TIPO_ELEICAO</th>\n",
       "      <th>CD_ELEICAO</th>\n",
       "      <th>DS_ELEICAO</th>\n",
       "      <th>SG_UF</th>\n",
       "      <th>SG_UE</th>\n",
       "      <th>NM_UE</th>\n",
       "      <th>SQ_CANDIDATO</th>\n",
       "      <th>DS_MOTIVO_CASSACAO</th>\n",
       "    </tr>\n",
       "  </thead>\n",
       "  <tbody>\n",
       "    <tr>\n",
       "      <th>0</th>\n",
       "      <td>0</td>\n",
       "      <td>22/09/2018</td>\n",
       "      <td>19:01:42</td>\n",
       "      <td>2018</td>\n",
       "      <td>2</td>\n",
       "      <td>Eleição Ordinária</td>\n",
       "      <td>297</td>\n",
       "      <td>Eleições Gerais Estaduais 2018</td>\n",
       "      <td>RO</td>\n",
       "      <td>RO</td>\n",
       "      <td>RONDÔNIA</td>\n",
       "      <td>220000607216</td>\n",
       "      <td>Ausência de requisito de registro</td>\n",
       "    </tr>\n",
       "    <tr>\n",
       "      <th>1</th>\n",
       "      <td>1</td>\n",
       "      <td>22/09/2018</td>\n",
       "      <td>19:01:42</td>\n",
       "      <td>2018</td>\n",
       "      <td>2</td>\n",
       "      <td>Eleição Ordinária</td>\n",
       "      <td>297</td>\n",
       "      <td>Eleições Gerais Estaduais 2018</td>\n",
       "      <td>RO</td>\n",
       "      <td>RO</td>\n",
       "      <td>RONDÔNIA</td>\n",
       "      <td>220000621047</td>\n",
       "      <td>Ausência de requisito de registro</td>\n",
       "    </tr>\n",
       "    <tr>\n",
       "      <th>2</th>\n",
       "      <td>2</td>\n",
       "      <td>22/09/2018</td>\n",
       "      <td>19:01:42</td>\n",
       "      <td>2018</td>\n",
       "      <td>2</td>\n",
       "      <td>Eleição Ordinária</td>\n",
       "      <td>297</td>\n",
       "      <td>Eleições Gerais Estaduais 2018</td>\n",
       "      <td>RO</td>\n",
       "      <td>RO</td>\n",
       "      <td>RONDÔNIA</td>\n",
       "      <td>220000621054</td>\n",
       "      <td>Ausência de requisito de registro</td>\n",
       "    </tr>\n",
       "    <tr>\n",
       "      <th>3</th>\n",
       "      <td>3</td>\n",
       "      <td>22/09/2018</td>\n",
       "      <td>19:01:42</td>\n",
       "      <td>2018</td>\n",
       "      <td>2</td>\n",
       "      <td>Eleição Ordinária</td>\n",
       "      <td>297</td>\n",
       "      <td>Eleições Gerais Estaduais 2018</td>\n",
       "      <td>RO</td>\n",
       "      <td>RO</td>\n",
       "      <td>RONDÔNIA</td>\n",
       "      <td>220000625853</td>\n",
       "      <td>Ausência de requisito de registro</td>\n",
       "    </tr>\n",
       "    <tr>\n",
       "      <th>4</th>\n",
       "      <td>4</td>\n",
       "      <td>22/09/2018</td>\n",
       "      <td>19:01:42</td>\n",
       "      <td>2018</td>\n",
       "      <td>2</td>\n",
       "      <td>Eleição Ordinária</td>\n",
       "      <td>297</td>\n",
       "      <td>Eleições Gerais Estaduais 2018</td>\n",
       "      <td>RO</td>\n",
       "      <td>RO</td>\n",
       "      <td>RONDÔNIA</td>\n",
       "      <td>220000625864</td>\n",
       "      <td>Ausência de requisito de registro</td>\n",
       "    </tr>\n",
       "  </tbody>\n",
       "</table>\n",
       "</div>"
      ],
      "text/plain": [
       "   index  DT_GERACAO HH_GERACAO  ANO_ELEICAO  CD_TIPO_ELEICAO  \\\n",
       "0      0  22/09/2018   19:01:42         2018                2   \n",
       "1      1  22/09/2018   19:01:42         2018                2   \n",
       "2      2  22/09/2018   19:01:42         2018                2   \n",
       "3      3  22/09/2018   19:01:42         2018                2   \n",
       "4      4  22/09/2018   19:01:42         2018                2   \n",
       "\n",
       "     NM_TIPO_ELEICAO  CD_ELEICAO                      DS_ELEICAO SG_UF SG_UE  \\\n",
       "0  Eleição Ordinária         297  Eleições Gerais Estaduais 2018    RO    RO   \n",
       "1  Eleição Ordinária         297  Eleições Gerais Estaduais 2018    RO    RO   \n",
       "2  Eleição Ordinária         297  Eleições Gerais Estaduais 2018    RO    RO   \n",
       "3  Eleição Ordinária         297  Eleições Gerais Estaduais 2018    RO    RO   \n",
       "4  Eleição Ordinária         297  Eleições Gerais Estaduais 2018    RO    RO   \n",
       "\n",
       "      NM_UE  SQ_CANDIDATO                  DS_MOTIVO_CASSACAO  \n",
       "0  RONDÔNIA  220000607216  Ausência de requisito de registro   \n",
       "1  RONDÔNIA  220000621047  Ausência de requisito de registro   \n",
       "2  RONDÔNIA  220000621054  Ausência de requisito de registro   \n",
       "3  RONDÔNIA  220000625853  Ausência de requisito de registro   \n",
       "4  RONDÔNIA  220000625864  Ausência de requisito de registro   "
      ]
     },
     "execution_count": 13,
     "metadata": {},
     "output_type": "execute_result"
    }
   ],
   "source": [
    "cassacoes_2018.reset_index().head()"
   ]
  },
  {
   "cell_type": "code",
   "execution_count": null,
   "metadata": {},
   "outputs": [],
   "source": []
  },
  {
   "cell_type": "code",
   "execution_count": 1,
   "metadata": {},
   "outputs": [],
   "source": [
    "# Acessa base já pronta com todos candidatos"
   ]
  },
  {
   "cell_type": "code",
   "execution_count": 14,
   "metadata": {},
   "outputs": [],
   "source": [
    "todos_candidatos = pd.read_excel('/home/reinaldo/Documentos/Code/ti/repo/resultados/candidatos_2018_todos.xlsx',sheet_name='Sheet1', converters={'cpf': lambda x: str(x), 'sequencial': lambda x: str(x)\n",
    "                                                                                                  })"
   ]
  },
  {
   "cell_type": "code",
   "execution_count": 15,
   "metadata": {},
   "outputs": [
    {
     "name": "stdout",
     "output_type": "stream",
     "text": [
      "<class 'pandas.core.frame.DataFrame'>\n",
      "Int64Index: 28966 entries, 1 to 460\n",
      "Data columns (total 16 columns):\n",
      "uf                      28966 non-null object\n",
      "cargo                   28966 non-null object\n",
      "sequencial              28966 non-null object\n",
      "numero_urna             28966 non-null int64\n",
      "nome_completo           28966 non-null object\n",
      "nome_urna               28966 non-null object\n",
      "cpf                     28966 non-null object\n",
      "e_mail                  28966 non-null object\n",
      "situacao_candidatura    28966 non-null object\n",
      "partido_eleicao         28966 non-null object\n",
      "uf_nascimento           28966 non-null object\n",
      "municipio_nascimento    28966 non-null object\n",
      "data_nascimento         28966 non-null object\n",
      "titulo_eleitor          28966 non-null int64\n",
      "ocupacao                28966 non-null object\n",
      "reeleicao               28966 non-null object\n",
      "dtypes: int64(2), object(14)\n",
      "memory usage: 3.8+ MB\n"
     ]
    }
   ],
   "source": [
    "todos_candidatos.info()"
   ]
  },
  {
   "cell_type": "code",
   "execution_count": null,
   "metadata": {},
   "outputs": [],
   "source": []
  },
  {
   "cell_type": "code",
   "execution_count": null,
   "metadata": {},
   "outputs": [],
   "source": [
    "# Une pelo código sequencial do TSE"
   ]
  },
  {
   "cell_type": "code",
   "execution_count": 16,
   "metadata": {},
   "outputs": [],
   "source": [
    "checa_cassacoes = pd.merge(cassacoes_2018, todos_candidatos,  how='left', left_on='SQ_CANDIDATO',\n",
    "                 right_on = 'sequencial')"
   ]
  },
  {
   "cell_type": "code",
   "execution_count": 17,
   "metadata": {},
   "outputs": [
    {
     "name": "stdout",
     "output_type": "stream",
     "text": [
      "<class 'pandas.core.frame.DataFrame'>\n",
      "Int64Index: 2927 entries, 0 to 2926\n",
      "Data columns (total 28 columns):\n",
      "DT_GERACAO              2927 non-null object\n",
      "HH_GERACAO              2927 non-null object\n",
      "ANO_ELEICAO             2927 non-null int64\n",
      "CD_TIPO_ELEICAO         2927 non-null int64\n",
      "NM_TIPO_ELEICAO         2927 non-null object\n",
      "CD_ELEICAO              2927 non-null int64\n",
      "DS_ELEICAO              2927 non-null object\n",
      "SG_UF                   2927 non-null object\n",
      "SG_UE                   2927 non-null object\n",
      "NM_UE                   2927 non-null object\n",
      "SQ_CANDIDATO            2927 non-null object\n",
      "DS_MOTIVO_CASSACAO      2927 non-null object\n",
      "uf                      2889 non-null object\n",
      "cargo                   2889 non-null object\n",
      "sequencial              2889 non-null object\n",
      "numero_urna             2889 non-null float64\n",
      "nome_completo           2889 non-null object\n",
      "nome_urna               2889 non-null object\n",
      "cpf                     2889 non-null object\n",
      "e_mail                  2889 non-null object\n",
      "situacao_candidatura    2889 non-null object\n",
      "partido_eleicao         2889 non-null object\n",
      "uf_nascimento           2889 non-null object\n",
      "municipio_nascimento    2889 non-null object\n",
      "data_nascimento         2889 non-null object\n",
      "titulo_eleitor          2889 non-null float64\n",
      "ocupacao                2889 non-null object\n",
      "reeleicao               2889 non-null object\n",
      "dtypes: float64(2), int64(3), object(23)\n",
      "memory usage: 663.1+ KB\n"
     ]
    }
   ],
   "source": [
    "checa_cassacoes.info()"
   ]
  },
  {
   "cell_type": "code",
   "execution_count": 18,
   "metadata": {},
   "outputs": [],
   "source": [
    "checa_cassacoes.to_excel('resultados/cassacoes_2018_todos.xlsx',sheet_name='Sheet1')"
   ]
  },
  {
   "cell_type": "code",
   "execution_count": null,
   "metadata": {},
   "outputs": [],
   "source": []
  }
 ],
 "metadata": {
  "kernelspec": {
   "display_name": "Python 3",
   "language": "python",
   "name": "python3"
  },
  "language_info": {
   "codemirror_mode": {
    "name": "ipython",
    "version": 3
   },
   "file_extension": ".py",
   "mimetype": "text/x-python",
   "name": "python",
   "nbconvert_exporter": "python",
   "pygments_lexer": "ipython3",
   "version": "3.6.2"
  }
 },
 "nbformat": 4,
 "nbformat_minor": 2
}
